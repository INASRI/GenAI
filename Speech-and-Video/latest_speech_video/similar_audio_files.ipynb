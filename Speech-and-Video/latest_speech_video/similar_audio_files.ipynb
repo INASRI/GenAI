{
  "nbformat": 4,
  "nbformat_minor": 0,
  "metadata": {
    "colab": {
      "provenance": [],
      "machine_shape": "hm",
      "gpuType": "A100"
    },
    "kernelspec": {
      "name": "python3",
      "display_name": "Python 3"
    },
    "language_info": {
      "name": "python"
    },
    "accelerator": "GPU"
  },
  "cells": [
    {
      "cell_type": "code",
      "execution_count": null,
      "metadata": {
        "id": "wKFTWe5BCih5"
      },
      "outputs": [],
      "source": [
        "!pip install torch torchaudio transformers faiss-cpu librosa tqdm"
      ]
    },
    {
      "cell_type": "code",
      "source": [
        "import os\n",
        "import requests\n",
        "from tqdm import tqdm"
      ],
      "metadata": {
        "id": "0-oX2s_7DEdZ"
      },
      "execution_count": null,
      "outputs": []
    },
    {
      "cell_type": "code",
      "source": [
        "AUDIO_URLS = [\n",
        "    \"https://www2.cs.uic.edu/~i101/SoundFiles/StarWars60.wav\",\n",
        "    \"https://www2.cs.uic.edu/~i101/SoundFiles/BabyElephantWalk60.wav\",\n",
        "    \"https://www2.cs.uic.edu/~i101/SoundFiles/CantinaBand60.wav\",\n",
        "]\n",
        "\n",
        "os.makedirs(\"audios\", exist_ok=True)\n",
        "audio_paths = []\n",
        "\n",
        "for i, url in enumerate(tqdm(AUDIO_URLS, desc=\"Downloading audio files\")):\n",
        "    response = requests.get(url)\n",
        "    if response.status_code == 200:\n",
        "        path = f\"audios/audio_{i}.wav\"\n",
        "        with open(path, \"wb\") as f:\n",
        "            f.write(response.content)\n",
        "        audio_paths.append(path)"
      ],
      "metadata": {
        "id": "xScxNc7FYlWY"
      },
      "execution_count": null,
      "outputs": []
    },
    {
      "cell_type": "code",
      "source": [
        "import torch\n",
        "import torchaudio\n",
        "from transformers import Wav2Vec2Model, Wav2Vec2Processor\n",
        "\n",
        "device = \"cuda\" if torch.cuda.is_available() else \"cpu\"\n",
        "model_name = \"facebook/wav2vec2-base-960h\"\n",
        "\n",
        "processor = Wav2Vec2Processor.from_pretrained(model_name)\n",
        "model = Wav2Vec2Model.from_pretrained(model_name).to(device)\n"
      ],
      "metadata": {
        "id": "6FZ3nqERC05H"
      },
      "execution_count": null,
      "outputs": []
    },
    {
      "cell_type": "code",
      "source": [
        "import librosa\n",
        "import numpy as np\n",
        "\n",
        "def get_audio_embedding(path):\n",
        "    waveform, sr = librosa.load(path, sr=16000)\n",
        "    inputs = processor(waveform, sampling_rate=16000, return_tensors=\"pt\", padding=True).to(device)\n",
        "    with torch.no_grad():\n",
        "        outputs = model(**inputs)\n",
        "        hidden_states = outputs.last_hidden_state  # shape: (batch, time, features)\n",
        "        embedding = hidden_states.mean(dim=1).squeeze().cpu().numpy()  # mean pooling\n",
        "    return embedding\n"
      ],
      "metadata": {
        "id": "Hemy4863C3tI"
      },
      "execution_count": null,
      "outputs": []
    },
    {
      "cell_type": "code",
      "source": [
        "import faiss\n",
        "\n",
        "embeddings = []\n",
        "for path in tqdm(audio_paths, desc=\"Embedding audios\"):\n",
        "    vec = get_audio_embedding(path)\n",
        "    embeddings.append(vec)\n",
        "\n",
        "embeddings = np.stack(embeddings).astype(\"float32\")\n",
        "\n",
        "dimension = embeddings.shape[1]\n",
        "index = faiss.IndexFlatL2(dimension)\n",
        "index.add(embeddings)\n",
        "\n",
        "faiss.write_index(index, \"audio_index.faiss\")\n",
        "with open(\"audio_paths.txt\", \"w\") as f:\n",
        "    f.writelines([p + \"\\n\" for p in audio_paths])\n"
      ],
      "metadata": {
        "id": "NtMoUQvUC57K"
      },
      "execution_count": null,
      "outputs": []
    },
    {
      "cell_type": "code",
      "source": [
        "def search_similar_audio(query_path, top_k=3):\n",
        "    index = faiss.read_index(\"audio_index.faiss\")\n",
        "    with open(\"audio_paths.txt\", \"r\") as f:\n",
        "        paths = [line.strip() for line in f.readlines()]\n",
        "\n",
        "    query_vec = get_audio_embedding(query_path).astype(\"float32\").reshape(1, -1)\n",
        "    distances, indices = index.search(query_vec, top_k)\n",
        "\n",
        "    print(f\"Query audio: {query_path}\")\n",
        "    print(\"Top matches:\")\n",
        "    for idx, dist in zip(indices[0], distances[0]):\n",
        "        print(f\"{paths[idx]} - Distance: {dist}\")\n"
      ],
      "metadata": {
        "id": "ISKwMMyaC9PT"
      },
      "execution_count": null,
      "outputs": []
    },
    {
      "cell_type": "code",
      "source": [
        "search_similar_audio(\"audios/audio_1.wav\")\n"
      ],
      "metadata": {
        "id": "DCBSN3akC-AN"
      },
      "execution_count": null,
      "outputs": []
    }
  ]
}