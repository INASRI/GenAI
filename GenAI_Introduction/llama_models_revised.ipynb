{
  "nbformat": 4,
  "nbformat_minor": 0,
  "metadata": {
    "colab": {
      "provenance": []
    },
    "kernelspec": {
      "name": "python3",
      "display_name": "Python 3"
    },
    "language_info": {
      "name": "python"
    }
  },
  "cells": [
    {
      "cell_type": "code",
      "execution_count": 1,
      "metadata": {
        "colab": {
          "base_uri": "https://localhost:8080/"
        },
        "id": "sgRHNW5BGlS9",
        "outputId": "cc3b7b35-4d75-425a-8451-1f1899c5b228"
      },
      "outputs": [
        {
          "output_type": "stream",
          "name": "stdout",
          "text": [
            "Found 70 models by 'meta-llama':\n",
            "\n",
            "- meta-llama/Llama-3.1-8B-Instruct\n",
            "- meta-llama/Llama-3.2-3B-Instruct\n",
            "- meta-llama/Meta-Llama-3-8B-Instruct\n",
            "- meta-llama/Llama-3.3-70B-Instruct\n",
            "- meta-llama/Llama-2-7b\n",
            "- meta-llama/Llama-3.1-8B\n",
            "- meta-llama/Llama-3.2-1B-Instruct\n",
            "- meta-llama/Llama-4-Scout-17B-16E-Instruct\n",
            "- meta-llama/Llama-2-7b-chat-hf\n",
            "- meta-llama/Meta-Llama-3-8B\n",
            "- meta-llama/Llama-3.2-1B\n",
            "- meta-llama/Llama-3.2-11B-Vision-Instruct\n",
            "- meta-llama/Llama-3.2-3B\n",
            "- meta-llama/Llama-4-Maverick-17B-128E-Instruct\n",
            "- meta-llama/Llama-4-Scout-17B-16E\n",
            "- meta-llama/Llama-2-7b-hf\n",
            "- meta-llama/Llama-2-7b-chat\n",
            "- meta-llama/Llama-2-13b-chat-hf\n",
            "- meta-llama/CodeLlama-7b-hf\n",
            "- meta-llama/Llama-3.1-70B\n",
            "- meta-llama/Llama-Prompt-Guard-2-86M\n",
            "- meta-llama/Llama-2-13b-chat\n",
            "- meta-llama/Llama-2-70b-chat-hf\n",
            "- meta-llama/LlamaGuard-7b\n",
            "- meta-llama/CodeLlama-13b-hf\n",
            "- meta-llama/Meta-Llama-3-70B\n",
            "- meta-llama/Meta-Llama-3-70B-Instruct\n",
            "- meta-llama/Llama-3.1-70B-Instruct\n",
            "- meta-llama/Llama-3.1-405B-Instruct\n",
            "- meta-llama/Prompt-Guard-86M\n",
            "- meta-llama/Llama-Guard-3-8B\n",
            "- meta-llama/Llama-4-Maverick-17B-128E\n",
            "- meta-llama/Llama-Guard-4-12B\n",
            "- meta-llama/Llama-Prompt-Guard-2-22M\n",
            "- meta-llama/Llama-2-13b\n",
            "- meta-llama/Llama-2-70b\n",
            "- meta-llama/Llama-2-70b-hf\n",
            "- meta-llama/Llama-2-13b-hf\n",
            "- meta-llama/Llama-2-70b-chat\n",
            "- meta-llama/CodeLlama-7b-Python-hf\n",
            "- meta-llama/CodeLlama-7b-Instruct-hf\n",
            "- meta-llama/CodeLlama-13b-Python-hf\n",
            "- meta-llama/CodeLlama-13b-Instruct-hf\n",
            "- meta-llama/CodeLlama-70b-hf\n",
            "- meta-llama/CodeLlama-70b-Python-hf\n",
            "- meta-llama/CodeLlama-70b-Instruct-hf\n",
            "- meta-llama/CodeLlama-34b-hf\n",
            "- meta-llama/CodeLlama-34b-Python-hf\n",
            "- meta-llama/CodeLlama-34b-Instruct-hf\n",
            "- meta-llama/Meta-Llama-Guard-2-8B\n",
            "- meta-llama/Llama-3.1-405B\n",
            "- meta-llama/Llama-3.1-405B-Instruct-FP8\n",
            "- meta-llama/Llama-3.1-405B-FP8\n",
            "- meta-llama/Llama-Guard-3-8B-INT8\n",
            "- meta-llama/Llama-3.2-11B-Vision\n",
            "- meta-llama/Llama-3.2-90B-Vision\n",
            "- meta-llama/Llama-3.2-90B-Vision-Instruct\n",
            "- meta-llama/Llama-Guard-3-11B-Vision\n",
            "- meta-llama/Llama-Guard-3-1B\n",
            "- meta-llama/Llama-Guard-3-1B-INT4\n",
            "- meta-llama/Llama-3.2-1B-Instruct-QLORA_INT4_EO8\n",
            "- meta-llama/Llama-3.2-1B-Instruct-SpinQuant_INT4_EO8\n",
            "- meta-llama/Llama-3.2-3B-Instruct-QLORA_INT4_EO8\n",
            "- meta-llama/Llama-3.2-3B-Instruct-SpinQuant_INT4_EO8\n",
            "- meta-llama/Llama-4-Maverick-17B-128E-Instruct-FP8\n",
            "- meta-llama/Llama-4-Scout-17B-16E-Original\n",
            "- meta-llama/Llama-4-Scout-17B-16E-Instruct-Original\n",
            "- meta-llama/Llama-4-Maverick-17B-128E-Original\n",
            "- meta-llama/Llama-4-Maverick-17B-128E-Instruct-Original\n",
            "- meta-llama/Llama-4-Maverick-17B-128E-Instruct-FP8-Original\n"
          ]
        },
        {
          "output_type": "stream",
          "name": "stderr",
          "text": [
            "/usr/local/lib/python3.11/dist-packages/huggingface_hub/utils/_auth.py:94: UserWarning: \n",
            "The secret `HF_TOKEN` does not exist in your Colab secrets.\n",
            "To authenticate with the Hugging Face Hub, create a token in your settings tab (https://huggingface.co/settings/tokens), set it as secret in your Google Colab and restart your session.\n",
            "You will be able to reuse this secret in all of your notebooks.\n",
            "Please note that authentication is recommended but still optional to access public models or datasets.\n",
            "  warnings.warn(\n"
          ]
        }
      ],
      "source": [
        "from huggingface_hub import list_models\n",
        "\n",
        "def list_meta_llama_models():\n",
        "    \"\"\"\n",
        "    Lists all models published under the 'meta-llama' organization on Hugging Face.\n",
        "    \"\"\"\n",
        "    try:\n",
        "        models_generator = list_models(author=\"meta-llama\")\n",
        "        models_list = list(models_generator) # Convert generator to list\n",
        "\n",
        "        if not models_list:\n",
        "            print(\"No models found under 'meta-llama'.\")\n",
        "            return\n",
        "\n",
        "        print(f\"Found {len(models_list)} models by 'meta-llama':\\n\")\n",
        "        for model in models_list:\n",
        "            print(f\"- {model.modelId}\")\n",
        "    except Exception as e:\n",
        "        print(f\"Error occurred: {e}\")\n",
        "\n",
        "if __name__ == \"__main__\":\n",
        "    list_meta_llama_models()"
      ]
    }
  ]
}