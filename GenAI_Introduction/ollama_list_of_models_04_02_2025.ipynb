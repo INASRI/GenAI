{
  "nbformat": 4,
  "nbformat_minor": 0,
  "metadata": {
    "colab": {
      "provenance": []
    },
    "kernelspec": {
      "name": "python3",
      "display_name": "Python 3"
    },
    "language_info": {
      "name": "python"
    }
  },
  "cells": [
    {
      "cell_type": "code",
      "execution_count": 1,
      "metadata": {
        "colab": {
          "base_uri": "https://localhost:8080/"
        },
        "id": "iDbw1LArQgFn",
        "outputId": "5dabf346-1469-4dc4-81c1-0c6dc696a096"
      },
      "outputs": [
        {
          "output_type": "stream",
          "name": "stdout",
          "text": [
            "meta-llama/Meta-Llama-3.1-8B-Instruct\n",
            "meta-llama/Meta-Llama-3.1-405B\n",
            "meta-llama/Meta-Llama-3.1-405B-Instruct\n",
            "meta-llama/Meta-Llama-3.1-8B\n",
            "meta-llama/Meta-Llama-3.1-70B-Instruct\n"
          ]
        }
      ],
      "source": [
        "import requests\n",
        "def search_models(query, limit=5):\n",
        "  url = f\"https://huggingface.co/api/models?search={query}&limit={limit}\"\n",
        "  response = requests.get(url)\n",
        "  return response.json()\n",
        "\n",
        "models = search_models(\"llama\")\n",
        "for m in models:\n",
        "  print(m['id'])"
      ]
    }
  ]
}