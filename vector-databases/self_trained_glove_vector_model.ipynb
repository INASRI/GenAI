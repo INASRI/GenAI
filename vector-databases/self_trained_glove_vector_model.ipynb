{
  "nbformat": 4,
  "nbformat_minor": 0,
  "metadata": {
    "colab": {
      "provenance": []
    },
    "kernelspec": {
      "name": "python3",
      "display_name": "Python 3"
    },
    "language_info": {
      "name": "python"
    }
  },
  "cells": [
    {
      "cell_type": "code",
      "source": [
        "!pip install mittens numpy scipy scikit-learn"
      ],
      "metadata": {
        "colab": {
          "base_uri": "https://localhost:8080/"
        },
        "id": "CkWd_YTd5oeW",
        "outputId": "7ddc96e4-6f6b-48d3-91c9-82d5d4bcad0d"
      },
      "execution_count": 2,
      "outputs": [
        {
          "output_type": "stream",
          "name": "stdout",
          "text": [
            "Collecting mittens\n",
            "  Downloading mittens-0.2-py3-none-any.whl.metadata (377 bytes)\n",
            "Requirement already satisfied: numpy in /usr/local/lib/python3.11/dist-packages (2.0.2)\n",
            "Requirement already satisfied: scipy in /usr/local/lib/python3.11/dist-packages (1.15.3)\n",
            "Requirement already satisfied: scikit-learn in /usr/local/lib/python3.11/dist-packages (1.6.1)\n",
            "Requirement already satisfied: joblib>=1.2.0 in /usr/local/lib/python3.11/dist-packages (from scikit-learn) (1.5.1)\n",
            "Requirement already satisfied: threadpoolctl>=3.1.0 in /usr/local/lib/python3.11/dist-packages (from scikit-learn) (3.6.0)\n",
            "Downloading mittens-0.2-py3-none-any.whl (15 kB)\n",
            "Installing collected packages: mittens\n",
            "Successfully installed mittens-0.2\n"
          ]
        }
      ]
    },
    {
      "cell_type": "code",
      "source": [
        "from mittens import GloVe\n",
        "import numpy as np\n",
        "from sklearn.feature_extraction.text import CountVectorizer\n",
        "import pandas as pd"
      ],
      "metadata": {
        "id": "igXus06z5qjh"
      },
      "execution_count": 3,
      "outputs": []
    },
    {
      "cell_type": "code",
      "execution_count": 4,
      "metadata": {
        "id": "SO2bUOiE5lNV"
      },
      "outputs": [],
      "source": [
        "corpus = [\n",
        "    \"I like natural language processing\",\n",
        "    \"Natural language processing is fun\",\n",
        "    \"I enjoy learning NLP\",\n",
        "]\n",
        "\n",
        "# Tokenize and build co-occurrence matrix\n",
        "vectorizer = CountVectorizer(token_pattern=r\"(?u)\\b\\w+\\b\")\n",
        "X = vectorizer.fit_transform(corpus)\n",
        "Xc = (X.T * X)  # co-occurrence counts matrix\n",
        "Xc.setdiag(0)   # remove self-cooccurrence\n",
        "coocc = Xc.toarray()\n",
        "vocab = vectorizer.get_feature_names_out()\n",
        "\n",
        "#print(\"Vocabulary dict:\", vectorizer.vocabulary_)\n",
        "#print (\"vectorizer.fit_transform(corpus) :\" ,X)\n",
        "#print (\"(X.T * X)  # co-occurrence counts matrix : \" ,Xc)\n",
        "#print (coocc)\n",
        "#print (vocab)"
      ]
    },
    {
      "cell_type": "code",
      "source": [
        "df = pd.DataFrame(coocc, index=vocab, columns=vocab)\n",
        "#print(df)\n",
        "\n",
        "# Train model\n",
        "glove = GloVe(n=50, max_iter=300)\n",
        "embeddings = glove.fit(coocc)\n",
        "\n",
        "# print co-occurrence counts matrix\n",
        "# print (coocc)\n",
        "# Word-to-index map\n",
        "word2idx = {w: i for i, w in enumerate(vocab)}\n",
        "print(\"Embedding for 'nlp':\", embeddings[word2idx['nlp']])"
      ],
      "metadata": {
        "colab": {
          "base_uri": "https://localhost:8080/"
        },
        "id": "69LYIKnT5wpV",
        "outputId": "5ff4776e-a3e7-4831-c0a3-99fb49937cff"
      },
      "execution_count": 5,
      "outputs": [
        {
          "output_type": "stream",
          "name": "stderr",
          "text": [
            "WARNING:tensorflow:From /usr/local/lib/python3.11/dist-packages/tensorflow/python/training/adagrad.py:138: calling Constant.__init__ (from tensorflow.python.ops.init_ops) with dtype is deprecated and will be removed in a future version.\n",
            "Instructions for updating:\n",
            "Call initializer instance with the dtype argument instead of passing it to the constructor\n",
            "Iteration 170: loss: 0.00010203180863754824"
          ]
        },
        {
          "output_type": "stream",
          "name": "stdout",
          "text": [
            "Embedding for 'nlp': [ 0.13347372  0.03855942 -0.21483138  0.25756565  0.37922263 -0.0954117\n",
            " -0.23450708  0.4598598  -0.5081506  -0.3724547   0.2592125   0.43255985\n",
            " -0.24060193 -0.19817007 -0.22653884 -0.10861997 -0.30368537  0.08463161\n",
            " -0.13399787 -0.23786098  0.28418553  0.2624742  -0.4984951   0.43194777\n",
            "  0.5510646   0.08833252  0.15175131 -0.28358462 -0.31304884 -0.09627071\n",
            " -0.5968801  -0.02282389 -0.06304091  0.30408618 -0.259569    0.01585048\n",
            " -0.0636243   0.04315694 -0.07975938 -0.46401793 -0.23671474 -0.212736\n",
            "  0.4207473   0.0460019  -0.2876402  -0.07888173 -0.01720703  0.3748926\n",
            " -0.04675624  0.23356253]\n"
          ]
        }
      ]
    }
  ]
}