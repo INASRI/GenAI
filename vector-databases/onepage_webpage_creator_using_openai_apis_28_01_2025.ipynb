{
  "nbformat": 4,
  "nbformat_minor": 0,
  "metadata": {
    "colab": {
      "provenance": []
    },
    "kernelspec": {
      "name": "python3",
      "display_name": "Python 3"
    },
    "language_info": {
      "name": "python"
    }
  },
  "cells": [
    {
      "cell_type": "code",
      "source": [
        "from openai import OpenAI\n",
        "client = OpenAI(api_key=\"\")"
      ],
      "metadata": {
        "id": "N4WV3Ue3G5Rk"
      },
      "execution_count": 1,
      "outputs": []
    },
    {
      "cell_type": "code",
      "execution_count": 2,
      "metadata": {
        "id": "wg7WUNvNDbQA"
      },
      "outputs": [],
      "source": [
        "response = client.chat.completions.create(\n",
        "  model=\"gpt-4o\",\n",
        "  messages=[\n",
        "    {\n",
        "      \"role\": \"user\",\n",
        "      \"content\": \"Make a single page website that shows off different neat javascript features for drop-downs and things to display information. The website should be an HTML file with embedded javascript and CSS.\"\n",
        "    }\n",
        "  ],\n",
        "  temperature=1,\n",
        "  max_tokens=2048,\n",
        "  top_p=1\n",
        ")"
      ]
    },
    {
      "cell_type": "code",
      "source": [
        "print(response)"
      ],
      "metadata": {
        "colab": {
          "base_uri": "https://localhost:8080/"
        },
        "id": "T0mjUgqwG-wy",
        "outputId": "59663319-34ab-4a48-8cf6-de89f98c995e"
      },
      "execution_count": 3,
      "outputs": [
        {
          "output_type": "stream",
          "name": "stdout",
          "text": [
            "ChatCompletion(id='chatcmpl-AZyoKa01xBKMw2PiqCeNwt9QeoadZ', choices=[Choice(finish_reason='stop', index=0, logprobs=None, message=ChatCompletionMessage(content='Creating a single-page website that showcases different JavaScript features for drop-downs and information display involves using HTML for structure, CSS for styling, and JavaScript for functionality. Here\\'s a simple example of how you might set up such a page:\\n\\n```html\\n<!DOCTYPE html>\\n<html lang=\"en\">\\n<head>\\n    <meta charset=\"UTF-8\">\\n    <meta name=\"viewport\" content=\"width=device-width, initial-scale=1.0\">\\n    <title>JavaScript Features Showcase</title>\\n    <style>\\n        body {\\n            font-family: Arial, sans-serif;\\n            margin: 0;\\n            padding: 0;\\n            box-sizing: border-box;\\n            display: flex;\\n            flex-direction: column;\\n            align-items: center;\\n            padding: 20px;\\n            background-color: #f0f0f0;\\n        }\\n        h1 {\\n            margin: 20px;\\n        }\\n        .section {\\n            width: 80%;\\n            max-width: 500px;\\n            background: #fff;\\n            border-radius: 5px;\\n            box-shadow: 0 2px 5px rgba(0, 0, 0, 0.1);\\n            margin-bottom: 30px;\\n            overflow: hidden;\\n        }\\n        .section-header {\\n            background: #007BFF;\\n            color: white;\\n            padding: 15px;\\n            cursor: pointer;\\n            user-select: none;\\n        }\\n        .section-content {\\n            padding: 15px;\\n            display: none;\\n        }\\n        .accordion button {\\n            background: #007BFF;\\n            color: #fff;\\n            border: none;\\n            padding: 10px 20px;\\n            cursor: pointer;\\n            border-radius: 5px;\\n            margin: 5px 0;\\n        }\\n        .accordion-content {\\n            display: none;\\n            background: #ececec;\\n            padding: 10px;\\n            margin: 5px 0;\\n            border-radius: 5px;\\n        }\\n    </style>\\n</head>\\n<body>\\n    <h1>JavaScript Features Showcase</h1>\\n\\n    <!-- Collapsible Section -->\\n    <div class=\"section\" id=\"collapsible-section\">\\n        <div class=\"section-header\">Click to Toggle Section</div>\\n        <div class=\"section-content\">\\n            <p>This is a collapsible section. It uses JavaScript to show or hide this content when the header is clicked.</p>\\n        </div>\\n    </div>\\n\\n    <!-- Accordion -->\\n    <div class=\"section accordion\">\\n        <div class=\"section-header\">Accordion Example</div>\\n        <button onclick=\"toggleAccordion(1)\">Toggle Section 1</button>\\n        <div id=\"accordion-content-1\" class=\"accordion-content\">\\n            <p>This is the first accordion section.</p>\\n        </div>\\n        <button onclick=\"toggleAccordion(2)\">Toggle Section 2</button>\\n        <div id=\"accordion-content-2\" class=\"accordion-content\">\\n            <p>This is the second accordion section.</p>\\n        </div>\\n    </div>\\n\\n    <!-- Drop-down Button -->\\n    <div class=\"section\">\\n        <div class=\"section-header\">Drop-Down Example</div>\\n        <div class=\"section-content\">\\n            <div class=\"dropdown\">\\n                <button id=\"dropdown-button\">Toggle Drop-Down</button>\\n                <div id=\"dropdown-content\" class=\"accordion-content\">\\n                    <p>This is a drop-down menu content. It is shown when the button is clicked.</p>\\n                </div>\\n            </div>\\n        </div>\\n    </div>\\n\\n    <script>\\n        // Collapsible Section\\n        document.querySelector(\\'#collapsible-section .section-header\\').addEventListener(\\'click\\', function() {\\n            const content = document.querySelector(\\'#collapsible-section .section-content\\');\\n            content.style.display = content.style.display === \\'none\\' ? \\'block\\' : \\'none\\';\\n        });\\n\\n        // Accordion Function\\n        function toggleAccordion(section) {\\n            const content = document.getElementById(`accordion-content-${section}`);\\n            content.style.display = content.style.display === \\'none\\' ? \\'block\\' : \\'none\\';\\n        }\\n\\n        // Dropdown Button\\n        document.getElementById(\\'dropdown-button\\').addEventListener(\\'click\\', function() {\\n            const content = document.getElementById(\\'dropdown-content\\');\\n            content.style.display = content.style.display === \\'none\\' ? \\'block\\' : \\'none\\';\\n        });\\n    </script>\\n</body>\\n</html>\\n```\\n\\n### Explanation:\\n- **HTML**: The document is structured using divs for the main sections: a collapsible section, an accordion, and a drop-down.\\n- **CSS**: Styles are applied to make the sections visually distinct and to add basic interactions like hover effects.\\n- **JavaScript**: Keeping the code inline, the event listeners are used to toggle the display property of content areas, making them appear or disappear based on user interaction.\\n\\nThis example showcases several ways JavaScript can be used to enhance user interaction with simple UI components.', refusal=None, role='assistant', audio=None, function_call=None, tool_calls=None))], created=1733138600, model='gpt-4o-2024-08-06', object='chat.completion', service_tier=None, system_fingerprint='fp_831e067d82', usage=CompletionUsage(completion_tokens=1052, prompt_tokens=42, total_tokens=1094, completion_tokens_details=CompletionTokensDetails(accepted_prediction_tokens=0, audio_tokens=0, reasoning_tokens=0, rejected_prediction_tokens=0), prompt_tokens_details=PromptTokensDetails(audio_tokens=0, cached_tokens=0)))\n"
          ]
        }
      ]
    },
    {
      "cell_type": "code",
      "source": [
        "print(response.choices[0].message.content) # Use dot notation to access 'content'"
      ],
      "metadata": {
        "colab": {
          "base_uri": "https://localhost:8080/"
        },
        "id": "jSkWUxlOj9FJ",
        "outputId": "358cf238-2a66-45a7-c8cb-68f7526de8b8"
      },
      "execution_count": 4,
      "outputs": [
        {
          "output_type": "stream",
          "name": "stdout",
          "text": [
            "Creating a single-page website that showcases different JavaScript features for drop-downs and information display involves using HTML for structure, CSS for styling, and JavaScript for functionality. Here's a simple example of how you might set up such a page:\n",
            "\n",
            "```html\n",
            "<!DOCTYPE html>\n",
            "<html lang=\"en\">\n",
            "<head>\n",
            "    <meta charset=\"UTF-8\">\n",
            "    <meta name=\"viewport\" content=\"width=device-width, initial-scale=1.0\">\n",
            "    <title>JavaScript Features Showcase</title>\n",
            "    <style>\n",
            "        body {\n",
            "            font-family: Arial, sans-serif;\n",
            "            margin: 0;\n",
            "            padding: 0;\n",
            "            box-sizing: border-box;\n",
            "            display: flex;\n",
            "            flex-direction: column;\n",
            "            align-items: center;\n",
            "            padding: 20px;\n",
            "            background-color: #f0f0f0;\n",
            "        }\n",
            "        h1 {\n",
            "            margin: 20px;\n",
            "        }\n",
            "        .section {\n",
            "            width: 80%;\n",
            "            max-width: 500px;\n",
            "            background: #fff;\n",
            "            border-radius: 5px;\n",
            "            box-shadow: 0 2px 5px rgba(0, 0, 0, 0.1);\n",
            "            margin-bottom: 30px;\n",
            "            overflow: hidden;\n",
            "        }\n",
            "        .section-header {\n",
            "            background: #007BFF;\n",
            "            color: white;\n",
            "            padding: 15px;\n",
            "            cursor: pointer;\n",
            "            user-select: none;\n",
            "        }\n",
            "        .section-content {\n",
            "            padding: 15px;\n",
            "            display: none;\n",
            "        }\n",
            "        .accordion button {\n",
            "            background: #007BFF;\n",
            "            color: #fff;\n",
            "            border: none;\n",
            "            padding: 10px 20px;\n",
            "            cursor: pointer;\n",
            "            border-radius: 5px;\n",
            "            margin: 5px 0;\n",
            "        }\n",
            "        .accordion-content {\n",
            "            display: none;\n",
            "            background: #ececec;\n",
            "            padding: 10px;\n",
            "            margin: 5px 0;\n",
            "            border-radius: 5px;\n",
            "        }\n",
            "    </style>\n",
            "</head>\n",
            "<body>\n",
            "    <h1>JavaScript Features Showcase</h1>\n",
            "\n",
            "    <!-- Collapsible Section -->\n",
            "    <div class=\"section\" id=\"collapsible-section\">\n",
            "        <div class=\"section-header\">Click to Toggle Section</div>\n",
            "        <div class=\"section-content\">\n",
            "            <p>This is a collapsible section. It uses JavaScript to show or hide this content when the header is clicked.</p>\n",
            "        </div>\n",
            "    </div>\n",
            "\n",
            "    <!-- Accordion -->\n",
            "    <div class=\"section accordion\">\n",
            "        <div class=\"section-header\">Accordion Example</div>\n",
            "        <button onclick=\"toggleAccordion(1)\">Toggle Section 1</button>\n",
            "        <div id=\"accordion-content-1\" class=\"accordion-content\">\n",
            "            <p>This is the first accordion section.</p>\n",
            "        </div>\n",
            "        <button onclick=\"toggleAccordion(2)\">Toggle Section 2</button>\n",
            "        <div id=\"accordion-content-2\" class=\"accordion-content\">\n",
            "            <p>This is the second accordion section.</p>\n",
            "        </div>\n",
            "    </div>\n",
            "\n",
            "    <!-- Drop-down Button -->\n",
            "    <div class=\"section\">\n",
            "        <div class=\"section-header\">Drop-Down Example</div>\n",
            "        <div class=\"section-content\">\n",
            "            <div class=\"dropdown\">\n",
            "                <button id=\"dropdown-button\">Toggle Drop-Down</button>\n",
            "                <div id=\"dropdown-content\" class=\"accordion-content\">\n",
            "                    <p>This is a drop-down menu content. It is shown when the button is clicked.</p>\n",
            "                </div>\n",
            "            </div>\n",
            "        </div>\n",
            "    </div>\n",
            "\n",
            "    <script>\n",
            "        // Collapsible Section\n",
            "        document.querySelector('#collapsible-section .section-header').addEventListener('click', function() {\n",
            "            const content = document.querySelector('#collapsible-section .section-content');\n",
            "            content.style.display = content.style.display === 'none' ? 'block' : 'none';\n",
            "        });\n",
            "\n",
            "        // Accordion Function\n",
            "        function toggleAccordion(section) {\n",
            "            const content = document.getElementById(`accordion-content-${section}`);\n",
            "            content.style.display = content.style.display === 'none' ? 'block' : 'none';\n",
            "        }\n",
            "\n",
            "        // Dropdown Button\n",
            "        document.getElementById('dropdown-button').addEventListener('click', function() {\n",
            "            const content = document.getElementById('dropdown-content');\n",
            "            content.style.display = content.style.display === 'none' ? 'block' : 'none';\n",
            "        });\n",
            "    </script>\n",
            "</body>\n",
            "</html>\n",
            "```\n",
            "\n",
            "### Explanation:\n",
            "- **HTML**: The document is structured using divs for the main sections: a collapsible section, an accordion, and a drop-down.\n",
            "- **CSS**: Styles are applied to make the sections visually distinct and to add basic interactions like hover effects.\n",
            "- **JavaScript**: Keeping the code inline, the event listeners are used to toggle the display property of content areas, making them appear or disappear based on user interaction.\n",
            "\n",
            "This example showcases several ways JavaScript can be used to enhance user interaction with simple UI components.\n"
          ]
        }
      ]
    }
  ]
}