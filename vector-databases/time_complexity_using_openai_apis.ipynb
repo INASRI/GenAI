{
  "nbformat": 4,
  "nbformat_minor": 0,
  "metadata": {
    "colab": {
      "provenance": []
    },
    "kernelspec": {
      "name": "python3",
      "display_name": "Python 3"
    },
    "language_info": {
      "name": "python"
    }
  },
  "cells": [
    {
      "cell_type": "code",
      "source": [
        "from openai import OpenAI\n",
        "client = OpenAI(api_key=\"\")"
      ],
      "metadata": {
        "id": "67CD-JjCmH1R"
      },
      "execution_count": 2,
      "outputs": []
    },
    {
      "cell_type": "code",
      "execution_count": 3,
      "metadata": {
        "id": "nJPVLVRumD3i"
      },
      "outputs": [],
      "source": [
        "response = client.chat.completions.create(\n",
        "  model=\"gpt-4o\",\n",
        "  messages=[\n",
        "    {\n",
        "      \"role\": \"system\",\n",
        "      \"content\": \"You will be provided with Python code, and your task is to calculate its time complexity.\"\n",
        "    },\n",
        "    {\n",
        "      \"role\": \"user\",\n",
        "      \"content\": \"def foo(n, k):\\n        accum = 0\\n        for i in range(n):\\n            for l in range(k):\\n                accum += i\\n        return accum\"\n",
        "    }\n",
        "  ],\n",
        "  temperature=1,\n",
        "  max_tokens=256,\n",
        "  top_p=1\n",
        ")"
      ]
    },
    {
      "cell_type": "code",
      "source": [
        "print(response)"
      ],
      "metadata": {
        "colab": {
          "base_uri": "https://localhost:8080/"
        },
        "id": "4qWXNcGUm2ih",
        "outputId": "8801d5bb-a0c1-41dc-d914-2a5a4b68363c"
      },
      "execution_count": 4,
      "outputs": [
        {
          "output_type": "stream",
          "name": "stdout",
          "text": [
            "ChatCompletion(id='chatcmpl-AZwbm2FsnV32bx7wJ7ePtu3WIryOa', choices=[Choice(finish_reason='stop', index=0, logprobs=None, message=ChatCompletionMessage(content=\"To determine the time complexity of the given function `foo(n, k)`, we need to analyze the nested loops within the function.\\n\\nHere's the breakdown:\\n\\n1. The outer loop iterates `n` times (`for i in range(n)`).\\n2. The inner loop iterates `k` times for each iteration of the outer loop (`for l in range(k)`).\\n\\nInside the inner loop, there is a constant-time operation: `accum += i`.\\n\\nTherefore, for each execution of the outer loop, the inner loop results in `k` iterations, each performing a constant-time operation. \\n\\nThe total number of iterations for the inner loop across the entire execution of the function is `n * k`, since the inner loop runs `k` times for each of the `n` iterations of the outer loop.\\n\\nThe time complexity, therefore, is dominated by the two nested loops, leading to a time complexity of:\\n\\n\\\\[ O(n \\\\cdot k) \\\\]\\n\\nThus, the time complexity of the function `foo(n, k)` is \\\\( O(n \\\\cdot k) \\\\).\", refusal=None, role='assistant', audio=None, function_call=None, tool_calls=None))], created=1733130134, model='gpt-4o-2024-08-06', object='chat.completion', service_tier=None, system_fingerprint='fp_831e067d82', usage=CompletionUsage(completion_tokens=222, prompt_tokens=63, total_tokens=285, completion_tokens_details=CompletionTokensDetails(accepted_prediction_tokens=0, audio_tokens=0, reasoning_tokens=0, rejected_prediction_tokens=0), prompt_tokens_details=PromptTokensDetails(audio_tokens=0, cached_tokens=0)))\n"
          ]
        }
      ]
    },
    {
      "cell_type": "code",
      "source": [
        "print(response.choices[0].message.content) # Use dot notation to access 'content'"
      ],
      "metadata": {
        "colab": {
          "base_uri": "https://localhost:8080/"
        },
        "id": "j4RXDfSVm5KY",
        "outputId": "71110b7d-ae90-44c0-de61-fabf7a148ad5"
      },
      "execution_count": 5,
      "outputs": [
        {
          "output_type": "stream",
          "name": "stdout",
          "text": [
            "To determine the time complexity of the given function `foo(n, k)`, we need to analyze the nested loops within the function.\n",
            "\n",
            "Here's the breakdown:\n",
            "\n",
            "1. The outer loop iterates `n` times (`for i in range(n)`).\n",
            "2. The inner loop iterates `k` times for each iteration of the outer loop (`for l in range(k)`).\n",
            "\n",
            "Inside the inner loop, there is a constant-time operation: `accum += i`.\n",
            "\n",
            "Therefore, for each execution of the outer loop, the inner loop results in `k` iterations, each performing a constant-time operation. \n",
            "\n",
            "The total number of iterations for the inner loop across the entire execution of the function is `n * k`, since the inner loop runs `k` times for each of the `n` iterations of the outer loop.\n",
            "\n",
            "The time complexity, therefore, is dominated by the two nested loops, leading to a time complexity of:\n",
            "\n",
            "\\[ O(n \\cdot k) \\]\n",
            "\n",
            "Thus, the time complexity of the function `foo(n, k)` is \\( O(n \\cdot k) \\).\n"
          ]
        }
      ]
    }
  ]
}