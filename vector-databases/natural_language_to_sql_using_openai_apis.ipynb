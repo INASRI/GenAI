{
  "nbformat": 4,
  "nbformat_minor": 0,
  "metadata": {
    "colab": {
      "provenance": []
    },
    "kernelspec": {
      "name": "python3",
      "display_name": "Python 3"
    },
    "language_info": {
      "name": "python"
    }
  },
  "cells": [
    {
      "cell_type": "code",
      "source": [
        "from openai import OpenAI\n",
        "client = OpenAI(api_key=\"\")"
      ],
      "metadata": {
        "id": "5npvt_KXCx7F"
      },
      "execution_count": 1,
      "outputs": []
    },
    {
      "cell_type": "code",
      "execution_count": 2,
      "metadata": {
        "id": "3klgoYMvCpas"
      },
      "outputs": [],
      "source": [
        "response = client.chat.completions.create(\n",
        "  model=\"gpt-4o\",\n",
        "  messages=[\n",
        "    {\n",
        "      \"role\": \"system\",\n",
        "      \"content\": \"Given the following SQL tables, your job is to write queries given a user’s request.\\n    \\n    CREATE TABLE Orders (\\n      OrderID int,\\n      CustomerID int,\\n      OrderDate datetime,\\n      OrderTime varchar(8),\\n      PRIMARY KEY (OrderID)\\n    );\\n    \\n    CREATE TABLE OrderDetails (\\n      OrderDetailID int,\\n      OrderID int,\\n      ProductID int,\\n      Quantity int,\\n      PRIMARY KEY (OrderDetailID)\\n    );\\n    \\n    CREATE TABLE Products (\\n      ProductID int,\\n      ProductName varchar(50),\\n      Category varchar(50),\\n      UnitPrice decimal(10, 2),\\n      Stock int,\\n      PRIMARY KEY (ProductID)\\n    );\\n    \\n    CREATE TABLE Customers (\\n      CustomerID int,\\n      FirstName varchar(50),\\n      LastName varchar(50),\\n      Email varchar(100),\\n      Phone varchar(20),\\n      PRIMARY KEY (CustomerID)\\n    );\"\n",
        "    },\n",
        "    {\n",
        "      \"role\": \"user\",\n",
        "      \"content\": \"Write a SQL query which computes the average total order value for all orders on 2023-04-01.\"\n",
        "    }\n",
        "  ],\n",
        "  temperature=1,\n",
        "  max_tokens=1024,\n",
        "  top_p=1\n",
        ")"
      ]
    },
    {
      "cell_type": "code",
      "source": [
        "print(response)"
      ],
      "metadata": {
        "colab": {
          "base_uri": "https://localhost:8080/"
        },
        "id": "tSvgr7EZC6G6",
        "outputId": "71c666e9-ccd7-42f8-fbaa-331b7bc06a57"
      },
      "execution_count": 3,
      "outputs": [
        {
          "output_type": "stream",
          "name": "stdout",
          "text": [
            "ChatCompletion(id='chatcmpl-AZyX7Nz7zQ2Co8qiXMZT8oqBWux72', choices=[Choice(finish_reason='stop', index=0, logprobs=None, message=ChatCompletionMessage(content=\"To calculate the average total order value for all orders on April 1, 2023, we need to:\\n\\n1. Join the `Orders` table with the `OrderDetails` table to get the details for each order on the given date.\\n2. Further join the result with the `Products` table to compute the total value for each order based on the unit price and quantity.\\n3. Finally, calculate the average of these order totals.\\n\\nHere is the SQL query to achieve this:\\n\\n```sql\\nSELECT AVG(TotalOrderValue) AS AverageOrderValueOnAprilFirst\\nFROM (\\n    SELECT o.OrderID, SUM(od.Quantity * p.UnitPrice) AS TotalOrderValue\\n    FROM Orders o\\n    JOIN OrderDetails od ON o.OrderID = od.OrderID\\n    JOIN Products p ON od.ProductID = p.ProductID\\n    WHERE o.OrderDate = '2023-04-01'\\n    GROUP BY o.OrderID\\n) AS OrderTotals;\\n```\\n\\nThis query calculates the total value for each order on April 1, 2023, by summing the product of quantity and unit price for each product in the order. Then it averages these totals to get the desired result.\", refusal=None, role='assistant', audio=None, function_call=None, tool_calls=None))], created=1733137533, model='gpt-4o-2024-08-06', object='chat.completion', service_tier=None, system_fingerprint='fp_831e067d82', usage=CompletionUsage(completion_tokens=245, prompt_tokens=219, total_tokens=464, completion_tokens_details=CompletionTokensDetails(accepted_prediction_tokens=0, audio_tokens=0, reasoning_tokens=0, rejected_prediction_tokens=0), prompt_tokens_details=PromptTokensDetails(audio_tokens=0, cached_tokens=0)))\n"
          ]
        }
      ]
    },
    {
      "cell_type": "code",
      "source": [
        "print(response.choices[0].message.content) # Use dot notation to access 'content'"
      ],
      "metadata": {
        "colab": {
          "base_uri": "https://localhost:8080/"
        },
        "id": "fwOu-YtPC7sq",
        "outputId": "34785e11-e838-4473-eafe-ca5474d71fed"
      },
      "execution_count": 4,
      "outputs": [
        {
          "output_type": "stream",
          "name": "stdout",
          "text": [
            "To calculate the average total order value for all orders on April 1, 2023, we need to:\n",
            "\n",
            "1. Join the `Orders` table with the `OrderDetails` table to get the details for each order on the given date.\n",
            "2. Further join the result with the `Products` table to compute the total value for each order based on the unit price and quantity.\n",
            "3. Finally, calculate the average of these order totals.\n",
            "\n",
            "Here is the SQL query to achieve this:\n",
            "\n",
            "```sql\n",
            "SELECT AVG(TotalOrderValue) AS AverageOrderValueOnAprilFirst\n",
            "FROM (\n",
            "    SELECT o.OrderID, SUM(od.Quantity * p.UnitPrice) AS TotalOrderValue\n",
            "    FROM Orders o\n",
            "    JOIN OrderDetails od ON o.OrderID = od.OrderID\n",
            "    JOIN Products p ON od.ProductID = p.ProductID\n",
            "    WHERE o.OrderDate = '2023-04-01'\n",
            "    GROUP BY o.OrderID\n",
            ") AS OrderTotals;\n",
            "```\n",
            "\n",
            "This query calculates the total value for each order on April 1, 2023, by summing the product of quantity and unit price for each product in the order. Then it averages these totals to get the desired result.\n"
          ]
        }
      ]
    }
  ]
}