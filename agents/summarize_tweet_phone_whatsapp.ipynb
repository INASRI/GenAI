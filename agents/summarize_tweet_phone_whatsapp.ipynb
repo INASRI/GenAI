{
  "nbformat": 4,
  "nbformat_minor": 0,
  "metadata": {
    "colab": {
      "provenance": []
    },
    "kernelspec": {
      "name": "python3",
      "display_name": "Python 3"
    },
    "language_info": {
      "name": "python"
    }
  },
  "cells": [
    {
      "cell_type": "code",
      "execution_count": null,
      "metadata": {
        "id": "sGVW73JSJJJL"
      },
      "outputs": [],
      "source": [
        "!pip install langchain openai duckduckgo-search tweepy smtplib pywhatkit"
      ]
    },
    {
      "cell_type": "code",
      "source": [
        "import os\n",
        "import smtplib\n",
        "import pywhatkit as kit\n",
        "import tweepy\n",
        "from duckduckgo_search import DDGS\n",
        "from langchain.chat_models import ChatOpenAI"
      ],
      "metadata": {
        "id": "DDZhwCS1QPi2"
      },
      "execution_count": null,
      "outputs": []
    },
    {
      "cell_type": "code",
      "source": [
        "# --- SETUP YOUR KEYS ---\n",
        "\n",
        "# OpenAI Key\n",
        "os.environ[\"OPENAI_API_KEY\"] = \"your-openai-key-here\""
      ],
      "metadata": {
        "id": "R0P86zhFQSnc"
      },
      "execution_count": null,
      "outputs": []
    },
    {
      "cell_type": "code",
      "source": [
        "# Twitter API keys\n",
        "twitter_consumer_key = \"your-twitter-consumer-key\"\n",
        "twitter_consumer_secret = \"your-twitter-consumer-secret\"\n",
        "twitter_access_token = \"your-twitter-access-token\"\n",
        "twitter_access_secret = \"your-twitter-access-secret\""
      ],
      "metadata": {
        "id": "NVM3DgdQQWwC"
      },
      "execution_count": null,
      "outputs": []
    },
    {
      "cell_type": "code",
      "source": [
        "# Email Sender credentials\n",
        "email_sender = \"your_email@gmail.com\"\n",
        "email_password = \"your_email_password\""
      ],
      "metadata": {
        "id": "puSSDUrsQaAY"
      },
      "execution_count": null,
      "outputs": []
    },
    {
      "cell_type": "code",
      "source": [
        "# WhatsApp default sending time (set after 1-2 mins)\n",
        "import datetime\n",
        "now = datetime.datetime.now()"
      ],
      "metadata": {
        "id": "l411hE9zQapi"
      },
      "execution_count": null,
      "outputs": []
    },
    {
      "cell_type": "code",
      "source": [
        "# --- Initialize models ---\n",
        "llm = ChatOpenAI(temperature=0.3, model=\"gpt-3.5-turbo\")"
      ],
      "metadata": {
        "id": "uIygnWVdQg8z"
      },
      "execution_count": null,
      "outputs": []
    },
    {
      "cell_type": "code",
      "source": [
        "# --- Define functions ---\n",
        "\n",
        "def search_ai_paper(topic):\n",
        "    with DDGS() as ddgs:\n",
        "        results = ddgs.text(topic + \" AI research paper\", max_results=1)\n",
        "        for result in results:\n",
        "            return result[\"href\"], result[\"body\"]\n",
        "    return None, None\n",
        "\n",
        "def summarize_text(text):\n",
        "    prompt = f\"Summarize the following AI research paper in simple terms:\\n\\n{text}\"\n",
        "    return llm.predict(prompt)\n",
        "\n",
        "def send_tweet(message):\n",
        "    auth = tweepy.OAuth1UserHandler(\n",
        "        twitter_consumer_key, twitter_consumer_secret,\n",
        "        twitter_access_token, twitter_access_secret\n",
        "    )\n",
        "    api = tweepy.API(auth)\n",
        "    api.update_status(message)\n",
        "    print(\"🐦 Tweeted successfully!\")\n",
        "\n",
        "def send_email(receiver_email, subject, message):\n",
        "    try:\n",
        "        with smtplib.SMTP(\"smtp.gmail.com\", 587) as server:\n",
        "            server.starttls()\n",
        "            server.login(email_sender, email_password)\n",
        "            email_message = f\"Subject: {subject}\\n\\n{message}\"\n",
        "            server.sendmail(email_sender, receiver_email, email_message)\n",
        "            print(\"📧 Email sent successfully!\")\n",
        "    except Exception as e:\n",
        "        print(\"Error sending email:\", e)\n",
        "\n",
        "def send_whatsapp(phone_number, message):\n",
        "    try:\n",
        "        kit.sendwhatmsg(phone_number, message, now.hour, now.minute + 2)\n",
        "        print(\"🟢 WhatsApp message scheduled!\")\n",
        "    except Exception as e:\n",
        "        print(\"Error sending WhatsApp:\", e)\n",
        "\n"
      ],
      "metadata": {
        "id": "szWVBuRRP8Tp"
      },
      "execution_count": null,
      "outputs": []
    },
    {
      "cell_type": "code",
      "source": [
        "# --- Main Agent Logic ---\n",
        "\n",
        "def agentic_ai_system():\n",
        "    topic = input(\"🔍 Enter AI research topic to search: \")\n",
        "    email = input(\"📧 Enter your email (or press Enter to skip): \").strip()\n",
        "    phone = input(\"📱 Enter your WhatsApp phone number (or press Enter to skip): \").strip()\n",
        "\n",
        "    print(\"\\nSearching for research paper...\")\n",
        "    url, paper_content = search_ai_paper(topic)\n",
        "\n",
        "    if not url:\n",
        "        print(\"❌ Could not find any paper.\")\n",
        "        return\n",
        "\n",
        "    print(f\"\\nFound Paper: {url}\")\n",
        "    print(\"\\nSummarizing...\")\n",
        "    summary = summarize_text(paper_content)\n",
        "    print(\"\\n🧠 Summary:\\n\", summary)\n",
        "\n",
        "    # Step 4: Conditional actions\n",
        "    if len(summary) <= 160:\n",
        "        send_tweet(summary)\n",
        "    else:\n",
        "        print(\"✖️ Summary too long to tweet.\")\n",
        "\n",
        "    if email:\n",
        "        send_email(email, f\"Summary of {topic}\", summary)\n",
        "\n",
        "    if phone:\n",
        "        send_whatsapp(phone, summary)"
      ],
      "metadata": {
        "id": "MiJbHLI6QLcW"
      },
      "execution_count": null,
      "outputs": []
    },
    {
      "cell_type": "code",
      "source": [
        "# --- Run the Agent ---\n",
        "if __name__ == \"__main__\":\n",
        "    agentic_ai_system()"
      ],
      "metadata": {
        "id": "600q8LwZQGW-"
      },
      "execution_count": null,
      "outputs": []
    }
  ]
}