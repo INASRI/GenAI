{
  "nbformat": 4,
  "nbformat_minor": 0,
  "metadata": {
    "colab": {
      "provenance": []
    },
    "kernelspec": {
      "name": "python3",
      "display_name": "Python 3"
    },
    "language_info": {
      "name": "python"
    }
  },
  "cells": [
    {
      "cell_type": "code",
      "execution_count": null,
      "metadata": {
        "id": "s3QzaZQKflkv"
      },
      "outputs": [],
      "source": [
        "!pip install google-search-results"
      ]
    },
    {
      "cell_type": "code",
      "source": [
        "!pip install langchain_community"
      ],
      "metadata": {
        "id": "wOJMkVbYfnlM"
      },
      "execution_count": null,
      "outputs": []
    },
    {
      "cell_type": "code",
      "source": [
        "import os\n",
        "import smtplib\n",
        "import sqlite3\n",
        "from email.mime.text import MIMEText\n",
        "from twilio.rest import Client\n",
        "from langchain.chat_models import ChatOpenAI\n",
        "from langchain.agents import initialize_agent, Tool\n",
        "from langchain.memory import ConversationBufferMemory\n",
        "from langchain.utilities import SerpAPIWrapper"
      ],
      "metadata": {
        "id": "i6YTdw5IfvA8"
      },
      "execution_count": null,
      "outputs": []
    },
    {
      "cell_type": "code",
      "source": [
        "# Set up API keys (replace with your actual API keys)\n",
        "os.environ[\"OPENAI_API_KEY\"] = \"your_openai_api_key\"\n",
        "os.environ[\"SERPAPI_API_KEY\"] = \"your_serpapi_api_key\"\n",
        "os.environ[\"TWILIO_ACCOUNT_SID\"] = \"your_twilio_account_sid\"\n",
        "os.environ[\"TWILIO_AUTH_TOKEN\"] = \"your_twilio_auth_token\""
      ],
      "metadata": {
        "id": "Hi5izJP6fzw7"
      },
      "execution_count": null,
      "outputs": []
    },
    {
      "cell_type": "code",
      "source": [
        "# Initialize OpenAI LLM\n",
        "llm = ChatOpenAI(model=\"gpt-4\", temperature=0.7)\n",
        "\n",
        "# Web Search Tool\n",
        "search = SerpAPIWrapper()\n",
        "\n",
        "def web_search(query: str):\n",
        "    \"\"\"Fetches real-time search results.\"\"\"\n",
        "    return search.run(query)\n",
        "\n",
        "# Define AI Agent Memory\n",
        "memory = ConversationBufferMemory(memory_key=\"chat_history\", return_messages=True)\n",
        "\n",
        "# Define AI Tools\n",
        "search_tool = Tool(name=\"Web Search\", func=web_search, description=\"Searches the web for the latest information.\")\n"
      ],
      "metadata": {
        "id": "wSBtopX8gHDr"
      },
      "execution_count": null,
      "outputs": []
    },
    {
      "cell_type": "code",
      "source": [
        "def summarize_text(text: str):\n",
        "    \"\"\"Summarizes long articles or text inputs.\"\"\"\n",
        "    return llm.predict(f\"Summarize this: {text}\")\n",
        "\n",
        "summarize_tool = Tool(name=\"Summarizer\", func=summarize_text, description=\"Summarizes articles and text inputs.\")\n",
        "\n",
        "# Initialize AI Agent\n",
        "agent = initialize_agent(\n",
        "    tools=[search_tool, summarize_tool],\n",
        "    llm=llm,\n",
        "    agent=\"zero-shot-react-description\",\n",
        "    memory=memory,\n",
        "    verbose=True\n",
        ")"
      ],
      "metadata": {
        "id": "bPTBdd_8gltT"
      },
      "execution_count": null,
      "outputs": []
    },
    {
      "cell_type": "code",
      "source": [
        "# Database Setup\n",
        "db_conn = sqlite3.connect(\"ai_agent_data.db\")\n",
        "cursor = db_conn.cursor()\n",
        "cursor.execute(\"\"\"\n",
        "    CREATE TABLE IF NOT EXISTS ai_responses (\n",
        "        id INTEGER PRIMARY KEY AUTOINCREMENT,\n",
        "        query TEXT,\n",
        "        response TEXT\n",
        "    )\n",
        "\"\"\")\n",
        "db_conn.commit()\n",
        "\n",
        "def store_response(query, response):\n",
        "    \"\"\"Stores AI responses in the database.\"\"\"\n",
        "    cursor.execute(\"INSERT INTO ai_responses (query, response) VALUES (?, ?)\", (query, response))\n",
        "    db_conn.commit()\n"
      ],
      "metadata": {
        "id": "cZ9DRxwSfpsz"
      },
      "execution_count": null,
      "outputs": []
    },
    {
      "cell_type": "code",
      "source": [
        "def send_email(subject, body, recipient_email):\n",
        "    \"\"\"Sends an email with the AI agent's response.\"\"\"\n",
        "    sender_email = \"your_email@example.com\"\n",
        "    sender_password = \"your_generated_app_password\"  # Use App Password\n",
        "\n",
        "    msg = MIMEText(body)\n",
        "    msg[\"Subject\"] = subject\n",
        "    msg[\"From\"] = sender_email\n",
        "    msg[\"To\"] = recipient_email\n",
        "\n",
        "    try:\n",
        "        with smtplib.SMTP_SSL(\"smtp.gmail.com\", 465) as server:\n",
        "            server.login(sender_email, sender_password)\n",
        "            server.sendmail(sender_email, recipient_email, msg.as_string())\n",
        "        print(\"Email sent successfully!\")\n",
        "    except Exception as e:\n",
        "        print(f\"Failed to send email: {e}\")"
      ],
      "metadata": {
        "id": "WVZS4df2gh5K"
      },
      "execution_count": null,
      "outputs": []
    },
    {
      "cell_type": "code",
      "source": [
        "# WhatsApp Integration using Twilio\n",
        "def send_whatsapp_message(body, recipient_whatsapp):\n",
        "    \"\"\"Sends AI responses via WhatsApp.\"\"\"\n",
        "    client = Client(os.environ[\"TWILIO_ACCOUNT_SID\"], os.environ[\"TWILIO_AUTH_TOKEN\"])\n",
        "\n",
        "    from_whatsapp_number = \"whatsapp:+your_twilio_whatsapp_number\"\n",
        "    to_whatsapp_number = f\"whatsapp:{recipient_whatsapp}\"\n",
        "\n",
        "    try:\n",
        "        message = client.messages.create(\n",
        "            body=body,\n",
        "            from_=from_whatsapp_number,\n",
        "            to=to_whatsapp_number\n",
        "        )\n",
        "        print(f\"WhatsApp message sent! Message SID: {message.sid}\")\n",
        "    except Exception as e:\n",
        "        print(f\"Failed to send WhatsApp message: {e}\")\n"
      ],
      "metadata": {
        "id": "66aGYrVYgK2k"
      },
      "execution_count": null,
      "outputs": []
    },
    {
      "cell_type": "code",
      "source": [
        "# Run AI Agent\n",
        "query = \"Latest trends in generative AI\"\n",
        "response = agent.run(query)\n",
        "print(\"Agentic AI Response:\", response)"
      ],
      "metadata": {
        "id": "ZZiteynSf__j"
      },
      "execution_count": null,
      "outputs": []
    },
    {
      "cell_type": "code",
      "source": [
        "# Store response in database\n",
        "store_response(query, response)\n",
        "\n",
        "# Send response via email\n",
        "recipient_email = \"recipient@example.com\"\n",
        "send_email(\"AI Research Update\", response, recipient_email)\n",
        "\n",
        "# Send response via WhatsApp\n",
        "recipient_whatsapp = \"+recipient_phone_number\"  # e.g., \"+1234567890\"\n",
        "send_whatsapp_message(response, recipient_whatsapp)\n",
        "\n",
        "db_conn.close()\n"
      ],
      "metadata": {
        "id": "A72cz7KHf90s"
      },
      "execution_count": null,
      "outputs": []
    }
  ]
}