{
  "nbformat": 4,
  "nbformat_minor": 0,
  "metadata": {
    "colab": {
      "provenance": []
    },
    "kernelspec": {
      "name": "python3",
      "display_name": "Python 3"
    },
    "language_info": {
      "name": "python"
    }
  },
  "cells": [
    {
      "cell_type": "code",
      "source": [
        "import openai\n",
        "\n",
        "# Set your OpenAI API key here\n",
        "openai.api_key = \"\""
      ],
      "metadata": {
        "id": "P72rOdXQRfoE"
      },
      "execution_count": null,
      "outputs": []
    },
    {
      "cell_type": "code",
      "source": [
        "def generate_code(prompt):\n",
        "    system_message = \"You are a helpful AI coding assistant. Only return clean, executable Python code. No explanations.\"\n",
        "\n",
        "    response = openai.ChatCompletion.create(\n",
        "        model=\"gpt-4\",\n",
        "        messages=[\n",
        "            {\"role\": \"system\", \"content\": system_message},\n",
        "            {\"role\": \"user\", \"content\": f\"Write Python code for this task: {prompt}\"}\n",
        "        ],\n",
        "        temperature=0.3\n",
        "    )\n",
        "\n",
        "    code = response['choices'][0]['message']['content']\n",
        "    return code"
      ],
      "metadata": {
        "id": "9VOd5naRR3CE"
      },
      "execution_count": null,
      "outputs": []
    },
    {
      "cell_type": "code",
      "source": [
        "def run_code(code):\n",
        "    try:\n",
        "        exec_globals = {}\n",
        "        exec(code, exec_globals)\n",
        "    except Exception as e:\n",
        "        print(f\"Error while executing code: {e}\")\n",
        "\n",
        "if __name__ == \"__main__\":\n",
        "    user_prompt = input(\"What do you want the coding agent to build? 🧠\\n> \")\n",
        "    print(\"\\n💡 Generating code...\\n\")\n",
        "    generated_code = generate_code(user_prompt)\n",
        "\n",
        "    print(\"👇 Generated Code:\\n\")\n",
        "    print(generated_code)\n",
        "\n",
        "    run_choice = input(\"\\nDo you want to run this code? (y/n): \").lower()\n",
        "    if run_choice == 'y':\n",
        "        print(\"\\n⚙️ Running code...\\n\")\n",
        "        run_code(generated_code)"
      ],
      "metadata": {
        "colab": {
          "base_uri": "https://localhost:8080/"
        },
        "id": "0yYsQRnoRdQv",
        "outputId": "67b87bcd-1f35-4e96-b7ec-643fc3ef0ebe"
      },
      "execution_count": null,
      "outputs": [
        {
          "name": "stdout",
          "output_type": "stream",
          "text": [
            "What do you want the coding agent to build? 🧠\n",
            "> prime number program in python\n",
            "\n",
            "💡 Generating code...\n",
            "\n",
            "👇 Generated Code:\n",
            "\n",
            "def is_prime(n):\n",
            "    if n <= 1:\n",
            "        return False\n",
            "    elif n <= 3:\n",
            "        return True\n",
            "    elif n % 2 == 0 or n % 3 == 0:\n",
            "        return False\n",
            "    i = 5\n",
            "    while i * i <= n:\n",
            "        if n % i == 0 or n % (i + 2) == 0:\n",
            "            return False\n",
            "        i += 6\n",
            "    return True\n",
            "\n",
            "num = int(input(\"Enter a number: \"))\n",
            "if is_prime(num):\n",
            "    print(num, \"is a prime number\")\n",
            "else:\n",
            "    print(num, \"is not a prime number\")\n",
            "\n",
            "Do you want to run this code? (y/n): exit\n"
          ]
        }
      ]
    }
  ]
}