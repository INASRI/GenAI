{
  "nbformat": 4,
  "nbformat_minor": 0,
  "metadata": {
    "colab": {
      "provenance": []
    },
    "kernelspec": {
      "name": "python3",
      "display_name": "Python 3"
    },
    "language_info": {
      "name": "python"
    }
  },
  "cells": [
    {
      "cell_type": "code",
      "source": [
        "!pip install duckduckgo_search"
      ],
      "metadata": {
        "colab": {
          "base_uri": "https://localhost:8080/"
        },
        "id": "Mn2qWOW6puv7",
        "outputId": "ec2a795a-733f-4e83-fdcd-069728b53c3b"
      },
      "execution_count": 2,
      "outputs": [
        {
          "output_type": "stream",
          "name": "stdout",
          "text": [
            "Collecting duckduckgo_search\n",
            "  Downloading duckduckgo_search-8.0.0-py3-none-any.whl.metadata (16 kB)\n",
            "Requirement already satisfied: click>=8.1.8 in /usr/local/lib/python3.11/dist-packages (from duckduckgo_search) (8.1.8)\n",
            "Collecting primp>=0.14.0 (from duckduckgo_search)\n",
            "  Downloading primp-0.14.0-cp38-abi3-manylinux_2_17_x86_64.manylinux2014_x86_64.whl.metadata (13 kB)\n",
            "Requirement already satisfied: lxml>=5.3.0 in /usr/local/lib/python3.11/dist-packages (from duckduckgo_search) (5.3.1)\n",
            "Downloading duckduckgo_search-8.0.0-py3-none-any.whl (18 kB)\n",
            "Downloading primp-0.14.0-cp38-abi3-manylinux_2_17_x86_64.manylinux2014_x86_64.whl (3.3 MB)\n",
            "\u001b[2K   \u001b[90m━━━━━━━━━━━━━━━━━━━━━━━━━━━━━━━━━━━━━━━━\u001b[0m \u001b[32m3.3/3.3 MB\u001b[0m \u001b[31m33.0 MB/s\u001b[0m eta \u001b[36m0:00:00\u001b[0m\n",
            "\u001b[?25hInstalling collected packages: primp, duckduckgo_search\n",
            "Successfully installed duckduckgo_search-8.0.0 primp-0.14.0\n"
          ]
        }
      ]
    },
    {
      "cell_type": "code",
      "execution_count": 3,
      "metadata": {
        "id": "cGHSmL6BWA1c",
        "colab": {
          "base_uri": "https://localhost:8080/"
        },
        "outputId": "d68dcbfd-6529-481c-d654-121b7a940b04"
      },
      "outputs": [
        {
          "output_type": "stream",
          "name": "stdout",
          "text": [
            "Welcome to the Advanced Agentic AI System! (type 'exit' to quit)\n",
            "\n",
            "User: 34+56\n",
            "[Agent decides to use: calculator]\n",
            "The answer is: 90\n",
            "\n",
            "User: who is Jackie Chan ?\n",
            "[Agent decides to use: web_searcher]\n",
            "Fang Shilong [a] SBS MBE PMW [3] (born Chan Kong-sang; [b] 7 April 1954), known professionally as Jackie Chan, [c] is a Hong Kong actor, filmmaker, martial artist, and stuntman. On-screen, he is known for his slapstick, acrobatic fighting style, comic timing, and innovative stunts, which he typically performs himself.Before entering the film industry, he was one of the Seven Little Fortunes ...\n",
            "\n",
            "User: Exit\n",
            "\n",
            "Session Summary:\n",
            "1. Query: 34+56 -> Response: The answer is: 90\n",
            "2. Query: who is Jackie Chan ? -> Response: Fang Shilong [a] SBS MBE PMW [3] (born Chan Kong-sang; [b] 7 April 1954), known professionally as Jackie Chan, [c] is a Hong Kong actor, filmmaker, martial artist, and stuntman. On-screen, he is known for his slapstick, acrobatic fighting style, comic timing, and innovative stunts, which he typically performs himself.Before entering the film industry, he was one of the Seven Little Fortunes ...\n",
            "Session ended. Goodbye!\n"
          ]
        }
      ],
      "source": [
        "from duckduckgo_search import DDGS\n",
        "import ast\n",
        "\n",
        "# ---- Define the Tools ----\n",
        "\n",
        "class Calculator:\n",
        "    def run(self, query):\n",
        "        try:\n",
        "            result = eval(query, {\"__builtins__\": {}})\n",
        "            return f\"The answer is: {result}\"\n",
        "        except Exception as e:\n",
        "            return f\"Calculation error: {e}\"\n",
        "\n",
        "class WebSearcher:\n",
        "    def run(self, query):\n",
        "        results = []\n",
        "        with DDGS() as ddgs:\n",
        "            for r in ddgs.text(query, max_results=1):\n",
        "                results.append(r.get(\"body\"))\n",
        "        if results:\n",
        "            return results[0]\n",
        "        else:\n",
        "            return \"No web results found.\"\n",
        "\n",
        "# ---- Define the Agent ----\n",
        "\n",
        "class Agent:\n",
        "    def __init__(self):\n",
        "        self.calculator = Calculator()\n",
        "        self.web_searcher = WebSearcher()\n",
        "        self.memory = []\n",
        "\n",
        "    def plan(self, query):\n",
        "        # Simple plan: if query looks mathematical, use Calculator; else Search\n",
        "        math_symbols = ['+', '-', '*', '/', '**', 'sqrt', '^']\n",
        "        if any(symbol in query for symbol in math_symbols):\n",
        "            return \"calculator\"\n",
        "        else:\n",
        "            return \"web_searcher\"\n",
        "\n",
        "    def act(self, tool_name, query):\n",
        "        if tool_name == \"calculator\":\n",
        "            response = self.calculator.run(query)\n",
        "        elif tool_name == \"web_searcher\":\n",
        "            response = self.web_searcher.run(query)\n",
        "        else:\n",
        "            response = \"Tool not available.\"\n",
        "        self.memory.append((query, response))\n",
        "        return response\n",
        "\n",
        "    def reflect(self):\n",
        "        print(\"\\nSession Summary:\")\n",
        "        for idx, (q, r) in enumerate(self.memory):\n",
        "            print(f\"{idx+1}. Query: {q} -> Response: {r}\")\n",
        "\n",
        "# ---- Environment ----\n",
        "\n",
        "def run_advanced_agent():\n",
        "    agent = Agent()\n",
        "    print(\"Welcome to the Advanced Agentic AI System! (type 'exit' to quit)\")\n",
        "\n",
        "    while True:\n",
        "        query = input(\"\\nUser: \")\n",
        "        if query.lower() == 'exit':\n",
        "            agent.reflect()\n",
        "            print(\"Session ended. Goodbye!\")\n",
        "            break\n",
        "        tool = agent.plan(query)\n",
        "        print(f\"[Agent decides to use: {tool}]\")\n",
        "        response = agent.act(tool, query)\n",
        "        print(response)\n",
        "\n",
        "if __name__ == \"__main__\":\n",
        "    run_advanced_agent()\n"
      ]
    }
  ]
}