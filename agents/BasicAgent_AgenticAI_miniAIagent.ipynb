{
  "nbformat": 4,
  "nbformat_minor": 0,
  "metadata": {
    "colab": {
      "provenance": []
    },
    "kernelspec": {
      "name": "python3",
      "display_name": "Python 3"
    },
    "language_info": {
      "name": "python"
    }
  },
  "cells": [
    {
      "cell_type": "markdown",
      "source": [
        "Basic Agent Example in Python (conceptual)"
      ],
      "metadata": {
        "id": "G_9tirQxyB3C"
      }
    },
    {
      "cell_type": "code",
      "source": [
        "goal = \"Calculate the average of [10, 20, 30], and write a sentence with it\"\n",
        "\n",
        "# Agent decides to use a calculator tool\n",
        "numbers = [10, 20, 30]\n",
        "average = sum(numbers) / len(numbers)\n",
        "\n",
        "# Agent then uses a text generator\n",
        "sentence = f\"The average of the numbers is {average}.\"\n",
        "\n",
        "print(sentence)\n"
      ],
      "metadata": {
        "colab": {
          "base_uri": "https://localhost:8080/"
        },
        "id": "BFs8wYn9x2IK",
        "outputId": "3b84832a-7d07-43b4-8a9a-55483f11316d"
      },
      "execution_count": 1,
      "outputs": [
        {
          "output_type": "stream",
          "name": "stdout",
          "text": [
            "The average of the numbers is 20.0.\n"
          ]
        }
      ]
    },
    {
      "cell_type": "markdown",
      "source": [
        "agentic ai simulated python example"
      ],
      "metadata": {
        "id": "1sgC3afOx6lK"
      }
    },
    {
      "cell_type": "code",
      "source": [
        "memory = []\n",
        "\n",
        "def agentic_ai(task):\n",
        "    if \"average\" in task:\n",
        "        nums = [10, 20, 30]\n",
        "        result = sum(nums) / len(nums)\n",
        "        memory.append(f\"Calculated average: {result}\")\n",
        "        return f\"I remember calculating the average as {result}\"\n",
        "    elif \"summary\" in task:\n",
        "        memory.append(\"Summarized a document\")\n",
        "        return \"Here is your summary: ...\"\n",
        "    else:\n",
        "        return \"Task not recognized.\"\n",
        "\n",
        "print(agentic_ai(\"Please calculate the average\"))\n",
        "print(agentic_ai(\"Now give me the summary\"))\n",
        "print(\"Memory:\", memory)"
      ],
      "metadata": {
        "colab": {
          "base_uri": "https://localhost:8080/"
        },
        "id": "ik0tbWQ0w2mq",
        "outputId": "49f3d723-3bfb-4d9b-c5af-9f35c81efcd6"
      },
      "execution_count": 2,
      "outputs": [
        {
          "output_type": "stream",
          "name": "stdout",
          "text": [
            "I remember calculating the average as 20.0\n",
            "Here is your summary: ...\n",
            "Memory: ['Calculated average: 20.0', 'Summarized a document']\n"
          ]
        }
      ]
    },
    {
      "cell_type": "markdown",
      "source": [
        "Mini AI Agent Example (Simulated Agent Loop)\n"
      ],
      "metadata": {
        "id": "bucUrD_qyuoC"
      }
    },
    {
      "cell_type": "code",
      "execution_count": 3,
      "metadata": {
        "colab": {
          "base_uri": "https://localhost:8080/"
        },
        "id": "p7GF5svIwxQa",
        "outputId": "01f5861b-f506-4ac5-b203-d10c8cedfdb0"
      },
      "outputs": [
        {
          "output_type": "stream",
          "name": "stdout",
          "text": [
            "🧠 Task received: Can you calculate the average of some numbers and explain it?\n",
            "✅ Agent output: The average of the given numbers is 20.00.\n",
            "\n",
            "🗂️ Memory so far:\n",
            " - Received task: Can you calculate the average of some numbers and explain it?\n",
            " - Identified numbers: [10, 20, 30]\n",
            " - Used calculator tool: average = 20.0\n",
            " - Used sentence writer tool\n"
          ]
        }
      ],
      "source": [
        "# Simulated Tools\n",
        "def calculator_tool(numbers):\n",
        "    return sum(numbers) / len(numbers)\n",
        "\n",
        "def sentence_writer_tool(average):\n",
        "    return f\"The average of the given numbers is {average:.2f}.\"\n",
        "\n",
        "# Agent Memory (simple log)\n",
        "memory = []\n",
        "\n",
        "# Agent Logic\n",
        "def agent(task):\n",
        "    print(f\"🧠 Task received: {task}\")\n",
        "    memory.append(f\"Received task: {task}\")\n",
        "\n",
        "    # Step 1: Understand the task\n",
        "    if \"average\" in task.lower():\n",
        "        numbers = [10, 20, 30]  # (In real life, agent might extract this from text)\n",
        "        memory.append(f\"Identified numbers: {numbers}\")\n",
        "\n",
        "        # Step 2: Choose calculator tool\n",
        "        avg = calculator_tool(numbers)\n",
        "        memory.append(f\"Used calculator tool: average = {avg}\")\n",
        "\n",
        "        # Step 3: Choose sentence writer tool\n",
        "        sentence = sentence_writer_tool(avg)\n",
        "        memory.append(\"Used sentence writer tool\")\n",
        "\n",
        "        # Step 4: Respond\n",
        "        print(f\"✅ Agent output: {sentence}\")\n",
        "\n",
        "    else:\n",
        "        print(\"🤖 Sorry, I don’t know how to handle that task yet.\")\n",
        "\n",
        "    print(\"\\n🗂️ Memory so far:\")\n",
        "    for m in memory:\n",
        "        print(\" -\", m)\n",
        "\n",
        "# Run the agent\n",
        "agent(\"Can you calculate the average of some numbers and explain it?\")\n"
      ]
    }
  ]
}