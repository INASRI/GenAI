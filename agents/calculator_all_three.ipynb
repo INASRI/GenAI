{
  "nbformat": 4,
  "nbformat_minor": 0,
  "metadata": {
    "colab": {
      "provenance": []
    },
    "kernelspec": {
      "name": "python3",
      "display_name": "Python 3"
    },
    "language_info": {
      "name": "python"
    }
  },
  "cells": [
    {
      "cell_type": "code",
      "source": [
        "# 👉 This is a basic direct program — no AI, no thinking, just code"
      ],
      "metadata": {
        "id": "RNtFjqz5MYUW"
      },
      "execution_count": null,
      "outputs": []
    },
    {
      "cell_type": "code",
      "execution_count": 1,
      "metadata": {
        "colab": {
          "base_uri": "https://localhost:8080/"
        },
        "id": "qTslx2OKL9H6",
        "outputId": "24c0c279-3264-4856-9380-e857f4c6f87e"
      },
      "outputs": [
        {
          "output_type": "stream",
          "name": "stdout",
          "text": [
            "🧮 Simple Calculator App\n",
            "Enter a mathematical expression (e.g., 2 + 3 * 5): 2+3*5\n",
            "✅ Result: 17\n"
          ]
        }
      ],
      "source": [
        "def calculator_app():\n",
        "    print(\"🧮 Simple Calculator App\")\n",
        "    expression = input(\"Enter a mathematical expression (e.g., 2 + 3 * 5): \")\n",
        "\n",
        "    try:\n",
        "        result = eval(expression)\n",
        "        print(f\"✅ Result: {result}\")\n",
        "    except Exception as e:\n",
        "        print(f\"❌ Error: {e}\")\n",
        "\n",
        "if __name__ == \"__main__\":\n",
        "    calculator_app()\n"
      ]
    },
    {
      "cell_type": "code",
      "source": [
        "#👉 This time, an AI agent is used.\n",
        "\n",
        "#The agent reads the user’s input as a \"task\"\n",
        "\n",
        "#Understands what to do\n",
        "\n",
        "#Chooses to act (here: only knows how to calculate)"
      ],
      "metadata": {
        "id": "IHdVWd9-MBMd"
      },
      "execution_count": null,
      "outputs": []
    },
    {
      "cell_type": "code",
      "source": [
        "class CalculatorAgent:\n",
        "    def __init__(self):\n",
        "        self.name = \"Simple Calculator Agent\"\n",
        "\n",
        "    def plan(self, user_input):\n",
        "        \"\"\"Decide what to do based on input.\"\"\"\n",
        "        if any(op in user_input for op in ['+', '-', '*', '/', '**']):\n",
        "            return \"calculate\"\n",
        "        else:\n",
        "            return \"unknown\"\n",
        "\n",
        "    def act(self, action, user_input):\n",
        "        if action == \"calculate\":\n",
        "            try:\n",
        "                result = eval(user_input)\n",
        "                return f\"✅ Result: {result}\"\n",
        "            except Exception as e:\n",
        "                return f\"❌ Calculation Error: {e}\"\n",
        "        else:\n",
        "            return \"❓ Sorry, I don't know how to handle this.\"\n",
        "\n",
        "def run_calculator_agent():\n",
        "    agent = CalculatorAgent()\n",
        "    print(f\"🤖 {agent.name} is running.\")\n",
        "\n",
        "    task = input(\"What do you want to calculate? \")\n",
        "    action = agent.plan(task)\n",
        "    response = agent.act(action, task)\n",
        "    print(response)\n",
        "\n",
        "if __name__ == \"__main__\":\n",
        "    run_calculator_agent()\n"
      ],
      "metadata": {
        "colab": {
          "base_uri": "https://localhost:8080/"
        },
        "id": "mqhog3c2Mcn7",
        "outputId": "ab212537-58b9-45f0-a3b5-77db3a9fde0a"
      },
      "execution_count": 2,
      "outputs": [
        {
          "output_type": "stream",
          "name": "stdout",
          "text": [
            "🤖 Simple Calculator Agent is running.\n",
            "What do you want to calculate? 2+3*5\n",
            "✅ Result: 17\n"
          ]
        }
      ]
    },
    {
      "cell_type": "code",
      "source": [],
      "metadata": {
        "id": "t0qbwu6TN2fm"
      },
      "execution_count": null,
      "outputs": []
    },
    {
      "cell_type": "code",
      "source": [
        "class AgenticCalculatorSystem:\n",
        "    def __init__(self):\n",
        "        self.tools = {\"calculator\": self.calculate}\n",
        "        self.memory = []\n",
        "\n",
        "    def plan(self, goal):\n",
        "        \"\"\"Multi-step plan: Validate and Decide tool.\"\"\"\n",
        "        if any(op in goal for op in ['+', '-', '*', '/', '**']):\n",
        "            return [\"calculator\"]\n",
        "        else:\n",
        "            return []\n",
        "\n",
        "    def act(self, tool, goal):\n",
        "        \"\"\"Act based on the chosen tool.\"\"\"\n",
        "        action_result = self.tools[tool](goal)\n",
        "        self.memory.append((goal, tool, action_result))\n",
        "        return action_result\n",
        "\n",
        "    def calculate(self, expression):\n",
        "        \"\"\"Perform calculation.\"\"\"\n",
        "        try:\n",
        "            result = eval(expression)\n",
        "            return f\"✅ Calculated Result: {result}\"\n",
        "        except Exception as e:\n",
        "            return f\"❌ Calculation failed: {e}\"\n",
        "\n",
        "    def reflect(self):\n",
        "        \"\"\"Reflect on past actions.\"\"\"\n",
        "        print(\"\\n🧠 Reflection on past actions:\")\n",
        "        for idx, (goal, tool, result) in enumerate(self.memory):\n",
        "            print(f\"{idx+1}. Goal: {goal} | Tool: {tool} | Result: {result}\")\n",
        "\n",
        "def run_agentic_calculator_system():\n",
        "    agentic_system = AgenticCalculatorSystem()\n",
        "    print(\"🧠🤖 Running the Agentic Calculator System.\")\n",
        "\n",
        "    while True:\n",
        "        goal = input(\"\\n🎯 Enter your calculation goal (or type 'exit' to quit): \")\n",
        "\n",
        "        if goal.lower() == \"exit\":\n",
        "            agentic_system.reflect()\n",
        "            print(\"\\nGoodbye! 🖐️\")\n",
        "            break\n",
        "\n",
        "        plan = agentic_system.plan(goal)\n",
        "        if not plan:\n",
        "            print(\"❓ Sorry, I cannot understand this goal.\")\n",
        "            continue\n",
        "\n",
        "        for tool in plan:\n",
        "            result = agentic_system.act(tool, goal)\n",
        "            print(result)\n",
        "\n",
        "if __name__ == \"__main__\":\n",
        "    run_agentic_calculator_system()\n"
      ],
      "metadata": {
        "colab": {
          "base_uri": "https://localhost:8080/"
        },
        "id": "IfBpN24TO8uK",
        "outputId": "8c2e92b9-2908-4068-e8bc-6324661a4e13"
      },
      "execution_count": 3,
      "outputs": [
        {
          "output_type": "stream",
          "name": "stdout",
          "text": [
            "🧠🤖 Running the Agentic Calculator System.\n",
            "\n",
            "🎯 Enter your calculation goal (or type 'exit' to quit): 2*5+4\n",
            "✅ Calculated Result: 14\n",
            "\n",
            "🎯 Enter your calculation goal (or type 'exit' to quit): exit\n",
            "\n",
            "🧠 Reflection on past actions:\n",
            "1. Goal: 2*5+4 | Tool: calculator | Result: ✅ Calculated Result: 14\n",
            "\n",
            "Goodbye! 🖐️\n"
          ]
        }
      ]
    }
  ]
}