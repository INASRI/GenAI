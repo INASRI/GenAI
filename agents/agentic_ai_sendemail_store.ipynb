{
  "nbformat": 4,
  "nbformat_minor": 0,
  "metadata": {
    "colab": {
      "provenance": []
    },
    "kernelspec": {
      "name": "python3",
      "display_name": "Python 3"
    },
    "language_info": {
      "name": "python"
    }
  },
  "cells": [
    {
      "cell_type": "code",
      "source": [
        "!pip install google-search-results"
      ],
      "metadata": {
        "colab": {
          "base_uri": "https://localhost:8080/"
        },
        "id": "zSxuVO7xTHVF",
        "outputId": "78eeb08b-58f8-4e69-b434-9c995f17c3c3"
      },
      "execution_count": null,
      "outputs": [
        {
          "output_type": "stream",
          "name": "stdout",
          "text": [
            "Collecting google-search-results\n",
            "  Downloading google_search_results-2.4.2.tar.gz (18 kB)\n",
            "  Preparing metadata (setup.py) ... \u001b[?25l\u001b[?25hdone\n",
            "Requirement already satisfied: requests in /usr/local/lib/python3.11/dist-packages (from google-search-results) (2.32.3)\n",
            "Requirement already satisfied: charset-normalizer<4,>=2 in /usr/local/lib/python3.11/dist-packages (from requests->google-search-results) (3.4.1)\n",
            "Requirement already satisfied: idna<4,>=2.5 in /usr/local/lib/python3.11/dist-packages (from requests->google-search-results) (3.10)\n",
            "Requirement already satisfied: urllib3<3,>=1.21.1 in /usr/local/lib/python3.11/dist-packages (from requests->google-search-results) (2.3.0)\n",
            "Requirement already satisfied: certifi>=2017.4.17 in /usr/local/lib/python3.11/dist-packages (from requests->google-search-results) (2025.1.31)\n",
            "Building wheels for collected packages: google-search-results\n",
            "  Building wheel for google-search-results (setup.py) ... \u001b[?25l\u001b[?25hdone\n",
            "  Created wheel for google-search-results: filename=google_search_results-2.4.2-py3-none-any.whl size=32009 sha256=e86668a292d4830dbad2ad8c317c66d3134f60edeaa68c672d5830429e3fff8a\n",
            "  Stored in directory: /root/.cache/pip/wheels/6e/42/3e/aeb691b02cb7175ec70e2da04b5658d4739d2b41e5f73cd06f\n",
            "Successfully built google-search-results\n",
            "Installing collected packages: google-search-results\n",
            "Successfully installed google-search-results-2.4.2\n"
          ]
        }
      ]
    },
    {
      "cell_type": "code",
      "source": [
        "!pip install langchain_community"
      ],
      "metadata": {
        "colab": {
          "base_uri": "https://localhost:8080/"
        },
        "id": "-fj6plSZTVck",
        "outputId": "9552d357-bed2-4a1f-f703-ae1ee9fd3acf"
      },
      "execution_count": null,
      "outputs": [
        {
          "output_type": "stream",
          "name": "stdout",
          "text": [
            "Requirement already satisfied: langchain_community in /usr/local/lib/python3.11/dist-packages (0.3.20)\n",
            "Requirement already satisfied: langchain-core<1.0.0,>=0.3.45 in /usr/local/lib/python3.11/dist-packages (from langchain_community) (0.3.45)\n",
            "Requirement already satisfied: langchain<1.0.0,>=0.3.21 in /usr/local/lib/python3.11/dist-packages (from langchain_community) (0.3.21)\n",
            "Requirement already satisfied: SQLAlchemy<3,>=1.4 in /usr/local/lib/python3.11/dist-packages (from langchain_community) (2.0.39)\n",
            "Requirement already satisfied: requests<3,>=2 in /usr/local/lib/python3.11/dist-packages (from langchain_community) (2.32.3)\n",
            "Requirement already satisfied: PyYAML>=5.3 in /usr/local/lib/python3.11/dist-packages (from langchain_community) (6.0.2)\n",
            "Requirement already satisfied: aiohttp<4.0.0,>=3.8.3 in /usr/local/lib/python3.11/dist-packages (from langchain_community) (3.11.13)\n",
            "Requirement already satisfied: tenacity!=8.4.0,<10,>=8.1.0 in /usr/local/lib/python3.11/dist-packages (from langchain_community) (9.0.0)\n",
            "Requirement already satisfied: dataclasses-json<0.7,>=0.5.7 in /usr/local/lib/python3.11/dist-packages (from langchain_community) (0.6.7)\n",
            "Requirement already satisfied: pydantic-settings<3.0.0,>=2.4.0 in /usr/local/lib/python3.11/dist-packages (from langchain_community) (2.8.1)\n",
            "Requirement already satisfied: langsmith<0.4,>=0.1.125 in /usr/local/lib/python3.11/dist-packages (from langchain_community) (0.3.13)\n",
            "Requirement already satisfied: httpx-sse<1.0.0,>=0.4.0 in /usr/local/lib/python3.11/dist-packages (from langchain_community) (0.4.0)\n",
            "Requirement already satisfied: numpy<3,>=1.26.2 in /usr/local/lib/python3.11/dist-packages (from langchain_community) (2.0.2)\n",
            "Requirement already satisfied: aiohappyeyeballs>=2.3.0 in /usr/local/lib/python3.11/dist-packages (from aiohttp<4.0.0,>=3.8.3->langchain_community) (2.6.1)\n",
            "Requirement already satisfied: aiosignal>=1.1.2 in /usr/local/lib/python3.11/dist-packages (from aiohttp<4.0.0,>=3.8.3->langchain_community) (1.3.2)\n",
            "Requirement already satisfied: attrs>=17.3.0 in /usr/local/lib/python3.11/dist-packages (from aiohttp<4.0.0,>=3.8.3->langchain_community) (25.3.0)\n",
            "Requirement already satisfied: frozenlist>=1.1.1 in /usr/local/lib/python3.11/dist-packages (from aiohttp<4.0.0,>=3.8.3->langchain_community) (1.5.0)\n",
            "Requirement already satisfied: multidict<7.0,>=4.5 in /usr/local/lib/python3.11/dist-packages (from aiohttp<4.0.0,>=3.8.3->langchain_community) (6.1.0)\n",
            "Requirement already satisfied: propcache>=0.2.0 in /usr/local/lib/python3.11/dist-packages (from aiohttp<4.0.0,>=3.8.3->langchain_community) (0.3.0)\n",
            "Requirement already satisfied: yarl<2.0,>=1.17.0 in /usr/local/lib/python3.11/dist-packages (from aiohttp<4.0.0,>=3.8.3->langchain_community) (1.18.3)\n",
            "Requirement already satisfied: marshmallow<4.0.0,>=3.18.0 in /usr/local/lib/python3.11/dist-packages (from dataclasses-json<0.7,>=0.5.7->langchain_community) (3.26.1)\n",
            "Requirement already satisfied: typing-inspect<1,>=0.4.0 in /usr/local/lib/python3.11/dist-packages (from dataclasses-json<0.7,>=0.5.7->langchain_community) (0.9.0)\n",
            "Requirement already satisfied: langchain-text-splitters<1.0.0,>=0.3.7 in /usr/local/lib/python3.11/dist-packages (from langchain<1.0.0,>=0.3.21->langchain_community) (0.3.7)\n",
            "Requirement already satisfied: pydantic<3.0.0,>=2.7.4 in /usr/local/lib/python3.11/dist-packages (from langchain<1.0.0,>=0.3.21->langchain_community) (2.10.6)\n",
            "Requirement already satisfied: jsonpatch<2.0,>=1.33 in /usr/local/lib/python3.11/dist-packages (from langchain-core<1.0.0,>=0.3.45->langchain_community) (1.33)\n",
            "Requirement already satisfied: packaging<25,>=23.2 in /usr/local/lib/python3.11/dist-packages (from langchain-core<1.0.0,>=0.3.45->langchain_community) (24.2)\n",
            "Requirement already satisfied: typing-extensions>=4.7 in /usr/local/lib/python3.11/dist-packages (from langchain-core<1.0.0,>=0.3.45->langchain_community) (4.12.2)\n",
            "Requirement already satisfied: httpx<1,>=0.23.0 in /usr/local/lib/python3.11/dist-packages (from langsmith<0.4,>=0.1.125->langchain_community) (0.28.1)\n",
            "Requirement already satisfied: orjson<4.0.0,>=3.9.14 in /usr/local/lib/python3.11/dist-packages (from langsmith<0.4,>=0.1.125->langchain_community) (3.10.15)\n",
            "Requirement already satisfied: requests-toolbelt<2.0.0,>=1.0.0 in /usr/local/lib/python3.11/dist-packages (from langsmith<0.4,>=0.1.125->langchain_community) (1.0.0)\n",
            "Requirement already satisfied: zstandard<0.24.0,>=0.23.0 in /usr/local/lib/python3.11/dist-packages (from langsmith<0.4,>=0.1.125->langchain_community) (0.23.0)\n",
            "Requirement already satisfied: python-dotenv>=0.21.0 in /usr/local/lib/python3.11/dist-packages (from pydantic-settings<3.0.0,>=2.4.0->langchain_community) (1.0.1)\n",
            "Requirement already satisfied: charset-normalizer<4,>=2 in /usr/local/lib/python3.11/dist-packages (from requests<3,>=2->langchain_community) (3.4.1)\n",
            "Requirement already satisfied: idna<4,>=2.5 in /usr/local/lib/python3.11/dist-packages (from requests<3,>=2->langchain_community) (3.10)\n",
            "Requirement already satisfied: urllib3<3,>=1.21.1 in /usr/local/lib/python3.11/dist-packages (from requests<3,>=2->langchain_community) (2.3.0)\n",
            "Requirement already satisfied: certifi>=2017.4.17 in /usr/local/lib/python3.11/dist-packages (from requests<3,>=2->langchain_community) (2025.1.31)\n",
            "Requirement already satisfied: greenlet!=0.4.17 in /usr/local/lib/python3.11/dist-packages (from SQLAlchemy<3,>=1.4->langchain_community) (3.1.1)\n",
            "Requirement already satisfied: anyio in /usr/local/lib/python3.11/dist-packages (from httpx<1,>=0.23.0->langsmith<0.4,>=0.1.125->langchain_community) (3.7.1)\n",
            "Requirement already satisfied: httpcore==1.* in /usr/local/lib/python3.11/dist-packages (from httpx<1,>=0.23.0->langsmith<0.4,>=0.1.125->langchain_community) (1.0.7)\n",
            "Requirement already satisfied: h11<0.15,>=0.13 in /usr/local/lib/python3.11/dist-packages (from httpcore==1.*->httpx<1,>=0.23.0->langsmith<0.4,>=0.1.125->langchain_community) (0.14.0)\n",
            "Requirement already satisfied: jsonpointer>=1.9 in /usr/local/lib/python3.11/dist-packages (from jsonpatch<2.0,>=1.33->langchain-core<1.0.0,>=0.3.45->langchain_community) (3.0.0)\n",
            "Requirement already satisfied: annotated-types>=0.6.0 in /usr/local/lib/python3.11/dist-packages (from pydantic<3.0.0,>=2.7.4->langchain<1.0.0,>=0.3.21->langchain_community) (0.7.0)\n",
            "Requirement already satisfied: pydantic-core==2.27.2 in /usr/local/lib/python3.11/dist-packages (from pydantic<3.0.0,>=2.7.4->langchain<1.0.0,>=0.3.21->langchain_community) (2.27.2)\n",
            "Requirement already satisfied: mypy-extensions>=0.3.0 in /usr/local/lib/python3.11/dist-packages (from typing-inspect<1,>=0.4.0->dataclasses-json<0.7,>=0.5.7->langchain_community) (1.0.0)\n",
            "Requirement already satisfied: sniffio>=1.1 in /usr/local/lib/python3.11/dist-packages (from anyio->httpx<1,>=0.23.0->langsmith<0.4,>=0.1.125->langchain_community) (1.3.1)\n"
          ]
        }
      ]
    },
    {
      "cell_type": "code",
      "source": [
        "import os\n",
        "import smtplib\n",
        "import sqlite3\n",
        "from email.mime.text import MIMEText\n",
        "from langchain.chat_models import ChatOpenAI\n",
        "from langchain.agents import initialize_agent, Tool\n",
        "from langchain.memory import ConversationBufferMemory\n",
        "from langchain.utilities import SerpAPIWrapper"
      ],
      "metadata": {
        "id": "sFHLOhNLT8Il"
      },
      "execution_count": null,
      "outputs": []
    },
    {
      "cell_type": "code",
      "source": [
        "# Set up API keys (replace with your actual API keys)\n",
        "OPENAI_API_KEY = \"\"\n",
        "SERPAPI_API_KEY = \"\""
      ],
      "metadata": {
        "id": "lA1OxPlWT9tk"
      },
      "execution_count": null,
      "outputs": []
    },
    {
      "cell_type": "code",
      "source": [
        "# Initialize OpenAI LLM\n",
        "#llm = ChatOpenAI(model=\"gpt-4\", temperature=0.7)\n",
        "llm = ChatOpenAI(model=\"gpt-4\", temperature=0.7, openai_api_key=OPENAI_API_KEY)\n",
        "\n",
        "\n",
        "# Web Search Tool\n",
        "#search = SerpAPIWrapper()\n",
        "search = SerpAPIWrapper(serpapi_api_key=SERPAPI_API_KEY)"
      ],
      "metadata": {
        "id": "uhOMt5e8UKaM"
      },
      "execution_count": null,
      "outputs": []
    },
    {
      "cell_type": "code",
      "execution_count": null,
      "metadata": {
        "id": "rnWgIk45TFkt"
      },
      "outputs": [],
      "source": [
        "def web_search(query: str):\n",
        "    \"\"\"Fetches real-time search results.\"\"\"\n",
        "    return search.run(query)\n",
        "\n",
        "# Define AI Agent Memory\n",
        "memory = ConversationBufferMemory(memory_key=\"chat_history\", return_messages=True)\n",
        "\n",
        "# Define AI Tools\n",
        "search_tool = Tool(name=\"Web Search\", func=web_search, description=\"Searches the web for the latest information.\")\n",
        "\n",
        "def summarize_text(text: str):\n",
        "    \"\"\"Summarizes long articles or text inputs.\"\"\"\n",
        "    return llm.predict(f\"Summarize this: {text}\")\n",
        "\n",
        "summarize_tool = Tool(name=\"Summarizer\", func=summarize_text, description=\"Summarizes articles and text inputs.\")\n",
        "\n",
        "# Initialize AI Agent\n",
        "agent = initialize_agent(\n",
        "    tools=[search_tool, summarize_tool],\n",
        "    llm=llm,\n",
        "    agent=\"zero-shot-react-description\",\n",
        "    memory=memory,\n",
        "    verbose=True\n",
        ")\n"
      ]
    },
    {
      "cell_type": "code",
      "source": [
        "\n",
        "# Database Setup\n",
        "db_conn = sqlite3.connect(\"ai_agent_data.db\")\n",
        "cursor = db_conn.cursor()\n",
        "cursor.execute(\"\"\"\n",
        "    CREATE TABLE IF NOT EXISTS ai_responses (\n",
        "        id INTEGER PRIMARY KEY AUTOINCREMENT,\n",
        "        query TEXT,\n",
        "        response TEXT\n",
        "    )\n",
        "\"\"\")\n",
        "db_conn.commit()"
      ],
      "metadata": {
        "id": "dR-KyXFHUczr"
      },
      "execution_count": null,
      "outputs": []
    },
    {
      "cell_type": "code",
      "source": [
        "def store_response(query, response):\n",
        "    \"\"\"Stores AI responses in the database.\"\"\"\n",
        "    cursor.execute(\"INSERT INTO ai_responses (query, response) VALUES (?, ?)\", (query, response))\n",
        "    db_conn.commit()"
      ],
      "metadata": {
        "id": "2rUrmKa4UfWT"
      },
      "execution_count": null,
      "outputs": []
    },
    {
      "cell_type": "code",
      "source": [
        "def send_email(subject, body, recipient_email):\n",
        "    \"\"\"Sends an email with the AI agent's response.\"\"\"\n",
        "    sender_email = \"clarityandinsights@gmail.com\"\n",
        "    sender_password = \"serene98\"\n",
        "\n",
        "    msg = MIMEText(body)\n",
        "    msg[\"Subject\"] = subject\n",
        "    msg[\"From\"] = sender_email\n",
        "    msg[\"To\"] = recipient_email\n",
        "\n",
        "    try:\n",
        "        with smtplib.SMTP_SSL(\"smtp.gmail.com\", 465) as server:\n",
        "            server.login(sender_email, sender_password)\n",
        "            server.sendmail(sender_email, recipient_email, msg.as_string())\n",
        "        print(\"Email sent successfully!\")\n",
        "    except Exception as e:\n",
        "        print(f\"Failed to send email: {e}\")"
      ],
      "metadata": {
        "id": "ZEIO3LQeUipc"
      },
      "execution_count": null,
      "outputs": []
    },
    {
      "cell_type": "code",
      "source": [
        "# Run AI Agent\n",
        "query = \"Latest trends in generative AI\"\n",
        "response = agent.run(query)\n",
        "print(\"Agentic AI Response:\", response)\n",
        "\n",
        "# Store response in database\n",
        "store_response(query, response)\n",
        "\n",
        "# Send response via email\n",
        "recipient_email = \"clarityandinsights@gmail.com\"\n",
        "send_email(\"AI Research Update\", response, recipient_email)\n",
        "\n",
        "db_conn.close()\n"
      ],
      "metadata": {
        "colab": {
          "base_uri": "https://localhost:8080/"
        },
        "id": "3RB_Y6CRUWik",
        "outputId": "62ecce5a-8215-4f49-a9a2-a73d58b7ce10"
      },
      "execution_count": null,
      "outputs": [
        {
          "output_type": "stream",
          "name": "stdout",
          "text": [
            "\n",
            "\n",
            "\u001b[1m> Entering new AgentExecutor chain...\u001b[0m\n",
            "\u001b[32;1m\u001b[1;3mI need to find the most recent and reputable sources on generative AI trends.\n",
            "Action: Web Search\n",
            "Action Input: \"Latest trends in generative AI 2022\"\u001b[0m\n",
            "Observation: \u001b[36;1m\u001b[1;3m[' entity_type: related_questions.', 'The latest annual McKinsey Global Survey on the current state of AI confirms the explosive growth of generative AI (gen AI) tools.', 'Current AI trends in artificial intelligence include the widespread adoption of AI for automating routine tasks and enhancing efficiency across ...', 'Adapting to emerging trends is essential to maximizing potential, minimizing risk and responsibly scaling generative AI adoption.', 'Source: AI-powered marketing and sales reach new heights with generative AI ... trends grew by 400,000 between 2021 and 2022,. Image description:.', 'Generative AI is a type of AI (such as ChatGPT) that can generate new forms of creative content, such as audio, code, images, text, simulations and videos.', '1. Multimodal Shapes Generative AI Trends · 2. Small Language Models Make a Big Impact · 3. Autonomous Agents Grow More Advanced · 4. Demand for ...', 'Generative AI is adding new levels of personalization and refinement to games and interactive media. For example, developers can tailor ...', 'We foresee some major Generative AI trends shaping up in this year, with major players like Google, Anthropic and OpenAI taking lead and introducing more ...', 'The global generative AI in creative industries market size was valued at $1.7 billion in 2022, and is projected to reach $21.6 billion by 2032, ...', \"That's because during 2022 generative AI systems have also become shockingly good at composing text on almost any topic.\"]\u001b[0m\n",
            "Thought:\u001b[32;1m\u001b[1;3mI see several trends in the generative AI field based on the search results. These include the widespread adoption of AI for automating routine tasks, the explosive growth of generative AI tools, an increase in small language models making a big impact, and autonomous agents growing more advanced. Also, generative AI is adding new levels of personalization and refinement to games and interactive media. However, this is a lot of information that needs to be summarized.\n",
            "Action: Summarizer\n",
            "Action Input: 'The latest annual McKinsey Global Survey on the current state of AI confirms the explosive growth of generative AI (gen AI) tools. Current AI trends in artificial intelligence include the widespread adoption of AI for automating routine tasks and enhancing efficiency across. Adapting to emerging trends is essential to maximizing potential, minimizing risk and responsibly scaling generative AI adoption. Generative AI is a type of AI (such as ChatGPT) that can generate new forms of creative content, such as audio, code, images, text, simulations and videos. 1. Multimodal Shapes Generative AI Trends · 2. Small Language Models Make a Big Impact · 3. Autonomous Agents Grow More Advanced. Generative AI is adding new levels of personalization and refinement to games and interactive media. We foresee some major Generative AI trends shaping up in this year, with major players like Google, Anthropic and OpenAI taking lead and introducing more.'\u001b[0m"
          ]
        },
        {
          "output_type": "stream",
          "name": "stderr",
          "text": [
            "<ipython-input-9-63d1bc8b4168>:13: LangChainDeprecationWarning: The method `BaseChatModel.predict` was deprecated in langchain-core 0.1.7 and will be removed in 1.0. Use :meth:`~invoke` instead.\n",
            "  return llm.predict(f\"Summarize this: {text}\")\n"
          ]
        },
        {
          "output_type": "stream",
          "name": "stdout",
          "text": [
            "\n",
            "Observation: \u001b[33;1m\u001b[1;3mThe latest annual McKinsey Global Survey reveals a rapid growth in the use of generative AI (gen AI) tools. These tools, such as ChatGPT, can generate new forms of creative content like audio, images, text, simulations, and videos. Current trends in AI include its widespread use in automating routine tasks and improving efficiency. Adapting to these trends is key to maximizing potential, minimizing risk, and scaling gen AI adoption responsibly. Three key trends have been identified: multimodal shapes in gen AI, the significant impact of small language models, and the advancement of autonomous agents. Gen AI is enhancing personalization and refinement in games and interactive media. Major players like Google, Anthropic, and OpenAI are expected to lead and introduce more in this field in the coming year.\u001b[0m\n",
            "Thought:\u001b[32;1m\u001b[1;3mI now know the final answer.\n",
            "Final Answer: The latest trends in generative AI, as per the McKinsey Global Survey, include a rapid growth in the use of generative AI tools, such as ChatGPT, which can create new forms of creative content like audio, images, text, simulations, and videos. AI is widely used in automating routine tasks and enhancing efficiency. Other trends include the growing impact of small language models, the advancement in autonomous agents, and the use of generative AI in enhancing personalization and refinement in games and interactive media. Major companies like Google, Anthropic, and OpenAI are expected to lead and introduce more in this field in the coming year.\u001b[0m\n",
            "\n",
            "\u001b[1m> Finished chain.\u001b[0m\n",
            "Agentic AI Response: The latest trends in generative AI, as per the McKinsey Global Survey, include a rapid growth in the use of generative AI tools, such as ChatGPT, which can create new forms of creative content like audio, images, text, simulations, and videos. AI is widely used in automating routine tasks and enhancing efficiency. Other trends include the growing impact of small language models, the advancement in autonomous agents, and the use of generative AI in enhancing personalization and refinement in games and interactive media. Major companies like Google, Anthropic, and OpenAI are expected to lead and introduce more in this field in the coming year.\n",
            "Failed to send email: (535, b'5.7.8 Username and Password not accepted. For more information, go to\\n5.7.8  https://support.google.com/mail/?p=BadCredentials 6a1803df08f44-6eade23509asm93143096d6.47 - gsmtp')\n"
          ]
        }
      ]
    }
  ]
}