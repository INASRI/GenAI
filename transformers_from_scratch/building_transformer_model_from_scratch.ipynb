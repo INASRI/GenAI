{
  "nbformat": 4,
  "nbformat_minor": 0,
  "metadata": {
    "colab": {
      "provenance": []
    },
    "kernelspec": {
      "name": "python3",
      "display_name": "Python 3"
    },
    "language_info": {
      "name": "python"
    }
  },
  "cells": [
    {
      "cell_type": "code",
      "source": [
        "import torch\n",
        "import torch.nn as nn\n",
        "import torch.optim as optim\n",
        "import numpy as np"
      ],
      "metadata": {
        "id": "H_Y6gmGa6vuM"
      },
      "execution_count": 1,
      "outputs": []
    },
    {
      "cell_type": "code",
      "source": [
        "# Define the scaled dot-product attention\n",
        "def scaled_dot_product_attention(query, key, value, mask=None):\n",
        "    d_k = query.size(-1)\n",
        "    scores = torch.matmul(query, key.transpose(-2, -1)) / torch.sqrt(torch.tensor(d_k, dtype=torch.float32))\n",
        "    if mask is not None:\n",
        "        scores = scores.masked_fill(mask == 0, -1e9)\n",
        "    attention_weights = torch.nn.functional.softmax(scores, dim=-1)\n",
        "    output = torch.matmul(attention_weights, value)\n",
        "    return output, attention_weights\n",
        "\n",
        "# Define the multi-head attention module\n",
        "class MultiHeadAttention(nn.Module):\n",
        "    def __init__(self, d_model, num_heads):\n",
        "        super().__init__()\n",
        "        self.num_heads = num_heads\n",
        "        self.d_model = d_model\n",
        "        self.d_k = d_model // num_heads\n",
        "\n",
        "        self.query = nn.Linear(d_model, d_model)\n",
        "        self.key = nn.Linear(d_model, d_model)\n",
        "        self.value = nn.Linear(d_model, d_model)\n",
        "        self.out = nn.Linear(d_model, d_model)\n",
        "\n",
        "    def forward(self, query, key, value, mask=None):\n",
        "        batch_size = query.size(0)\n",
        "\n",
        "        def split_heads(x):\n",
        "            return x.view(batch_size, -1, self.num_heads, self.d_k).transpose(1, 2)\n",
        "\n",
        "        query = split_heads(self.query(query))\n",
        "        key = split_heads(self.key(key))\n",
        "        value = split_heads(self.value(value))\n",
        "\n",
        "        attention_output, _ = scaled_dot_product_attention(query, key, value, mask)\n",
        "        attention_output = attention_output.transpose(1, 2).contiguous().view(batch_size, -1, self.d_model)\n",
        "        return self.out(attention_output)"
      ],
      "metadata": {
        "id": "pC4K-xiP6zx7"
      },
      "execution_count": 2,
      "outputs": []
    },
    {
      "cell_type": "code",
      "source": [
        "# Define the feedforward network\n",
        "class FeedForward(nn.Module):\n",
        "    def __init__(self, d_model, d_ff):\n",
        "        super().__init__()\n",
        "        self.linear1 = nn.Linear(d_model, d_ff)\n",
        "        self.linear2 = nn.Linear(d_ff, d_model)\n",
        "        self.relu = nn.ReLU()\n",
        "\n",
        "    def forward(self, x):\n",
        "        return self.linear2(self.relu(self.linear1(x)))"
      ],
      "metadata": {
        "id": "UxS862Kp62M8"
      },
      "execution_count": 3,
      "outputs": []
    },
    {
      "cell_type": "code",
      "source": [
        "# Define positional encoding\n",
        "class PositionalEncoding(nn.Module):\n",
        "    def __init__(self, d_model, max_len=5000):\n",
        "        super().__init__()\n",
        "        position = torch.arange(0, max_len).unsqueeze(1)\n",
        "        div_term = torch.exp(torch.arange(0, d_model, 2) * -(np.log(10000.0) / d_model))\n",
        "        pe = torch.zeros(max_len, d_model)\n",
        "        pe[:, 0::2] = torch.sin(position * div_term)\n",
        "        pe[:, 1::2] = torch.cos(position * div_term)\n",
        "        self.register_buffer('pe', pe.unsqueeze(0))\n",
        "\n",
        "    def forward(self, x):\n",
        "        return x + self.pe[:, :x.size(1)]"
      ],
      "metadata": {
        "id": "VcYwcoTa65cD"
      },
      "execution_count": 4,
      "outputs": []
    },
    {
      "cell_type": "code",
      "source": [
        "# Define the Transformer block\n",
        "class TransformerBlock(nn.Module):\n",
        "    def __init__(self, d_model, num_heads, d_ff, dropout=0.1):\n",
        "        super().__init__()\n",
        "        self.attention = MultiHeadAttention(d_model, num_heads)\n",
        "        self.feed_forward = FeedForward(d_model, d_ff)\n",
        "        self.norm1 = nn.LayerNorm(d_model)\n",
        "        self.norm2 = nn.LayerNorm(d_model)\n",
        "        self.dropout = nn.Dropout(dropout)\n",
        "\n",
        "    def forward(self, x, mask=None):\n",
        "        attn_output = self.dropout(self.attention(x, x, x, mask))\n",
        "        x = self.norm1(x + attn_output)\n",
        "        ff_output = self.dropout(self.feed_forward(x))\n",
        "        x = self.norm2(x + ff_output)\n",
        "        return x"
      ],
      "metadata": {
        "id": "qbbUT00h6_Lq"
      },
      "execution_count": 5,
      "outputs": []
    },
    {
      "cell_type": "code",
      "source": [
        "# Define the Transformer model\n",
        "class Transformer(nn.Module):\n",
        "    def __init__(self, input_vocab_size, target_vocab_size, d_model, num_heads, d_ff, num_layers, max_len=100, dropout=0.1):\n",
        "        super().__init__()\n",
        "        self.encoder_embedding = nn.Embedding(input_vocab_size, d_model)\n",
        "        self.decoder_embedding = nn.Embedding(target_vocab_size, d_model)\n",
        "        self.positional_encoding = PositionalEncoding(d_model, max_len)\n",
        "        self.encoder_layers = nn.ModuleList([TransformerBlock(d_model, num_heads, d_ff, dropout) for _ in range(num_layers)])\n",
        "        self.decoder_layers = nn.ModuleList([TransformerBlock(d_model, num_heads, d_ff, dropout) for _ in range(num_layers)])\n",
        "        self.fc_out = nn.Linear(d_model, target_vocab_size)\n",
        "\n",
        "    def forward(self, src, trg, src_mask=None, trg_mask=None):\n",
        "        # Encoder\n",
        "        src = self.encoder_embedding(src)\n",
        "        src = self.positional_encoding(src)\n",
        "        for layer in self.encoder_layers:\n",
        "            src = layer(src, src_mask)\n",
        "\n",
        "        # Decoder\n",
        "        trg = self.decoder_embedding(trg)\n",
        "        trg = self.positional_encoding(trg)\n",
        "        for layer in self.decoder_layers:\n",
        "            trg = layer(trg, trg_mask)\n",
        "\n",
        "        # Output layer\n",
        "        return self.fc_out(trg)"
      ],
      "metadata": {
        "id": "XL9jxwYE7DVD"
      },
      "execution_count": 6,
      "outputs": []
    },
    {
      "cell_type": "code",
      "source": [
        "# Define hyperparameters\n",
        "INPUT_VOCAB_SIZE = 1000\n",
        "TARGET_VOCAB_SIZE = 1000\n",
        "D_MODEL = 512\n",
        "NUM_HEADS = 8\n",
        "D_FF = 2048\n",
        "NUM_LAYERS = 6\n",
        "MAX_LEN = 100"
      ],
      "metadata": {
        "id": "mhikhzKr6pXN"
      },
      "execution_count": 7,
      "outputs": []
    },
    {
      "cell_type": "code",
      "source": [
        "# Instantiate the model\n",
        "model = Transformer(INPUT_VOCAB_SIZE, TARGET_VOCAB_SIZE, D_MODEL, NUM_HEADS, D_FF, NUM_LAYERS, MAX_LEN)\n"
      ],
      "metadata": {
        "id": "P4oA5kt97QO9"
      },
      "execution_count": 8,
      "outputs": []
    },
    {
      "cell_type": "code",
      "source": [
        "\n",
        "# Example input (batch of tokenized sequences)\n",
        "src = torch.randint(0, INPUT_VOCAB_SIZE, (32, 10))  # Source batch (batch_size=32, seq_len=10)\n",
        "trg = torch.randint(0, TARGET_VOCAB_SIZE, (32, 10))  # Target batch (batch_size=32, seq_len=10)\n"
      ],
      "metadata": {
        "id": "AqCTsPF77MIM"
      },
      "execution_count": 9,
      "outputs": []
    },
    {
      "cell_type": "code",
      "source": [
        "\n",
        "# Forward pass\n",
        "output = model(src, trg)\n",
        "print(output.shape)  # Should be (batch_size, seq_len, target_vocab_size)\n"
      ],
      "metadata": {
        "colab": {
          "base_uri": "https://localhost:8080/"
        },
        "id": "_2Q92p-67TGD",
        "outputId": "21718866-a518-4ff5-9edb-b6d13e6fb802"
      },
      "execution_count": 10,
      "outputs": [
        {
          "output_type": "stream",
          "name": "stdout",
          "text": [
            "torch.Size([32, 10, 1000])\n"
          ]
        }
      ]
    },
    {
      "cell_type": "code",
      "source": [
        "# Training and Testing\n",
        "\n",
        "# Define loss function and optimizer\n",
        "criterion = nn.CrossEntropyLoss()\n",
        "optimizer = optim.Adam(model.parameters(), lr=0.0001)\n",
        "\n",
        "# Training loop\n",
        "def train_model(model, src_data, trg_data, epochs=10):\n",
        "    model.train()\n",
        "    for epoch in range(epochs):\n",
        "        optimizer.zero_grad()\n",
        "        output = model(src_data, trg_data[:, :-1])\n",
        "        output = output.reshape(-1, output.shape[-1])\n",
        "        trg = trg_data[:, 1:].reshape(-1)\n",
        "        loss = criterion(output, trg)\n",
        "        loss.backward()\n",
        "        optimizer.step()\n",
        "        print(f\"Epoch {epoch + 1}/{epochs}, Loss: {loss.item():.4f}\")"
      ],
      "metadata": {
        "id": "NDxryoQc9PFU"
      },
      "execution_count": 11,
      "outputs": []
    },
    {
      "cell_type": "code",
      "source": [
        "# Generate dummy data\n",
        "src_data = torch.randint(0, INPUT_VOCAB_SIZE, (32, 20))\n",
        "trg_data = torch.randint(0, TARGET_VOCAB_SIZE, (32, 20))\n",
        "\n",
        "# Train the model\n",
        "train_model(model, src_data, trg_data, epochs=5)"
      ],
      "metadata": {
        "colab": {
          "base_uri": "https://localhost:8080/"
        },
        "id": "MqDFNVzU9S7c",
        "outputId": "7c0de1ee-94c0-4482-e074-8e66fa584b74"
      },
      "execution_count": 12,
      "outputs": [
        {
          "output_type": "stream",
          "name": "stdout",
          "text": [
            "Epoch 1/5, Loss: 7.0700\n",
            "Epoch 2/5, Loss: 6.7161\n",
            "Epoch 3/5, Loss: 6.4552\n",
            "Epoch 4/5, Loss: 6.2518\n",
            "Epoch 5/5, Loss: 6.0419\n"
          ]
        }
      ]
    },
    {
      "cell_type": "code",
      "source": [
        "# Simple test for translation\n",
        "def translate(model, src_sentence):\n",
        "    model.eval()\n",
        "    with torch.no_grad():\n",
        "        src = torch.tensor(src_sentence).unsqueeze(0)\n",
        "        trg = torch.zeros((1, MAX_LEN), dtype=torch.long)\n",
        "        for i in range(1, MAX_LEN):\n",
        "            output = model(src, trg[:, :i])\n",
        "            next_word = output.argmax(dim=-1)[:, -1]\n",
        "            trg[0, i] = next_word\n",
        "            if next_word.item() == 1:  # Assuming 1 is the <eos> token\n",
        "                break\n",
        "        return trg.squeeze().tolist()"
      ],
      "metadata": {
        "id": "FDk4qU5L9Zrb"
      },
      "execution_count": 13,
      "outputs": []
    },
    {
      "cell_type": "code",
      "source": [
        "# Test translation\n",
        "src_sentence = [5, 20, 30, 40, 50, 60, 70]  # Example tokenized source sentence\n",
        "translation = translate(model, src_sentence)\n",
        "print(\"Translated Sentence:\", translation)\n"
      ],
      "metadata": {
        "colab": {
          "base_uri": "https://localhost:8080/"
        },
        "id": "2xEJXYqF9MDr",
        "outputId": "68396f97-e7ea-4237-e694-bc354bb4fe44"
      },
      "execution_count": 14,
      "outputs": [
        {
          "output_type": "stream",
          "name": "stdout",
          "text": [
            "Translated Sentence: [0, 609, 909, 336, 387, 51, 435, 435, 435, 435, 435, 601, 336, 387, 778, 336, 387, 51, 435, 435, 435, 435, 435, 435, 435, 435, 435, 435, 435, 435, 601, 336, 601, 336, 601, 336, 387, 51, 435, 336, 601, 336, 601, 336, 601, 336, 387, 778, 336, 387, 51, 601, 336, 387, 778, 336, 387, 51, 69, 955, 601, 336, 387, 51, 435, 336, 387, 51, 955, 601, 336, 387, 51, 435, 336, 231, 601, 336, 387, 51, 435, 336, 387, 51, 435, 336, 387, 272, 272, 387, 51, 720, 205, 986, 565, 205, 336, 387, 272, 387]\n"
          ]
        }
      ]
    }
  ]
}