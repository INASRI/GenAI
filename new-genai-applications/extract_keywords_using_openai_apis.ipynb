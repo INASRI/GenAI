{
  "nbformat": 4,
  "nbformat_minor": 0,
  "metadata": {
    "colab": {
      "provenance": []
    },
    "kernelspec": {
      "name": "python3",
      "display_name": "Python 3"
    },
    "language_info": {
      "name": "python"
    }
  },
  "cells": [
    {
      "cell_type": "code",
      "source": [
        "from openai import OpenAI\n",
        "client = OpenAI(api_key=\"\")"
      ],
      "metadata": {
        "id": "bHzHml53jc5w"
      },
      "execution_count": 1,
      "outputs": []
    },
    {
      "cell_type": "code",
      "execution_count": 2,
      "metadata": {
        "id": "MXQbbEynjYKr"
      },
      "outputs": [],
      "source": [
        "response = client.chat.completions.create(\n",
        "  model=\"gpt-4o\",\n",
        "  messages=[\n",
        "    {\n",
        "      \"role\": \"system\",\n",
        "      \"content\": \"You will be provided with a block of text, and your task is to extract a list of keywords from it.\"\n",
        "    },\n",
        "    {\n",
        "      \"role\": \"user\",\n",
        "      \"content\": \"Black-on-black ware is a 20th- and 21st-century pottery tradition developed by the Puebloan Native American ceramic artists in Northern New Mexico. Traditional reduction-fired blackware has been made for centuries by pueblo artists. Black-on-black ware of the past century is produced with a smooth surface, with the designs applied through selective burnishing or the application of refractory slip. Another style involves carving or incising designs and selectively polishing the raised areas. For generations several families from Kha'po Owingeh and P'ohwhóge Owingeh pueblos have been making black-on-black ware with the techniques passed down from matriarch potters. Artists from other pueblos have also produced black-on-black ware. Several contemporary artists have created works honoring the pottery of their ancestors.\"\n",
        "    }\n",
        "  ],\n",
        "  temperature=0.5,\n",
        "  max_tokens=256,\n",
        "  top_p=1\n",
        ")"
      ]
    },
    {
      "cell_type": "code",
      "source": [
        "print(response)"
      ],
      "metadata": {
        "colab": {
          "base_uri": "https://localhost:8080/"
        },
        "id": "zWnvvTX4j4tD",
        "outputId": "6796b25b-d774-4c0a-ad4d-12c863ad90b9"
      },
      "execution_count": 3,
      "outputs": [
        {
          "output_type": "stream",
          "name": "stdout",
          "text": [
            "ChatCompletion(id='chatcmpl-AYxIylsvVUYe2GbCHZdDjEO5KH6cp', choices=[Choice(finish_reason='stop', index=0, logprobs=None, message=ChatCompletionMessage(content=\"- Black-on-black ware  \\n- 20th- and 21st-century  \\n- Pottery tradition  \\n- Puebloan Native American  \\n- Ceramic artists  \\n- Northern New Mexico  \\n- Reduction-fired blackware  \\n- Pueblo artists  \\n- Smooth surface  \\n- Selective burnishing  \\n- Refractory slip  \\n- Carving  \\n- Incising designs  \\n- Polishing  \\n- Kha'po Owingeh  \\n- P'ohwhóge Owingeh  \\n- Matriarch potters  \\n- Contemporary artists  \\n- Ancestral pottery\", refusal=None, role='assistant', audio=None, function_call=None, tool_calls=None))], created=1732894484, model='gpt-4o-2024-08-06', object='chat.completion', service_tier=None, system_fingerprint='fp_7f6be3efb0', usage=CompletionUsage(completion_tokens=112, prompt_tokens=191, total_tokens=303, completion_tokens_details=CompletionTokensDetails(accepted_prediction_tokens=0, audio_tokens=0, reasoning_tokens=0, rejected_prediction_tokens=0), prompt_tokens_details=PromptTokensDetails(audio_tokens=0, cached_tokens=0)))\n"
          ]
        }
      ]
    },
    {
      "cell_type": "code",
      "source": [
        "print(response.choices[0].message.content) # Use dot notation to access 'content'"
      ],
      "metadata": {
        "colab": {
          "base_uri": "https://localhost:8080/"
        },
        "id": "jSkWUxlOj9FJ",
        "outputId": "b8ef1f2c-5647-4874-cdef-cbeedd3cc42a"
      },
      "execution_count": 4,
      "outputs": [
        {
          "output_type": "stream",
          "name": "stdout",
          "text": [
            "- Black-on-black ware  \n",
            "- 20th- and 21st-century  \n",
            "- Pottery tradition  \n",
            "- Puebloan Native American  \n",
            "- Ceramic artists  \n",
            "- Northern New Mexico  \n",
            "- Reduction-fired blackware  \n",
            "- Pueblo artists  \n",
            "- Smooth surface  \n",
            "- Selective burnishing  \n",
            "- Refractory slip  \n",
            "- Carving  \n",
            "- Incising designs  \n",
            "- Polishing  \n",
            "- Kha'po Owingeh  \n",
            "- P'ohwhóge Owingeh  \n",
            "- Matriarch potters  \n",
            "- Contemporary artists  \n",
            "- Ancestral pottery\n"
          ]
        }
      ]
    }
  ]
}