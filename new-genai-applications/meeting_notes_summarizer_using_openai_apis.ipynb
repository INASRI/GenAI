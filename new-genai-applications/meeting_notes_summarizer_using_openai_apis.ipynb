{
  "nbformat": 4,
  "nbformat_minor": 0,
  "metadata": {
    "colab": {
      "provenance": []
    },
    "kernelspec": {
      "name": "python3",
      "display_name": "Python 3"
    },
    "language_info": {
      "name": "python"
    }
  },
  "cells": [
    {
      "cell_type": "code",
      "source": [
        "from openai import OpenAI\n",
        "client = OpenAI(api_key=\"\")"
      ],
      "metadata": {
        "id": "BVvd5bmqkn5V"
      },
      "execution_count": 1,
      "outputs": []
    },
    {
      "cell_type": "code",
      "execution_count": 2,
      "metadata": {
        "id": "j9JrKZQekY-A"
      },
      "outputs": [],
      "source": [
        "response = client.chat.completions.create(\n",
        "  model=\"gpt-4o\",\n",
        "  messages=[\n",
        "    {\n",
        "      \"role\": \"system\",\n",
        "      \"content\": \"You will be provided with meeting notes, and your task is to summarize the meeting as follows:\\n    \\n    -Overall summary of discussion\\n    -Action items (what needs to be done and who is doing it)\\n    -If applicable, a list of topics that need to be discussed more fully in the next meeting.\"\n",
        "    },\n",
        "    {\n",
        "      \"role\": \"user\",\n",
        "      \"content\": \"Meeting Date: March 5th, 2050\\n    Meeting Time: 2:00 PM\\n    Location: Conference Room 3B, Intergalactic Headquarters\\n    \\n    Attendees:\\n    - Captain Stardust\\n    - Dr. Quasar\\n    - Lady Nebula\\n    - Sir Supernova\\n    - Ms. Comet\\n    \\n    Meeting called to order by Captain Stardust at 2:05 PM\\n    \\n    1. Introductions and welcome to our newest team member, Ms. Comet\\n    \\n    2. Discussion of our recent mission to Planet Zog\\n    - Captain Stardust: \\\"Overall, a success, but communication with the Zogians was difficult. We need to improve our language skills.\\\"\\n    - Dr. Quasar: \\\"Agreed. I'll start working on a Zogian-English dictionary right away.\\\"\\n    - Lady Nebula: \\\"The Zogian food was out of this world, literally! We should consider having a Zogian food night on the ship.\\\"\\n    \\n    3. Addressing the space pirate issue in Sector 7\\n    - Sir Supernova: \\\"We need a better strategy for dealing with these pirates. They've already plundered three cargo ships this month.\\\"\\n    - Captain Stardust: \\\"I'll speak with Admiral Starbeam about increasing patrols in that area.\\n    - Dr. Quasar: \\\"I've been working on a new cloaking technology that could help our ships avoid detection by the pirates. I'll need a few more weeks to finalize the prototype.\\\"\\n    \\n    4. Review of the annual Intergalactic Bake-Off\\n    - Lady Nebula: \\\"I'm happy to report that our team placed second in the competition! Our Martian Mud Pie was a big hit!\\\"\\n    - Ms. Comet: \\\"Let's aim for first place next year. I have a secret recipe for Jupiter Jello that I think could be a winner.\\\"\\n    \\n    5. Planning for the upcoming charity fundraiser\\n    - Captain Stardust: \\\"We need some creative ideas for our booth at the Intergalactic Charity Bazaar.\\\"\\n    - Sir Supernova: \\\"How about a 'Dunk the Alien' game? We can have people throw water balloons at a volunteer dressed as an alien.\\\"\\n    - Dr. Quasar: \\\"I can set up a 'Name That Star' trivia game with prizes for the winners.\\\"\\n    - Lady Nebula: \\\"Great ideas, everyone. Let's start gathering the supplies and preparing the games.\\\"\\n    \\n    6. Upcoming team-building retreat\\n    - Ms. Comet: \\\"I would like to propose a team-building retreat to the Moon Resort and Spa. It's a great opportunity to bond and relax after our recent missions.\\\"\\n    - Captain Stardust: \\\"Sounds like a fantastic idea. I'll check the budget and see if we can make it happen.\\\"\\n    \\n    7. Next meeting agenda items\\n    - Update on the Zogian-English dictionary (Dr. Quasar)\\n    - Progress report on the cloaking technology (Dr. Quasar)\\n    - Results of increased patrols in Sector 7 (Captain Stardust)\\n    - Final preparations for the Intergalactic Charity Bazaar (All)\\n    \\n    Meeting adjourned at 3:15 PM. Next meeting scheduled for March 19th, 2050 at 2:00 PM in Conference Room 3B, Intergalactic Headquarters.\"\n",
        "    }\n",
        "  ],\n",
        "  temperature=1,\n",
        "  max_tokens=1024,\n",
        "  top_p=1\n",
        ")"
      ]
    },
    {
      "cell_type": "code",
      "source": [
        "print(response)"
      ],
      "metadata": {
        "colab": {
          "base_uri": "https://localhost:8080/"
        },
        "id": "ouB1h50UllHK",
        "outputId": "bd3e01b4-01c7-4818-9b59-d2b4a65526fb"
      },
      "execution_count": 3,
      "outputs": [
        {
          "output_type": "stream",
          "name": "stdout",
          "text": [
            "ChatCompletion(id='chatcmpl-AYxQiD2JENN18nhuRAwjsFAxzsGaG', choices=[Choice(finish_reason='stop', index=0, logprobs=None, message=ChatCompletionMessage(content='**Overall Summary of Discussion:**\\n\\nThe meeting commenced with introductions, including a welcome to new team member Ms. Comet. The team reviewed their recent mission to Planet Zog, noting communication challenges and celebrating the successful exchange. Language skills were highlighted as an area for improvement. A significant topic was the ongoing space pirate issue in Sector 7, where Sir Supernova called for a strategic change, and Dr. Quasar is developing cloaking technology. The team also celebrated their second-place win at the Intergalactic Bake-Off, setting goals for next year. Planning began for their charity bazaar booth with creative suggestions for engagement activities. Lastly, Ms. Comet proposed a team-building retreat to the Moon Resort and Spa, which Captain Stardust will evaluate.\\n\\n**Action Items:**\\n\\n1. **Dr. Quasar** - Begin development of a Zogian-English dictionary.\\n2. **Captain Stardust** - Discuss increased patrols with Admiral Starbeam in Sector 7.\\n3. **Dr. Quasar** - Finalize the prototype of the new cloaking technology.\\n4. **Captain Stardust** - Analyze the budget for the proposed team-building retreat at Moon Resort and Spa.\\n5. **All Members** - Gather supplies and organize game logistics for the Intergalactic Charity Bazaar.\\n\\n**Topics for Further Discussion in Next Meeting:**\\n\\n1. Update on the development of the Zogian-English dictionary.\\n2. Progress on cloaking technology and potential deployment.\\n3. Effectiveness of increased patrols in Sector 7.\\n4. Final preparations for the Intergalactic Charity Bazaar.', refusal=None, role='assistant', audio=None, function_call=None, tool_calls=None))], created=1732894964, model='gpt-4o-2024-08-06', object='chat.completion', service_tier=None, system_fingerprint='fp_831e067d82', usage=CompletionUsage(completion_tokens=321, prompt_tokens=770, total_tokens=1091, completion_tokens_details=CompletionTokensDetails(accepted_prediction_tokens=0, audio_tokens=0, reasoning_tokens=0, rejected_prediction_tokens=0), prompt_tokens_details=PromptTokensDetails(audio_tokens=0, cached_tokens=0)))\n"
          ]
        }
      ]
    },
    {
      "cell_type": "code",
      "source": [
        "print(response.choices[0].message.content) # Use dot notation to access 'content'"
      ],
      "metadata": {
        "colab": {
          "base_uri": "https://localhost:8080/"
        },
        "id": "pgVIWOD0loVq",
        "outputId": "7e40c560-4aa5-41b2-a981-d6eb97f6f64a"
      },
      "execution_count": 4,
      "outputs": [
        {
          "output_type": "stream",
          "name": "stdout",
          "text": [
            "**Overall Summary of Discussion:**\n",
            "\n",
            "The meeting commenced with introductions, including a welcome to new team member Ms. Comet. The team reviewed their recent mission to Planet Zog, noting communication challenges and celebrating the successful exchange. Language skills were highlighted as an area for improvement. A significant topic was the ongoing space pirate issue in Sector 7, where Sir Supernova called for a strategic change, and Dr. Quasar is developing cloaking technology. The team also celebrated their second-place win at the Intergalactic Bake-Off, setting goals for next year. Planning began for their charity bazaar booth with creative suggestions for engagement activities. Lastly, Ms. Comet proposed a team-building retreat to the Moon Resort and Spa, which Captain Stardust will evaluate.\n",
            "\n",
            "**Action Items:**\n",
            "\n",
            "1. **Dr. Quasar** - Begin development of a Zogian-English dictionary.\n",
            "2. **Captain Stardust** - Discuss increased patrols with Admiral Starbeam in Sector 7.\n",
            "3. **Dr. Quasar** - Finalize the prototype of the new cloaking technology.\n",
            "4. **Captain Stardust** - Analyze the budget for the proposed team-building retreat at Moon Resort and Spa.\n",
            "5. **All Members** - Gather supplies and organize game logistics for the Intergalactic Charity Bazaar.\n",
            "\n",
            "**Topics for Further Discussion in Next Meeting:**\n",
            "\n",
            "1. Update on the development of the Zogian-English dictionary.\n",
            "2. Progress on cloaking technology and potential deployment.\n",
            "3. Effectiveness of increased patrols in Sector 7.\n",
            "4. Final preparations for the Intergalactic Charity Bazaar.\n"
          ]
        }
      ]
    }
  ]
}