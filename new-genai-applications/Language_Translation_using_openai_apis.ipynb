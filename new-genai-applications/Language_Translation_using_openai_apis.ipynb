{
  "nbformat": 4,
  "nbformat_minor": 0,
  "metadata": {
    "colab": {
      "provenance": []
    },
    "kernelspec": {
      "name": "python3",
      "display_name": "Python 3"
    },
    "language_info": {
      "name": "python"
    }
  },
  "cells": [
    {
      "cell_type": "code",
      "source": [
        "from openai import OpenAI\n",
        "client = OpenAI(api_key=\"\")"
      ],
      "metadata": {
        "id": "1srTdj7cpCn8"
      },
      "execution_count": 8,
      "outputs": []
    },
    {
      "cell_type": "code",
      "execution_count": 19,
      "metadata": {
        "id": "9Azk1tf-ovn9"
      },
      "outputs": [],
      "source": [
        "response = client.chat.completions.create(\n",
        "  model=\"gpt-4o\",\n",
        "  messages=[\n",
        "    {\n",
        "      \"role\": \"system\",\n",
        "      \"content\": \"You will be provided with a sentence in English, and your task is to translate it into Hindi.\"\n",
        "    },\n",
        "    {\n",
        "      \"role\": \"user\",\n",
        "      \"content\": \"\"\"\n",
        "                 Completing a remarkable turnaround, India wrapped up a famous Test victory at Optus Stadium with a 295-run victory over Australia in a one-sided result set to cause aftershocks in the latest tussle for the Border-Gavaskar Trophy.\n",
        "                 The result was essentially a formality throughout the fourth day despite counterattacking knocks from Travis Head and Mitchell Marsh. India's deserved victory was official just after tea when Harshit Rana knocked over Alex Carey as they drew first blood in the five-match series\n",
        "                 \"\"\"\n",
        "    }\n",
        "\n",
        "  ],\n",
        "  temperature=1,\n",
        "  max_tokens=256,\n",
        "  top_p=1\n",
        ")"
      ]
    },
    {
      "cell_type": "code",
      "source": [
        "print(response)"
      ],
      "metadata": {
        "colab": {
          "base_uri": "https://localhost:8080/"
        },
        "id": "Ysi94nCasl4D",
        "outputId": "9a5517d8-3669-4fa5-bda9-2b231fe490e3"
      },
      "execution_count": 20,
      "outputs": [
        {
          "output_type": "stream",
          "name": "stdout",
          "text": [
            "ChatCompletion(id='chatcmpl-AYyG68jxvG98dvs8Q1rjeCclbhNRl', choices=[Choice(finish_reason='stop', index=0, logprobs=None, message=ChatCompletionMessage(content='भारत ने एक उल्लेखनीय वापसी पूरी करते हुए ऑस्ट्रेलिया के खिलाफ एकतरफा परिणाम के रूप में 295 रन की जीत के साथ ऑप्टस स्टेडियम में एक प्रसिद्ध टेस्ट जीत हासिल की, जो बॉर्डर-गावस्कर ट्रॉफी के नवीनतम मुकाबले में झटके पैदा करने वाली है।  \\nचौथे दिन के दौरान ट्रैविस हेड और मिचेल मार्श की जवाबी आक्रमण वाली पारियों के बावजूद परिणाम मूल रूप से केवल औपचारिक था। हरशित राणा ने एलेक्स केरी को आउट कर भारत की बिल्कुल हकदार जीत को आधिकारिक बना दिया, जब उन्होंने पांच मैचों की श्रृंखला में पहली जीत हासिल की।', refusal=None, role='assistant', audio=None, function_call=None, tool_calls=None))], created=1732898150, model='gpt-4o-2024-08-06', object='chat.completion', service_tier=None, system_fingerprint='fp_7f6be3efb0', usage=CompletionUsage(completion_tokens=152, prompt_tokens=133, total_tokens=285, completion_tokens_details=CompletionTokensDetails(accepted_prediction_tokens=0, audio_tokens=0, reasoning_tokens=0, rejected_prediction_tokens=0), prompt_tokens_details=PromptTokensDetails(audio_tokens=0, cached_tokens=0)))\n"
          ]
        }
      ]
    },
    {
      "cell_type": "code",
      "source": [
        "print(response.choices[0].message.content) # Use dot notation to access 'content'\n"
      ],
      "metadata": {
        "colab": {
          "base_uri": "https://localhost:8080/"
        },
        "id": "uDFFujK9spOg",
        "outputId": "5c957fc5-361c-4817-bd26-e68372a4f89f"
      },
      "execution_count": 21,
      "outputs": [
        {
          "output_type": "stream",
          "name": "stdout",
          "text": [
            "भारत ने एक उल्लेखनीय वापसी पूरी करते हुए ऑस्ट्रेलिया के खिलाफ एकतरफा परिणाम के रूप में 295 रन की जीत के साथ ऑप्टस स्टेडियम में एक प्रसिद्ध टेस्ट जीत हासिल की, जो बॉर्डर-गावस्कर ट्रॉफी के नवीनतम मुकाबले में झटके पैदा करने वाली है।  \n",
            "चौथे दिन के दौरान ट्रैविस हेड और मिचेल मार्श की जवाबी आक्रमण वाली पारियों के बावजूद परिणाम मूल रूप से केवल औपचारिक था। हरशित राणा ने एलेक्स केरी को आउट कर भारत की बिल्कुल हकदार जीत को आधिकारिक बना दिया, जब उन्होंने पांच मैचों की श्रृंखला में पहली जीत हासिल की।\n"
          ]
        }
      ]
    }
  ]
}