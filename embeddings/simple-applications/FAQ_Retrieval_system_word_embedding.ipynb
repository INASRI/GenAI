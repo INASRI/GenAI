{
  "nbformat": 4,
  "nbformat_minor": 0,
  "metadata": {
    "colab": {
      "provenance": []
    },
    "kernelspec": {
      "name": "python3",
      "display_name": "Python 3"
    },
    "language_info": {
      "name": "python"
    }
  },
  "cells": [
    {
      "cell_type": "code",
      "source": [
        "from transformers import AutoTokenizer, AutoModel\n",
        "import numpy as np"
      ],
      "metadata": {
        "id": "v10S0lmnFNoG"
      },
      "execution_count": 4,
      "outputs": []
    },
    {
      "cell_type": "code",
      "source": [
        "# Load a pre-trained transformer model\n",
        "model_name = \"sentence-transformers/all-MiniLM-L6-v2\"\n",
        "tokenizer = AutoTokenizer.from_pretrained(model_name)\n",
        "model = AutoModel.from_pretrained(model_name)"
      ],
      "metadata": {
        "id": "0VD2RltiFP-n"
      },
      "execution_count": 5,
      "outputs": []
    },
    {
      "cell_type": "code",
      "source": [
        "# Function to compute embeddings\n",
        "def compute_embedding(text):\n",
        "    inputs = tokenizer(text, return_tensors=\"pt\", padding=True, truncation=True)\n",
        "    outputs = model(**inputs)\n",
        "    embedding = outputs.last_hidden_state.mean(dim=1).detach().numpy()\n",
        "    return embedding\n",
        "\n",
        "# Sample FAQ data (questions and answers)\n",
        "faq_data = {\n",
        "    \"What is machine learning?\": \"Machine learning is a field of AI that uses algorithms to learn patterns from data.\",\n",
        "    \"How does artificial intelligence work?\": \"Artificial intelligence works by simulating human intelligence through algorithms and models.\",\n",
        "    \"What is natural language processing?\": \"Natural Language Processing (NLP) involves the interaction between computers and human language.\",\n",
        "    \"What is the use of Python in AI?\": \"Python is widely used in AI due to its simplicity and the availability of powerful libraries.\",\n",
        "    \"How do neural networks learn?\": \"Neural networks learn by adjusting weights using backpropagation and gradient descent.\"\n",
        "}\n",
        "\n",
        "# Compute embeddings for FAQ questions\n",
        "faq_questions = list(faq_data.keys())\n",
        "faq_embeddings = np.vstack([compute_embedding(q) for q in faq_questions])\n",
        "\n",
        "# Semantic search function\n",
        "def faq_search(query, faq_questions, faq_embeddings, faq_data, top_k=1):\n",
        "    query_embedding = compute_embedding(query)\n",
        "    similarities = np.dot(faq_embeddings, query_embedding.T).flatten()\n",
        "    top_indices = similarities.argsort()[::-1][:top_k]\n",
        "    return [(faq_questions[i], faq_data[faq_questions[i]], similarities[i]) for i in top_indices]\n",
        "\n",
        "\n"
      ],
      "metadata": {
        "id": "TvZ25dCACEC-"
      },
      "execution_count": 6,
      "outputs": []
    },
    {
      "cell_type": "code",
      "source": [
        "# Example query\n",
        "query = \"Tell me about neural networks and how they work.\"\n",
        "\n",
        "# Perform semantic search\n",
        "results = faq_search(query, faq_questions, faq_embeddings, faq_data)\n",
        "\n",
        "# Display the result\n",
        "print(f\"Query: {query}\")\n",
        "print(\"\\nBest Match:\")\n",
        "for question, answer, score in results:\n",
        "    print(f\"Q: {question}\")\n",
        "    print(f\"A: {answer}\")\n",
        "    print(f\"Similarity Score: {score:.4f}\")"
      ],
      "metadata": {
        "colab": {
          "base_uri": "https://localhost:8080/"
        },
        "id": "xOdNEazmFS9G",
        "outputId": "f50e5270-f6aa-4f0f-8bdb-cea075e81e71"
      },
      "execution_count": 7,
      "outputs": [
        {
          "output_type": "stream",
          "name": "stdout",
          "text": [
            "Query: Tell me about neural networks and how they work.\n",
            "\n",
            "Best Match:\n",
            "Q: How do neural networks learn?\n",
            "A: Neural networks learn by adjusting weights using backpropagation and gradient descent.\n",
            "Similarity Score: 30.2085\n"
          ]
        }
      ]
    }
  ]
}