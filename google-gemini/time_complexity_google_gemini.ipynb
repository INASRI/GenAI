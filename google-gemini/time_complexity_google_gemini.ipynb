{
  "nbformat": 4,
  "nbformat_minor": 0,
  "metadata": {
    "colab": {
      "provenance": []
    },
    "kernelspec": {
      "name": "python3",
      "display_name": "Python 3"
    },
    "language_info": {
      "name": "python"
    }
  },
  "cells": [
    {
      "cell_type": "code",
      "source": [
        "import os\n",
        "import google.generativeai as genai"
      ],
      "metadata": {
        "id": "w_z9BBGfp0a2"
      },
      "execution_count": null,
      "outputs": []
    },
    {
      "cell_type": "code",
      "source": [
        "# Configure the API key\n",
        "# Ensure you set your Google Gemini API key as an environment variable named \"GEMINI_API_KEY\"\n",
        "genai.configure(api_key=\"\")  # Uncomment and use your API key"
      ],
      "metadata": {
        "id": "DVRfzLY_p2zN"
      },
      "execution_count": null,
      "outputs": []
    },
    {
      "cell_type": "code",
      "source": [
        "# Create the model with specific configuration\n",
        "generation_config = {\n",
        "    \"temperature\": 0.7,  # Lower temperature for deterministic responses\n",
        "    \"top_p\": 0.9,\n",
        "    \"top_k\": 40,\n",
        "    \"max_output_tokens\": 512,  # Enough tokens for the complexity analysis\n",
        "    \"response_mime_type\": \"text/plain\",\n",
        "}\n",
        "\n",
        "model = genai.GenerativeModel(\n",
        "    model_name=\"gemini-1.5-flash\",\n",
        "    generation_config=generation_config,\n",
        ")"
      ],
      "metadata": {
        "id": "3AZMEDQpp7a2"
      },
      "execution_count": null,
      "outputs": []
    },
    {
      "cell_type": "code",
      "execution_count": null,
      "metadata": {
        "id": "CBzvOrvTmpu5"
      },
      "outputs": [],
      "source": [
        "def find_time_complexity(code_snippet):\n",
        "    \"\"\"\n",
        "    Analyze the time complexity of the provided Python code using Google Gemini API.\n",
        "\n",
        "    Args:\n",
        "        code_snippet (str): The Python code snippet to analyze.\n",
        "\n",
        "    Returns:\n",
        "        str: The response from the model, which includes the time complexity analysis.\n",
        "    \"\"\"\n",
        "    prompt = (\n",
        "        \"Analyze the following Python code and provide its time complexity. \"\n",
        "        \"If possible, explain the reasoning briefly:\\n\\n\" + code_snippet\n",
        "    )\n",
        "\n",
        "    chat_session = model.start_chat(\n",
        "        history=[\n",
        "            {\n",
        "                \"role\": \"user\",\n",
        "                \"parts\": [prompt],\n",
        "            },\n",
        "        ]\n",
        "    )\n",
        "\n",
        "    response = chat_session.send_message(\"Please analyze the code.\")\n",
        "    return response.text\n"
      ]
    },
    {
      "cell_type": "code",
      "source": [
        "# Example usage\n",
        "if __name__ == \"__main__\":\n",
        "    # Sample Python code snippet\n",
        "    code = \"\"\"\n",
        "    def find_maximum(arr):\n",
        "        maximum = arr[0]\n",
        "        for i in range(1, len(arr)):\n",
        "            if arr[i] > maximum:\n",
        "                maximum = arr[i]\n",
        "        return maximum\n",
        "    \"\"\"\n",
        "\n",
        "result = find_time_complexity(code)\n",
        "print(\"\\nTime Complexity Analysis:\\n\")\n",
        "print(result)\n"
      ],
      "metadata": {
        "colab": {
          "base_uri": "https://localhost:8080/",
          "height": 193
        },
        "id": "e4-mxb7LqBT1",
        "outputId": "a1fbf04f-d4a1-4a5e-95bb-4f8a65811a17"
      },
      "execution_count": null,
      "outputs": [
        {
          "output_type": "stream",
          "name": "stdout",
          "text": [
            "\n",
            "Time Complexity Analysis:\n",
            "\n",
            "The time complexity of the `find_maximum` function is **O(n)**, where n is the length of the input array `arr`.\n",
            "\n",
            "**Reasoning:**\n",
            "\n",
            "The function iterates through the array using a `for` loop.  The loop runs `len(arr) - 1` times.  The number of operations inside the loop (comparison and potential assignment) is constant.  Therefore, the total number of operations is directly proportional to the size of the input array.  This is the defining characteristic of linear time complexity, O(n).  The initial assignment of `maximum` is a constant-time operation and doesn't affect the overall complexity.\n",
            "\n"
          ]
        }
      ]
    }
  ]
}