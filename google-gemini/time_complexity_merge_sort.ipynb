{
  "nbformat": 4,
  "nbformat_minor": 0,
  "metadata": {
    "colab": {
      "provenance": []
    },
    "kernelspec": {
      "name": "python3",
      "display_name": "Python 3"
    },
    "language_info": {
      "name": "python"
    }
  },
  "cells": [
    {
      "cell_type": "code",
      "source": [
        "import os\n",
        "import google.generativeai as genai"
      ],
      "metadata": {
        "id": "j78erXCi_syO"
      },
      "execution_count": 1,
      "outputs": []
    },
    {
      "cell_type": "code",
      "source": [
        "genai.configure(api_key=\"\")  # Uncomment and use your API key"
      ],
      "metadata": {
        "id": "JdcxWcLG_x55"
      },
      "execution_count": 2,
      "outputs": []
    },
    {
      "cell_type": "code",
      "execution_count": 5,
      "metadata": {
        "id": "xaULOUY3_q_L"
      },
      "outputs": [],
      "source": [
        "# Create the model\n",
        "generation_config = {\n",
        "  \"temperature\": 1,\n",
        "  \"top_p\": 0.95,\n",
        "  \"top_k\": 64,\n",
        "  \"max_output_tokens\": 8192,\n",
        "  \"response_mime_type\": \"text/plain\",\n",
        "}\n",
        "\n",
        "model = genai.GenerativeModel(\n",
        "  model_name=\"gemini-1.5-flash\",\n",
        "  generation_config=generation_config,\n",
        ")\n",
        "\n",
        "chat_session = model.start_chat(\n",
        "  history=[\n",
        "    {\n",
        "      \"role\": \"user\",\n",
        "      \"parts\": [\n",
        "        \"Here's a Python function that sorts a list of numbers in ascending order. Identify the time complexity of this function. Then optimize this function and explain why it is faster. Don't use Python's in-built sort() method.\\n\\n\\n```def sort_list(list_to_sort):\\n  \\\"\\\"\\\"\\n  This function sorts a list of numbers in ascending order using the bubble sort algorithm.\\n\\n  Args:\\n    list_to_sort: A list of numbers to be sorted.\\n\\n  Returns:\\n    A new list with the numbers sorted in ascending order.\\n  \\\"\\\"\\\"\\n  # Create a copy of the list to avoid modifying the original\\n  sorted_list = list_to_sort.copy()\\n  n = len(sorted_list)\\n\\n  # Iterate through the list n-1 times\\n  for i in range(n-1):\\n    # Flag to track if any swaps were made in a pass\\n    swapped = False\\n    # Iterate through the unsorted portion of the list\\n    for j in range(n-i-1):\\n      # Compare adjacent elements and swap if necessary\\n      if sorted_list[j] > sorted_list[j+1]:\\n        sorted_list[j], sorted_list[j+1] = sorted_list[j+1], sorted_list[j]\\n        swapped = True\\n    # If no swaps were made, the list is already sorted\\n    if not swapped:\\n      break\\n\\n  # Return the sorted list\\n  return sorted_list\\n\\n# Example usage\\nmy_list = [1, 9, 5, 2, 1, 8, 6, 6, 3, 4, 10, 7]\\nsorted_list = sort_list(my_list)\\nprint(sorted_list)  # Output: [1, 1, 2, 3, 4, 5, 6, 6, 7, 8, 9, 10]\\n```\",\n",
        "      ],\n",
        "    },\n",
        "    {\n",
        "      \"role\": \"model\",\n",
        "      \"parts\": [\n",
        "        \"The given function uses the Bubble Sort algorithm.  Bubble Sort has a time complexity of O(n^2) in the worst and average cases, and O(n) in the best case (when the list is already sorted).  This is because it involves nested loops, each iterating through the list (or a portion of it).\\n\\nHere's an optimized version using the Merge Sort algorithm, which has a time complexity of O(n log n) regardless of the input order:\\n\\n```python\\ndef merge_sort(list_to_sort):\\n    \\\"\\\"\\\"Sorts a list using the merge sort algorithm.\\\"\\\"\\\"\\n    if len(list_to_sort) <= 1:\\n        return list_to_sort  # Base case: already sorted\\n\\n    mid = len(list_to_sort) // 2\\n    left_half = list_to_sort[:mid]\\n    right_half = list_to_sort[mid:]\\n\\n    left_half = merge_sort(left_half)  # Recursive calls\\n    right_half = merge_sort(right_half)\\n\\n    return merge(left_half, right_half)\\n\\ndef merge(left, right):\\n    \\\"\\\"\\\"Merges two sorted lists into a single sorted list.\\\"\\\"\\\"\\n    merged = []\\n    i = j = 0\\n    while i < len(left) and j < len(right):\\n        if left[i] <= right[j]:\\n            merged.append(left[i])\\n            i += 1\\n        else:\\n            merged.append(right[j])\\n            j += 1\\n    merged.extend(left[i:])  # Add remaining elements from left\\n    merged.extend(right[j:]) # Add remaining elements from right\\n    return merged\\n\\n# Example usage\\nmy_list = [1, 9, 5, 2, 1, 8, 6, 6, 3, 4, 10, 7]\\nsorted_list = merge_sort(my_list)\\nprint(sorted_list)  # Output: [1, 1, 2, 3, 4, 5, 6, 6, 7, 8, 9, 10]\\n\\n```\\n\\n**Why Merge Sort is faster:**\\n\\nMerge Sort's O(n log n) complexity is significantly faster than Bubble Sort's O(n^2) for larger lists.  This is because:\\n\\n* **Divide and Conquer:** Merge Sort recursively divides the list into smaller sublists until each sublist contains only one element (which is inherently sorted).  This division significantly reduces the number of comparisons needed.\\n\\n* **Efficient Merging:** The `merge` function efficiently combines the sorted sublists.  The merging process takes linear time (O(n)), where n is the total number of elements being merged.\\n\\nIn contrast, Bubble Sort repeatedly compares and swaps adjacent elements.  This leads to many unnecessary comparisons, especially for nearly sorted or reverse-sorted lists. The number of comparisons grows quadratically with the size of the list.  Therefore, for large datasets, Merge Sort's logarithmic growth in comparison to Bubble Sort's quadratic growth results in a dramatically faster sorting time.\\n\",\n",
        "      ],\n",
        "    },\n",
        "  ]\n",
        ")\n",
        "\n"
      ]
    },
    {
      "cell_type": "code",
      "source": [
        "response = chat_session.send_message(\"find the time complexity\")\n",
        "\n",
        "print(response.text)"
      ],
      "metadata": {
        "colab": {
          "base_uri": "https://localhost:8080/",
          "height": 211
        },
        "id": "dh4TuqZ7_8jp",
        "outputId": "70d8dbfe-936a-4d8e-faed-fb05b4801d32"
      },
      "execution_count": 6,
      "outputs": [
        {
          "output_type": "stream",
          "name": "stdout",
          "text": [
            "The time complexity of the provided `merge_sort` function is **O(n log n)**.\n",
            "\n",
            "This is because:\n",
            "\n",
            "1. **Divide step:** The list is divided into roughly half in each recursive call. This division process takes O(log n) time, where n is the length of the list.\n",
            "\n",
            "2. **Conquer step:**  The `merge` function combines the sorted sublists. The `merge` function iterates through each element of the sublists once, performing a linear amount of work (O(n)).\n",
            "\n",
            "Since the divide step takes O(log n) time and the conquer step takes O(n) time, and the conquer step is performed at each level of the recursion (the number of recursive levels is log n), the total time complexity is the product of these two: O(n log n).  This holds true regardless of the initial order of elements in the list.\n",
            "\n"
          ]
        }
      ]
    }
  ]
}