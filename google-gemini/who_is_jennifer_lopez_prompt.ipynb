{
  "nbformat": 4,
  "nbformat_minor": 0,
  "metadata": {
    "colab": {
      "provenance": []
    },
    "kernelspec": {
      "name": "python3",
      "display_name": "Python 3"
    },
    "language_info": {
      "name": "python"
    }
  },
  "cells": [
    {
      "cell_type": "code",
      "source": [
        "import os\n",
        "import google.generativeai as genai"
      ],
      "metadata": {
        "id": "UyRVV22d7q2s"
      },
      "execution_count": null,
      "outputs": []
    },
    {
      "cell_type": "code",
      "source": [
        "genai.configure(api_key=\"\")  # Uncomment and use your API key"
      ],
      "metadata": {
        "id": "wDglXr9N7ria"
      },
      "execution_count": null,
      "outputs": []
    },
    {
      "cell_type": "code",
      "execution_count": null,
      "metadata": {
        "id": "ux4fQjQ_7oqx"
      },
      "outputs": [],
      "source": [
        "# Create the model\n",
        "generation_config = {\n",
        "  \"temperature\": 1,\n",
        "  \"top_p\": 0.95,\n",
        "  \"top_k\": 40,\n",
        "  \"max_output_tokens\": 8192,\n",
        "  \"response_mime_type\": \"text/plain\",\n",
        "}\n",
        "\n",
        "model = genai.GenerativeModel(\n",
        "  model_name=\"gemini-1.5-flash\",\n",
        "  generation_config=generation_config,\n",
        ")\n",
        "\n",
        "chat_session = model.start_chat(\n",
        "  history=[\n",
        "  ]\n",
        ")"
      ]
    },
    {
      "cell_type": "code",
      "source": [
        "response = chat_session.send_message(\"who is jennifer lopez\")\n",
        "print(response.text)"
      ],
      "metadata": {
        "colab": {
          "base_uri": "https://localhost:8080/",
          "height": 72
        },
        "id": "Nz1o8JPN70LD",
        "outputId": "6eb51950-42fb-4594-da00-bca39bca0595"
      },
      "execution_count": null,
      "outputs": [
        {
          "output_type": "stream",
          "name": "stdout",
          "text": [
            "Jennifer Lopez, often known as J.Lo, is a highly successful American singer, actress, dancer, fashion designer, and businesswoman.  She's known for her significant contributions across multiple entertainment fields and has achieved immense global fame and recognition.  Her career spans decades, marked by numerous hit songs, critically acclaimed films, and a powerful presence in the media.\n",
            "\n"
          ]
        }
      ]
    }
  ]
}