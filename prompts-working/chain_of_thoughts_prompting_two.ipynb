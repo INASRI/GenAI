{
  "nbformat": 4,
  "nbformat_minor": 0,
  "metadata": {
    "colab": {
      "provenance": []
    },
    "kernelspec": {
      "name": "python3",
      "display_name": "Python 3"
    },
    "language_info": {
      "name": "python"
    }
  },
  "cells": [
    {
      "cell_type": "code",
      "source": [
        "!pip install openai"
      ],
      "metadata": {
        "colab": {
          "base_uri": "https://localhost:8080/"
        },
        "id": "-q04ZxMOBYa5",
        "outputId": "26205eee-a0d2-4b6b-8321-5a5a29538a32"
      },
      "execution_count": null,
      "outputs": [
        {
          "output_type": "stream",
          "name": "stdout",
          "text": [
            "Requirement already satisfied: openai in /usr/local/lib/python3.10/dist-packages (0.28.0)\n",
            "Requirement already satisfied: requests>=2.20 in /usr/local/lib/python3.10/dist-packages (from openai) (2.32.3)\n",
            "Requirement already satisfied: tqdm in /usr/local/lib/python3.10/dist-packages (from openai) (4.67.1)\n",
            "Requirement already satisfied: aiohttp in /usr/local/lib/python3.10/dist-packages (from openai) (3.11.10)\n",
            "Requirement already satisfied: charset-normalizer<4,>=2 in /usr/local/lib/python3.10/dist-packages (from requests>=2.20->openai) (3.4.0)\n",
            "Requirement already satisfied: idna<4,>=2.5 in /usr/local/lib/python3.10/dist-packages (from requests>=2.20->openai) (3.10)\n",
            "Requirement already satisfied: urllib3<3,>=1.21.1 in /usr/local/lib/python3.10/dist-packages (from requests>=2.20->openai) (2.2.3)\n",
            "Requirement already satisfied: certifi>=2017.4.17 in /usr/local/lib/python3.10/dist-packages (from requests>=2.20->openai) (2024.12.14)\n",
            "Requirement already satisfied: aiohappyeyeballs>=2.3.0 in /usr/local/lib/python3.10/dist-packages (from aiohttp->openai) (2.4.4)\n",
            "Requirement already satisfied: aiosignal>=1.1.2 in /usr/local/lib/python3.10/dist-packages (from aiohttp->openai) (1.3.2)\n",
            "Requirement already satisfied: async-timeout<6.0,>=4.0 in /usr/local/lib/python3.10/dist-packages (from aiohttp->openai) (4.0.3)\n",
            "Requirement already satisfied: attrs>=17.3.0 in /usr/local/lib/python3.10/dist-packages (from aiohttp->openai) (24.3.0)\n",
            "Requirement already satisfied: frozenlist>=1.1.1 in /usr/local/lib/python3.10/dist-packages (from aiohttp->openai) (1.5.0)\n",
            "Requirement already satisfied: multidict<7.0,>=4.5 in /usr/local/lib/python3.10/dist-packages (from aiohttp->openai) (6.1.0)\n",
            "Requirement already satisfied: propcache>=0.2.0 in /usr/local/lib/python3.10/dist-packages (from aiohttp->openai) (0.2.1)\n",
            "Requirement already satisfied: yarl<2.0,>=1.17.0 in /usr/local/lib/python3.10/dist-packages (from aiohttp->openai) (1.18.3)\n",
            "Requirement already satisfied: typing-extensions>=4.1.0 in /usr/local/lib/python3.10/dist-packages (from multidict<7.0,>=4.5->aiohttp->openai) (4.12.2)\n"
          ]
        }
      ]
    },
    {
      "cell_type": "code",
      "execution_count": null,
      "metadata": {
        "colab": {
          "base_uri": "https://localhost:8080/"
        },
        "id": "ttWFfvfOA7zR",
        "outputId": "a3672645-5bb5-4577-c88a-fa70a7c9e8f2"
      },
      "outputs": [
        {
          "output_type": "stream",
          "name": "stdout",
          "text": [
            "\n",
            "Chain of Thought Response:\n",
            "Let's break it down step by step:\n",
            "\n",
            "1. Alice is sitting next to Bob.\n",
            "2. Bob is sitting next to Charlie.\n",
            "\n",
            "Putting these two pieces of information together, we can see that the seating arrangement is as follows: Alice - Bob - Charlie.\n",
            "\n",
            "Therefore, Bob is in the middle.\n"
          ]
        }
      ],
      "source": [
        "import openai\n",
        "\n",
        "# Function to perform chain of thought prompting using OpenAI API\n",
        "def chain_of_thought_openai(api_key, prompt):\n",
        "    openai.api_key = api_key\n",
        "\n",
        "    try:\n",
        "        # Send the prompt to OpenAI API\n",
        "        response = openai.ChatCompletion.create(\n",
        "            model=\"gpt-3.5-turbo\",  # Updated to use the ChatGPT model\n",
        "            messages=[\n",
        "                {\"role\": \"system\", \"content\": \"You are a helpful assistant.\"},\n",
        "                {\"role\": \"user\", \"content\": prompt}\n",
        "            ],\n",
        "            max_tokens=150,\n",
        "            temperature=0.5\n",
        "        )\n",
        "\n",
        "        # Extract and return the model's response\n",
        "        return response['choices'][0]['message']['content'].strip()\n",
        "    except Exception as e:\n",
        "        return f\"An error occurred: {e}\"\n",
        "\n",
        "if __name__ == \"__main__\":\n",
        "    # Your OpenAI API key\n",
        "    API_KEY = \"\"\n",
        "\n",
        "    # Chain of thought prompt\n",
        "    COT_PROMPT = (\n",
        "        \"Three people—Alice, Bob, and Charlie—are sitting in a row. Alice is sitting next to Bob, and Bob is sitting next to Charlie. Who is in the middle? Think step by step.\"\n",
        "    )\n",
        "\n",
        "    # Get the chain of thought response\n",
        "    result = chain_of_thought_openai(API_KEY, COT_PROMPT)\n",
        "\n",
        "    # Print the response\n",
        "    print(\"\\nChain of Thought Response:\")\n",
        "    print(result)\n"
      ]
    }
  ]
}