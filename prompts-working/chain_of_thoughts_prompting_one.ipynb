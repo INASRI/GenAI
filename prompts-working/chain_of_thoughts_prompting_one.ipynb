{
  "nbformat": 4,
  "nbformat_minor": 0,
  "metadata": {
    "colab": {
      "provenance": []
    },
    "kernelspec": {
      "name": "python3",
      "display_name": "Python 3"
    },
    "language_info": {
      "name": "python"
    }
  },
  "cells": [
    {
      "cell_type": "code",
      "source": [
        "!pip install openai"
      ],
      "metadata": {
        "colab": {
          "base_uri": "https://localhost:8080/"
        },
        "id": "-q04ZxMOBYa5",
        "outputId": "6a4a15b6-0693-4f1d-8c34-b7b780ae0c36"
      },
      "execution_count": null,
      "outputs": [
        {
          "output_type": "stream",
          "name": "stdout",
          "text": [
            "Requirement already satisfied: openai in /usr/local/lib/python3.10/dist-packages (0.28.0)\n",
            "Requirement already satisfied: requests>=2.20 in /usr/local/lib/python3.10/dist-packages (from openai) (2.32.3)\n",
            "Requirement already satisfied: tqdm in /usr/local/lib/python3.10/dist-packages (from openai) (4.67.1)\n",
            "Requirement already satisfied: aiohttp in /usr/local/lib/python3.10/dist-packages (from openai) (3.11.10)\n",
            "Requirement already satisfied: charset-normalizer<4,>=2 in /usr/local/lib/python3.10/dist-packages (from requests>=2.20->openai) (3.4.0)\n",
            "Requirement already satisfied: idna<4,>=2.5 in /usr/local/lib/python3.10/dist-packages (from requests>=2.20->openai) (3.10)\n",
            "Requirement already satisfied: urllib3<3,>=1.21.1 in /usr/local/lib/python3.10/dist-packages (from requests>=2.20->openai) (2.2.3)\n",
            "Requirement already satisfied: certifi>=2017.4.17 in /usr/local/lib/python3.10/dist-packages (from requests>=2.20->openai) (2024.12.14)\n",
            "Requirement already satisfied: aiohappyeyeballs>=2.3.0 in /usr/local/lib/python3.10/dist-packages (from aiohttp->openai) (2.4.4)\n",
            "Requirement already satisfied: aiosignal>=1.1.2 in /usr/local/lib/python3.10/dist-packages (from aiohttp->openai) (1.3.2)\n",
            "Requirement already satisfied: async-timeout<6.0,>=4.0 in /usr/local/lib/python3.10/dist-packages (from aiohttp->openai) (4.0.3)\n",
            "Requirement already satisfied: attrs>=17.3.0 in /usr/local/lib/python3.10/dist-packages (from aiohttp->openai) (24.3.0)\n",
            "Requirement already satisfied: frozenlist>=1.1.1 in /usr/local/lib/python3.10/dist-packages (from aiohttp->openai) (1.5.0)\n",
            "Requirement already satisfied: multidict<7.0,>=4.5 in /usr/local/lib/python3.10/dist-packages (from aiohttp->openai) (6.1.0)\n",
            "Requirement already satisfied: propcache>=0.2.0 in /usr/local/lib/python3.10/dist-packages (from aiohttp->openai) (0.2.1)\n",
            "Requirement already satisfied: yarl<2.0,>=1.17.0 in /usr/local/lib/python3.10/dist-packages (from aiohttp->openai) (1.18.3)\n",
            "Requirement already satisfied: typing-extensions>=4.1.0 in /usr/local/lib/python3.10/dist-packages (from multidict<7.0,>=4.5->aiohttp->openai) (4.12.2)\n"
          ]
        }
      ]
    },
    {
      "cell_type": "code",
      "execution_count": null,
      "metadata": {
        "colab": {
          "base_uri": "https://localhost:8080/"
        },
        "id": "ttWFfvfOA7zR",
        "outputId": "b2cd788a-0c65-46ed-fb00-8493971dec7c"
      },
      "outputs": [
        {
          "output_type": "stream",
          "name": "stdout",
          "text": [
            "\n",
            "Chain of Thought Response:\n",
            "To find the average speed of the train over the three hours, we need to calculate the total distance traveled and the total time taken.\n",
            "\n",
            "1. Total distance traveled by the train = 60 miles + 80 miles + 100 miles = 240 miles\n",
            "2. Total time taken by the train = 1 hour + 1 hour + 1 hour = 3 hours\n",
            "\n",
            "Now, to find the average speed, we use the formula:\n",
            "\n",
            "Average speed = Total distance / Total time\n",
            "\n",
            "Substitute the values we calculated:\n",
            "\n",
            "Average speed = 240 miles / 3 hours = 80 miles per hour\n",
            "\n",
            "Therefore, the train's average speed over the three hours is 80 miles per hour.\n"
          ]
        }
      ],
      "source": [
        "import openai\n",
        "\n",
        "# Function to perform chain of thought prompting using OpenAI API\n",
        "def chain_of_thought_openai(api_key, prompt):\n",
        "    openai.api_key = api_key\n",
        "\n",
        "    try:\n",
        "        # Send the prompt to OpenAI API\n",
        "        response = openai.ChatCompletion.create(\n",
        "            model=\"gpt-3.5-turbo\",  # Updated to use the ChatGPT model\n",
        "            messages=[\n",
        "                {\"role\": \"system\", \"content\": \"You are a helpful assistant.\"},\n",
        "                {\"role\": \"user\", \"content\": prompt}\n",
        "            ],\n",
        "            max_tokens=150,\n",
        "            temperature=0.5\n",
        "        )\n",
        "\n",
        "        # Extract and return the model's response\n",
        "        return response['choices'][0]['message']['content'].strip()\n",
        "    except Exception as e:\n",
        "        return f\"An error occurred: {e}\"\n",
        "\n",
        "if __name__ == \"__main__\":\n",
        "    # Your OpenAI API key\n",
        "    API_KEY = \"\"\n",
        "\n",
        "    # Chain of thought prompt\n",
        "    COT_PROMPT = (\n",
        "        \"A train travels 60 miles in the first hour, 80 miles in the second hour, and 100 miles in the third hour. \"\n",
        "        \"What is the train's average speed over the three hours? Think step by step.\"\n",
        "    )\n",
        "\n",
        "    # Get the chain of thought response\n",
        "    result = chain_of_thought_openai(API_KEY, COT_PROMPT)\n",
        "\n",
        "    # Print the response\n",
        "    print(\"\\nChain of Thought Response:\")\n",
        "    print(result)\n"
      ]
    }
  ]
}