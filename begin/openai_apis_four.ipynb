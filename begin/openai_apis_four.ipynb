{
 "cells": [
  {
   "cell_type": "markdown",
   "id": "e129b9c1",
   "metadata": {},
   "source": [
    "# Draft a company memo"
   ]
  },
  {
   "cell_type": "code",
   "execution_count": null,
   "id": "b3cda623",
   "metadata": {},
   "outputs": [],
   "source": [
    "import openai\n",
    "prompt1 = \"\"\"Draft a company memo to be distributed to all employees. The memo should cover the following \n",
    "specific points without deviating from the topics mentioned and not writing any fact which is not present here:\n",
    "\n",
    "Introduction: Remind employees about the upcoming quarterly review scheduled for the last week of April.\n",
    "Performance Metrics: Clearly state the three key performance indicators (KPIs) that will be assessed during \n",
    "the review: sales targets, customer satisfaction (measured by net promoter score), and process efficiency \n",
    "(measured by average project completion time).\n",
    "\n",
    "Project Updates: Provide a brief update on the status of the three ongoing company projects:\n",
    "\n",
    "a. Project Alpha: 75% complete, expected completion by May 30th.\n",
    "b. Project Beta: 50% complete, expected completion by June 15th.\n",
    "c. Project Gamma: 30% complete, expected completion by July 31st.\n",
    "\n",
    "Team Recognition: Announce that the Sales Team was the top-performing team of the past quarter and \n",
    "congratulate them for achieving 120% of their target.\n",
    "\n",
    "Training Opportunities: Inform employees about the upcoming training workshops that will be held in May, \n",
    "including \"Advanced Customer Service\" on May 10th and \"Project Management Essentials\" on May 25th.\"\"\"\n",
    "\n",
    "messages = [{\"role\": \"user\", \"content\": prompt1}]\n",
    "openai.api_key = \"\"\n",
    "response = openai.ChatCompletion.create(\n",
    "  model=\"gpt-3.5-turbo\",\n",
    "  messages=messages,\n",
    "  temperature=1,\n",
    "  max_tokens=1024\n",
    ")\n",
    "print(response['choices'][0].message[\"content\"])"
   ]
  },
  {
   "cell_type": "code",
   "execution_count": null,
   "id": "35df409b",
   "metadata": {},
   "outputs": [],
   "source": [
    "import openai\n",
    "prompt1 = \"\"\"SYSTEM\n",
    "You are Marv, a chatbot that reluctantly answers questions with sarcastic responses.\n",
    "USER\n",
    "How many pounds are in a kilogram?\n",
    "ASSISTANT\n",
    "This again? There are 2.2 pounds in a kilogram. Please make a note of this.\n",
    "USER\n",
    "What does HTML stand for?\n",
    "ASSISTANT\n",
    "Was Google too busy? Hypertext Markup Language. The T is for try to ask better questions in the future.\n",
    "USER\n",
    "When did the first airplane fly?\n",
    "ASSISTANT\n",
    "On December 17, 1903, Wilbur and Orville Wright made the first flights. I wish they’d come and take me away.\n",
    "USER\n",
    "What time is it?\"\"\"\n",
    "messages = [{\"role\": \"user\", \"content\": prompt1}]\n",
    "openai.api_key = \"\"\n",
    "response = openai.ChatCompletion.create(\n",
    "  model=\"gpt-3.5-turbo\",\n",
    "  messages=messages,\n",
    "  temperature=1,\n",
    "  max_tokens=1024\n",
    ")\n",
    "print(response['choices'][0].message[\"content\"])"
   ]
  },
  {
   "cell_type": "code",
   "execution_count": null,
   "id": "abb6e260",
   "metadata": {},
   "outputs": [],
   "source": []
  },
  {
   "cell_type": "code",
   "execution_count": null,
   "id": "858a643a",
   "metadata": {},
   "outputs": [],
   "source": []
  }
 ],
 "metadata": {
  "kernelspec": {
   "display_name": "Python 3 (ipykernel)",
   "language": "python",
   "name": "python3"
  },
  "language_info": {
   "codemirror_mode": {
    "name": "ipython",
    "version": 3
   },
   "file_extension": ".py",
   "mimetype": "text/x-python",
   "name": "python",
   "nbconvert_exporter": "python",
   "pygments_lexer": "ipython3",
   "version": "3.10.13"
  }
 },
 "nbformat": 4,
 "nbformat_minor": 5
}
