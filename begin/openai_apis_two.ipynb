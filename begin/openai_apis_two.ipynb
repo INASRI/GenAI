{
  "cells": [
    {
      "cell_type": "markdown",
      "id": "4c5eee6c",
      "metadata": {
        "id": "4c5eee6c"
      },
      "source": [
        "# Step by step driving directions"
      ]
    },
    {
      "cell_type": "code",
      "source": [
        "import openai\n",
        "\n",
        "prompt1 = \"\"\"You will be provided with a text, and your task is to create a numbered list of turn-by-turn directions from it:\n",
        "JP Nagar, 3rd Phase, Pothanur Raod, Bangalore, India to  Mysore, Karnataka, India\"\"\"\n",
        "messages = [{\"role\": \"user\", \"content\": prompt1}]\n",
        "openai.api_key = \"\"\n",
        "\n",
        "# Use the new API structure for chat completions\n",
        "response = openai.chat.completions.create(\n",
        "    model=\"gpt-3.5-turbo\",\n",
        "    messages=messages,\n",
        "    temperature=1\n",
        ")\n",
        "\n",
        "#print(response)\n",
        "print(response.choices[0].message.content)"
      ],
      "metadata": {
        "colab": {
          "base_uri": "https://localhost:8080/"
        },
        "id": "3o-_wK-epYEA",
        "outputId": "d2ce3124-3887-4264-bdc8-03ca0ef92ab0"
      },
      "execution_count": 2,
      "outputs": [
        {
          "output_type": "stream",
          "name": "stdout",
          "text": [
            "1. Start at JP Nagar, 3rd Phase, Pothanur Road, Bangalore, India.\n",
            "2. Head south on Pothanur Road.\n",
            "3. Turn right onto Ring Road.\n",
            "4. Merge onto NH 275 via the ramp to Mysore.\n",
            "5. Continue on NH 275 towards Mysore.\n",
            "6. Follow the signs for Mysore as you stay on NH 275.\n",
            "7. Arrive in Mysore, Karnataka, India.\n"
          ]
        }
      ],
      "id": "3o-_wK-epYEA"
    },
    {
      "cell_type": "markdown",
      "id": "29107ee8",
      "metadata": {
        "id": "29107ee8"
      },
      "source": [
        "# Summarize the given article"
      ]
    },
    {
      "cell_type": "code",
      "execution_count": 3,
      "id": "4f2f9227",
      "metadata": {
        "colab": {
          "base_uri": "https://localhost:8080/"
        },
        "id": "4f2f9227",
        "outputId": "881af30b-69dc-42d1-d69f-416850c26f30"
      },
      "outputs": [
        {
          "output_type": "stream",
          "name": "stdout",
          "text": [
            "1. Head east on Pothanur Road towards 8th Main Road.\n",
            "2. Turn left onto 6th Main Road.\n",
            "3. Turn right onto 15th Cross Road.\n",
            "4. Turn left onto 24th Main Road.\n",
            "5. Merge onto Outer Ring Road/NH 275 via the ramp on the left.\n",
            "6. Continue on NH 275 towards Mysore.\n",
            "7. Stay on NH 275 for about 145 km.\n",
            "8. Take the exit towards Mysore and merge onto Hunsur Road.\n",
            "9. Continue on Hunsur Road for about 3 km.\n",
            "10. Turn right onto Mysore Ring Road.\n",
            "11. Continue on Mysore Ring Road for about 3 km.\n",
            "12. Take the exit towards Mysore city center.\n",
            "13. Continue on the road towards your destination in Mysore, Karnataka, India.\n"
          ]
        }
      ],
      "source": [
        "import openai\n",
        "\n",
        "messages = [{\"role\": \"user\", \"content\": prompt1}]\n",
        "openai.api_key = \"\"\n",
        "\n",
        "\n",
        "\n",
        "prompt1 = '''\n",
        "\n",
        "Summarize the article and Strickly Avoid mentioning any specific countries, State, geographical location or regions.\n",
        "\n",
        "Article : In the brutal heatwave beating down on Uttar Pradesh and Bihar, one district in U.P., Ballia,\n",
        "reported the most deaths. The medical superintendent at the local government hospital was reportedly transferred\n",
        "after ascribing the deaths to the heat, followed by a visit by a State-appointed team to assess the local\n",
        "conditions. A member later told journalists that the team had expressed its doubts about the heat being a\n",
        "factor since the toll due to the same heatwave was lower in districts nearby. The member’s statement is a\n",
        "timely reminder that a heatwave is only half heat, the other being bad public infrastructure and social\n",
        "security. Ballia’s toll could be high because of, as the team suspects, contaminated water, or because the\n",
        "local people could not cool themselves. Heat’s deadliness depends on an individual’s general well-being,\n",
        "acclimatisation, physical exertion, comorbidities, location, relative humidity, and extent of heat exposure.\n",
        "But for all the complexity the interplay of these factors augurs, the fight against this mode of the climate\n",
        "crisis, which India is expected to suffer more often, can benefit considerably from some literacy and access to\n",
        "resources. Literacy needs to be rooted in a simple fact: heat is deadly when our bodies are unable to shed it as\n",
        "quickly as it accumulates. This can happen due to poor living conditions, adherence to caste- and gender-based\n",
        "strictures, or even in overcrowded hospitals. Amenities that can help include access to drinking water, indoor\n",
        "ventilation, health care, regular work breaks, and protections against wage loss. If a person dies in a heatwave,\n",
        "it is only fair to ask whether he/she was able to access these amenities.\n",
        "\n",
        "\n",
        "\n",
        "If U.P. and Bihar are to forge a better way forward vis-à-vis their heat response, they need to register all\n",
        "heat-related deaths, assign the cause, ensure the medical certificates of the cause of death (MCCDs) follow the\n",
        "proper codes of the most recent revision of the International Statistical Classification of Diseases and Related\n",
        "Health Problems, and issue them. Next, the Office of the Registrar General should compile and release MCCD data\n",
        "every year to facilitate independent research and policy input and to prevent time-wasting disputes over official\n",
        "versus actual figures. However, the office has not released the corresponding reports for 2021 and 2022. In the 2020\n",
        "report, which was uploaded only last year, Bihar assigned causes to just 3.4% of registered deaths — the worst among\n",
        "States. Not everyone who dies during a heatwave has died due to the heat, but only if good living conditions have\n",
        "been the norm. If they have not, the state is as much to blame as the heat.\n",
        "\n",
        "'''\n",
        "\n",
        "# Use the new API structure for chat completions\n",
        "response = openai.chat.completions.create(\n",
        "    model=\"gpt-3.5-turbo\",\n",
        "    messages=messages,\n",
        "    temperature=1\n",
        ")\n",
        "\n",
        "#print(response)\n",
        "print(response.choices[0].message.content)"
      ]
    },
    {
      "cell_type": "markdown",
      "id": "035fd31a",
      "metadata": {
        "id": "035fd31a"
      },
      "source": [
        "# Answer the questions below based on the text given"
      ]
    },
    {
      "cell_type": "code",
      "execution_count": 4,
      "id": "2b140bf9",
      "metadata": {
        "colab": {
          "base_uri": "https://localhost:8080/"
        },
        "id": "2b140bf9",
        "outputId": "47c34852-c1f0-4902-8ce4-820077256a74"
      },
      "outputs": [
        {
          "output_type": "stream",
          "name": "stdout",
          "text": [
            "The positive aspects of globalization include economic growth, the spread of new ideas and technologies, increased cultural exchange, reduced poverty, and higher living standards in many parts of the world.\n"
          ]
        }
      ],
      "source": [
        "import openai\n",
        "openai.api_key = \"\"\n",
        "prompt1 = '''\n",
        "\n",
        "Please answer the question from the passage provided and if its out of passage say its out of my scope:\n",
        "\n",
        "Passage: Globalization is the process by which economies, cultures, and populations around the world become\n",
        "more integrated and interdependent. It is driven by advances in technology, transportation and communication,\n",
        "which have facilitated the flow of people, goods and ideas across national borders. Globalization has both\n",
        "positive and negative aspects. On the positive side, it has led to economic growth, the spread of new ideas\n",
        "and technologies, and increased cultural exchange. In many parts of the world, it has also helped reduce\n",
        "poverty and raise living standards. But globalization has also had negative consequences. This has led to\n",
        "job losses in some sectors, as companies move production to countries with lower labour costs. It has also\n",
        "contributed to income inequality and environmental degradation, as companies prioritize profits over sustainability.\n",
        "\n",
        "Question: What is globalization and what are the driving forces behind it?\n",
        "\n",
        "Answer : Globalization refers to the increasing interconnectedness and interdependence of the world’s economies,\n",
        "cultures, and populations. It is driven by advances in technology, transportation and communication.\n",
        "\n",
        "Question1 : Who is Prime minister of India?\n",
        "\n",
        "Answer:\n",
        "\n",
        "Question2 : What is the positive side of Globalization?\n",
        "\n",
        "Answer:\n",
        "\n",
        "'''\n",
        "messages = [{\"role\": \"user\", \"content\": prompt1}]\n",
        "# Use the new API structure for chat completions\n",
        "response = openai.chat.completions.create(\n",
        "    model=\"gpt-3.5-turbo\",\n",
        "    messages=messages,\n",
        "    temperature=1\n",
        ")\n",
        "\n",
        "#print(response)\n",
        "print(response.choices[0].message.content)"
      ]
    },
    {
      "cell_type": "markdown",
      "id": "d02f7ced",
      "metadata": {
        "id": "d02f7ced"
      },
      "source": [
        "# Creating emojis for the given text"
      ]
    },
    {
      "cell_type": "code",
      "execution_count": 5,
      "id": "cd775475",
      "metadata": {
        "colab": {
          "base_uri": "https://localhost:8080/"
        },
        "id": "cd775475",
        "outputId": "673131f1-c876-4c31-d677-d83b6d61eea7"
      },
      "outputs": [
        {
          "output_type": "stream",
          "name": "stdout",
          "text": [
            "🤖💡🔮👍\n"
          ]
        }
      ],
      "source": [
        "import openai\n",
        "prompt1 = \"\"\"You will be provided with text, and your task is to translate it into emojis. Do not use any regular text.\n",
        "Do your best with emojis only.: Artificial intelligence is a technology with great promise.\"\"\"\n",
        "openai.api_key = \"\"\n",
        "messages = [{\"role\": \"user\", \"content\": prompt1}]\n",
        "# Use the new API structure for chat completions\n",
        "response = openai.chat.completions.create(\n",
        "    model=\"gpt-3.5-turbo\",\n",
        "    messages=messages,\n",
        "    temperature=1\n",
        ")\n",
        "\n",
        "#print(response)\n",
        "print(response.choices[0].message.content)"
      ]
    },
    {
      "cell_type": "markdown",
      "id": "101e7ead",
      "metadata": {
        "id": "101e7ead"
      },
      "source": [
        "# Explain the given program in a concise way"
      ]
    },
    {
      "cell_type": "code",
      "execution_count": 6,
      "id": "87e43b07",
      "metadata": {
        "colab": {
          "base_uri": "https://localhost:8080/"
        },
        "id": "87e43b07",
        "outputId": "a03910d6-1d62-402a-c8d1-4e361123d700"
      },
      "outputs": [
        {
          "output_type": "stream",
          "name": "stdout",
          "text": [
            "This code defines a Log class that creates a log file if it doesn't exist, ensures newlines are correctly terminated, allows logging events with unique IDs, and provides a method to retrieve the state of completed events from the log file.\n"
          ]
        }
      ],
      "source": [
        "import openai\n",
        "prompt1 = \"\"\"You will be provided with a piece of code, and your task is to explain it in a concise way:class Log:\n",
        "    def __init__(self, path):\n",
        "        dirname = os.path.dirname(path)\n",
        "        os.makedirs(dirname, exist_ok=True)\n",
        "        f = open(path, \"a+\")\n",
        "\n",
        "        # Check that the file is newline-terminated\n",
        "        size = os.path.getsize(path)\n",
        "        if size > 0:\n",
        "            f.seek(size - 1)\n",
        "            end = f.read(1)\n",
        "            if end != \"\\n\":\n",
        "                f.write(\"\\n\")\n",
        "        self.f = f\n",
        "        self.path = path\n",
        "\n",
        "    def log(self, event):\n",
        "        event[\"_event_id\"] = str(uuid.uuid4())\n",
        "        json.dump(event, self.f)\n",
        "        self.f.write(\"\\n\")\n",
        "\n",
        "    def state(self):\n",
        "        state = {\"complete\": set(), \"last\": None}\n",
        "        for line in open(self.path):\n",
        "            event = json.loads(line)\n",
        "            if event[\"type\"] == \"submit\" and event[\"success\"]:\n",
        "                state[\"complete\"].add(event[\"id\"])\n",
        "                state[\"last\"] = event\n",
        "        return state\n",
        "\"\"\"\n",
        "\n",
        "openai.api_key = \"\"\n",
        "messages = [{\"role\": \"user\", \"content\": prompt1}]\n",
        "# Use the new API structure for chat completions\n",
        "response = openai.chat.completions.create(\n",
        "    model=\"gpt-3.5-turbo\",\n",
        "    messages=messages,\n",
        "    temperature=1\n",
        ")\n",
        "\n",
        "#print(response)\n",
        "print(response.choices[0].message.content)"
      ]
    },
    {
      "cell_type": "markdown",
      "id": "3c606aeb",
      "metadata": {
        "id": "3c606aeb"
      },
      "source": [
        "# Creating a new dataframe or dataset with the given data"
      ]
    },
    {
      "cell_type": "code",
      "execution_count": 7,
      "id": "a99317e2",
      "metadata": {
        "colab": {
          "base_uri": "https://localhost:8080/"
        },
        "id": "a99317e2",
        "outputId": "fa9dbc9a-9483-4a38-b419-47ba5cc1497f"
      },
      "outputs": [
        {
          "output_type": "stream",
          "name": "stdout",
          "text": [
            "Movie Title,Year\n",
            "Blade Runner,1982\n",
            "The Matrix,1999\n",
            "Inception,2010\n",
            "Interstellar,2014\n",
            "Arrival,2016\n",
            "District 9,2009\n",
            "Eternal Sunshine of the Spotless Mind,2004\n",
            "2001: A Space Odyssey,1968\n",
            "Children of Men,2006\n",
            "Avatar,2009\n"
          ]
        }
      ],
      "source": [
        "import openai\n",
        "prompt1 = \"\"\"Create a two-column CSV of top science fiction movies along with the year of release.\"\"\"\n",
        "openai.api_key = \"\"\n",
        "messages = [{\"role\": \"user\", \"content\": prompt1}]\n",
        "# Use the new API structure for chat completions\n",
        "response = openai.chat.completions.create(\n",
        "    model=\"gpt-3.5-turbo\",\n",
        "    messages=messages,\n",
        "    temperature=1\n",
        ")\n",
        "\n",
        "#print(response)\n",
        "print(response.choices[0].message.content)"
      ]
    },
    {
      "cell_type": "markdown",
      "id": "291b9b01",
      "metadata": {
        "id": "291b9b01"
      },
      "source": [
        "# Fix the bug in the given code"
      ]
    },
    {
      "cell_type": "code",
      "execution_count": 8,
      "id": "6a6f646e",
      "metadata": {
        "colab": {
          "base_uri": "https://localhost:8080/"
        },
        "id": "6a6f646e",
        "outputId": "6bbcd9b2-bde6-4139-df34-a06f1f5cf477"
      },
      "outputs": [
        {
          "output_type": "stream",
          "name": "stdout",
          "text": [
            "import random\n",
            "\n",
            "a = random.randint(1, 12)\n",
            "b = random.randint(1, 12)\n",
            "\n",
            "for i in range(10):\n",
            "    question = \"What is \" + str(a) + \" x \" + str(b) + \"? \"\n",
            "    answer = int(input(question))\n",
            "\n",
            "    if answer == a*b:\n",
            "        print(\"Well done!\")\n",
            "    else:\n",
            "        print(\"No.\")\n"
          ]
        }
      ],
      "source": [
        "import openai\n",
        "prompt1 = \"\"\"You will be provided with a piece of Python code, and your task is to find and fix bugs in it.:\n",
        "import Random\n",
        "a = random.randint(1,12)\n",
        "b = random.randint(1,12)\n",
        "for i in range(10):\n",
        "    question = \"What is \"+a+\" x \"+b+\"? \"\n",
        "    answer = input(question)\n",
        "    if answer = a*b\n",
        "        print (Well done!)\n",
        "    else:\n",
        "        print(\"No.\")\"\"\"\n",
        "messages = [{\"role\": \"user\", \"content\": prompt1}]\n",
        "openai.api_key = \"\"\n",
        "# Use the new API structure for chat completions\n",
        "response = openai.chat.completions.create(\n",
        "    model=\"gpt-3.5-turbo\",\n",
        "    messages=messages,\n",
        "    temperature=1\n",
        ")\n",
        "\n",
        "#print(response)\n",
        "print(response.choices[0].message.content)"
      ]
    },
    {
      "cell_type": "markdown",
      "id": "42c21e7f",
      "metadata": {
        "id": "42c21e7f"
      },
      "source": [
        "# Find the Airport codes from the given text"
      ]
    },
    {
      "cell_type": "code",
      "execution_count": 9,
      "id": "e5148897",
      "metadata": {
        "colab": {
          "base_uri": "https://localhost:8080/"
        },
        "id": "e5148897",
        "outputId": "c49f1d97-5bec-448f-ddb5-2bde21bbf77b"
      },
      "outputs": [
        {
          "output_type": "stream",
          "name": "stdout",
          "text": [
            "MCO (Orlando) - BOS (Boston)\n"
          ]
        }
      ],
      "source": [
        "import openai\n",
        "prompt1 = \"\"\"You will be provided with a text, and your task is to extract the airport codes from it.:\n",
        "I want to fly from Orlando to Boston\"\"\"\n",
        "messages = [{\"role\": \"user\", \"content\": prompt1}]\n",
        "openai.api_key = \"\"\n",
        "# Use the new API structure for chat completions\n",
        "response = openai.chat.completions.create(\n",
        "    model=\"gpt-3.5-turbo\",\n",
        "    messages=messages,\n",
        "    temperature=1\n",
        ")\n",
        "\n",
        "#print(response)\n",
        "print(response.choices[0].message.content)"
      ]
    },
    {
      "cell_type": "code",
      "execution_count": null,
      "id": "db4a9587",
      "metadata": {
        "id": "db4a9587"
      },
      "outputs": [],
      "source": []
    }
  ],
  "metadata": {
    "kernelspec": {
      "display_name": "Python 3 (ipykernel)",
      "language": "python",
      "name": "python3"
    },
    "language_info": {
      "codemirror_mode": {
        "name": "ipython",
        "version": 3
      },
      "file_extension": ".py",
      "mimetype": "text/x-python",
      "name": "python",
      "nbconvert_exporter": "python",
      "pygments_lexer": "ipython3",
      "version": "3.10.13"
    },
    "colab": {
      "provenance": []
    }
  },
  "nbformat": 4,
  "nbformat_minor": 5
}