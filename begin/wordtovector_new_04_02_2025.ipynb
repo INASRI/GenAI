{
 "cells": [
  {
   "cell_type": "code",
   "execution_count": null,
   "metadata": {
    "id": "E1GCuwS-gpCY"
   },
   "outputs": [],
   "source": [
    "# This code does not require an api key since we do not use openai, but we use nltk and punkt"
   ]
  },
  {
   "cell_type": "code",
   "execution_count": 1,
   "metadata": {
    "colab": {
     "base_uri": "https://localhost:8080/"
    },
    "id": "UYFqrQjjQNkB",
    "outputId": "fc6a30fd-4279-4e28-9e2e-e388e4b62b0e"
   },
   "outputs": [
    {
     "name": "stderr",
     "output_type": "stream",
     "text": [
      "[nltk_data] Downloading package gutenberg to /root/nltk_data...\n",
      "[nltk_data]   Unzipping corpora/gutenberg.zip.\n",
      "[nltk_data] Downloading package punkt to /root/nltk_data...\n",
      "[nltk_data]   Unzipping tokenizers/punkt.zip.\n"
     ]
    },
    {
     "data": {
      "text/plain": [
       "True"
      ]
     },
     "execution_count": 1,
     "metadata": {},
     "output_type": "execute_result"
    }
   ],
   "source": [
    "import nltk\n",
    "nltk.download('gutenberg')\n",
    "nltk.download('punkt')"
   ]
  },
  {
   "cell_type": "code",
   "execution_count": 2,
   "metadata": {
    "id": "gWupqHzmP9gX"
   },
   "outputs": [],
   "source": [
    "import re\n",
    "import numpy as np\n",
    "\n",
    "from gensim.models import Word2Vec\n",
    "from nltk.corpus import gutenberg\n",
    "from multiprocessing import Pool\n",
    "from scipy import spatial"
   ]
  },
  {
   "cell_type": "code",
   "execution_count": 3,
   "metadata": {
    "id": "nLGTx1ElQHrQ"
   },
   "outputs": [],
   "source": [
    "sentences = list(gutenberg.sents('shakespeare-hamlet.txt'))   # import the corpus and convert into a list"
   ]
  },
  {
   "cell_type": "code",
   "execution_count": 6,
   "metadata": {
    "colab": {
     "base_uri": "https://localhost:8080/"
    },
    "id": "H79mNNODQXUH",
    "outputId": "bd5d8091-a3c4-452e-b0f2-3c23b2b9df82"
   },
   "outputs": [
    {
     "name": "stdout",
     "output_type": "stream",
     "text": [
      "Type of corpus:  <class 'list'>\n",
      "Length of corpus:  3106\n"
     ]
    }
   ],
   "source": [
    "print('Type of corpus: ', type(sentences))\n",
    "print('Length of corpus: ', len(sentences))"
   ]
  },
  {
   "cell_type": "code",
   "execution_count": 5,
   "metadata": {
    "colab": {
     "base_uri": "https://localhost:8080/"
    },
    "id": "q8K0b3fGQZcn",
    "outputId": "270d4c8b-14c2-49b1-9fbd-db0cabb96f46"
   },
   "outputs": [
    {
     "name": "stdout",
     "output_type": "stream",
     "text": [
      "['[', 'The', 'Tragedie', 'of', 'Hamlet', 'by', 'William', 'Shakespeare', '1599', ']']\n",
      "['Actus', 'Primus', '.']\n",
      "['Fran', '.']\n"
     ]
    }
   ],
   "source": [
    "print(sentences[0])    # title, author, and year\n",
    "print(sentences[1])\n",
    "print(sentences[10])"
   ]
  },
  {
   "cell_type": "code",
   "execution_count": 7,
   "metadata": {
    "id": "KsGHQriaQaG4"
   },
   "outputs": [],
   "source": [
    "for i in range(len(sentences)):\n",
    "    sentences[i] = [word.lower() for word in sentences[i] if re.match('^[a-zA-Z]+', word)]"
   ]
  },
  {
   "cell_type": "code",
   "execution_count": 8,
   "metadata": {
    "colab": {
     "base_uri": "https://localhost:8080/"
    },
    "id": "i1IQBT-yQaYY",
    "outputId": "4527ebd2-d256-4cb4-ca34-3925ce3d9fc6"
   },
   "outputs": [
    {
     "name": "stdout",
     "output_type": "stream",
     "text": [
      "['the', 'tragedie', 'of', 'hamlet', 'by', 'william', 'shakespeare']\n",
      "['actus', 'primus']\n",
      "['fran']\n"
     ]
    }
   ],
   "source": [
    "print(sentences[0])    # title, author, and year\n",
    "print(sentences[1])\n",
    "print(sentences[10])"
   ]
  },
  {
   "cell_type": "code",
   "execution_count": 9,
   "metadata": {
    "id": "EUK-e5DrQhZg"
   },
   "outputs": [],
   "source": [
    "model = Word2Vec(sentences = sentences, sg = 1, window = 3, min_count = 1, workers = Pool()._processes)\n"
   ]
  },
  {
   "cell_type": "code",
   "execution_count": 10,
   "metadata": {
    "colab": {
     "base_uri": "https://localhost:8080/"
    },
    "id": "wFcfkUc4QhM_",
    "outputId": "6cd5ec83-f74e-4c65-e9f4-baa14f52ff4b"
   },
   "outputs": [
    {
     "name": "stderr",
     "output_type": "stream",
     "text": [
      "<ipython-input-10-7f554896ee84>:1: DeprecationWarning: Call to deprecated `init_sims` (Gensim 4.0.0 implemented internal optimizations that make calls to init_sims() unnecessary. init_sims() is now obsoleted and will be completely removed in future versions. See https://github.com/RaRe-Technologies/gensim/wiki/Migrating-from-Gensim-3.x-to-4).\n",
      "  model.init_sims(replace = True)\n",
      "WARNING:gensim.models.keyedvectors:destructive init_sims(replace=True) deprecated & no longer required for space-efficiency\n"
     ]
    }
   ],
   "source": [
    "model.init_sims(replace = True)"
   ]
  },
  {
   "cell_type": "code",
   "execution_count": 11,
   "metadata": {
    "id": "9dy3BoErQ0Go"
   },
   "outputs": [],
   "source": [
    "model.save('word2vec_model')"
   ]
  },
  {
   "cell_type": "code",
   "execution_count": 12,
   "metadata": {
    "id": "ltBu0vLbQz__"
   },
   "outputs": [],
   "source": [
    "model = Word2Vec.load('word2vec_model')"
   ]
  },
  {
   "cell_type": "code",
   "execution_count": 13,
   "metadata": {
    "colab": {
     "base_uri": "https://localhost:8080/"
    },
    "id": "Fvuc8orzRPMW",
    "outputId": "fadc78ab-28cb-4581-9059-d136a09520a6"
   },
   "outputs": [
    {
     "data": {
      "text/plain": [
       "[('dead', 0.9987521171569824),\n",
       " ('reason', 0.9987239837646484),\n",
       " ('ile', 0.9986864924430847),\n",
       " ('how', 0.9986754655838013),\n",
       " ('oh', 0.9986502528190613),\n",
       " ('world', 0.9985995888710022),\n",
       " ('two', 0.9985890984535217),\n",
       " ('horatio', 0.9985722899436951),\n",
       " ('from', 0.9985711574554443),\n",
       " ('king', 0.9985672235488892)]"
      ]
     },
     "execution_count": 13,
     "metadata": {},
     "output_type": "execute_result"
    }
   ],
   "source": [
    "#model.most_similar('hamlet')\n",
    "model.wv.most_similar('hamlet')\n"
   ]
  },
  {
   "cell_type": "code",
   "execution_count": 14,
   "metadata": {
    "colab": {
     "base_uri": "https://localhost:8080/"
    },
    "id": "wf6n5P9AUchC",
    "outputId": "15adffdb-2c1d-431e-f991-f4bad4f42c6e"
   },
   "outputs": [
    {
     "name": "stdout",
     "output_type": "stream",
     "text": [
      "[-0.11739685  0.11579896  0.01494352  0.0448162   0.02213641 -0.16963547\n",
      "  0.06040271  0.26405808 -0.08323283 -0.12847129 -0.07734657 -0.2104141\n",
      "  0.0034417   0.05054953  0.03458461 -0.07223433  0.10726075 -0.14096846\n",
      " -0.01229617 -0.25974357  0.10410102  0.02356508  0.02391523 -0.06743395\n",
      "  0.01106389  0.05362882 -0.05224765 -0.07600742 -0.14943038  0.02869405\n",
      "  0.10966264 -0.02464151  0.04842858 -0.18900685 -0.04219686  0.14349653\n",
      "  0.02636661 -0.06227878  0.00155418 -0.20886797  0.02807686 -0.14780591\n",
      " -0.07793131 -0.04466217  0.18132795 -0.08973245 -0.16056313 -0.03108935\n",
      "  0.077943    0.06476587  0.05918683 -0.0770755  -0.1105437   0.00423525\n",
      " -0.04167869  0.01969109  0.05568342 -0.08531695 -0.2049723   0.03333414\n",
      "  0.00703548  0.04152723  0.00156262 -0.06892443 -0.14889511  0.13336444\n",
      " -0.0184131   0.08572398 -0.13997504  0.16307074 -0.02411737  0.10878024\n",
      "  0.13104612 -0.03350438  0.1391273   0.00471458  0.01608452 -0.0106812\n",
      " -0.13809508 -0.04141701 -0.0550491   0.00546374 -0.03652801  0.13563147\n",
      " -0.00986015 -0.03841185  0.075034    0.09729815  0.12257423  0.01279641\n",
      "  0.12487407  0.04459502  0.08817202 -0.04758981  0.18067126  0.12717849\n",
      "  0.06469849 -0.11641827  0.03697148  0.07789315]\n",
      "[-0.13394421  0.08574323  0.00143201  0.0194187   0.03292563 -0.14900842\n",
      "  0.03621016  0.26448503 -0.09464579 -0.13514225 -0.05666236 -0.2141313\n",
      " -0.02911059  0.04029572  0.03401101 -0.08647479  0.08117561 -0.13847332\n",
      " -0.03167749 -0.25896934  0.11257991  0.0274      0.03774294 -0.07014713\n",
      " -0.01645098  0.02669922 -0.04991977 -0.0753153  -0.14484769  0.05661269\n",
      "  0.12515096 -0.04806899  0.02624869 -0.16421181 -0.02096442  0.15117623\n",
      "  0.00441064 -0.04587966  0.00779113 -0.24300067  0.01599861 -0.12139514\n",
      " -0.09228356 -0.0133828   0.22728044 -0.10521241 -0.19062059 -0.04503519\n",
      "  0.06313756  0.04858346  0.06804065 -0.09856164 -0.13950747 -0.00057482\n",
      " -0.01721524  0.00176624  0.05512559 -0.07021358 -0.18091159 -0.00442159\n",
      "  0.02130218  0.04165144  0.0133957  -0.08549934 -0.17378025  0.10441227\n",
      "  0.01445595  0.05045263 -0.16441198  0.18471216 -0.00880663  0.10228827\n",
      "  0.12665018 -0.0430449   0.11744493  0.01310279 -0.00055499 -0.0209194\n",
      " -0.12193667 -0.02660964 -0.02309163  0.02123395 -0.03616445  0.1018009\n",
      "  0.03073669 -0.06335333  0.04091374  0.10369758  0.11529503  0.02827502\n",
      "  0.09815537  0.07133805  0.08271795 -0.06270248  0.17651135  0.12458233\n",
      "  0.04300224 -0.11542433  0.03159955  0.06140023]\n"
     ]
    }
   ],
   "source": [
    "v1 = model.wv['king']\n",
    "v2 = model.wv['queen']\n",
    "print(v1)\n",
    "print(v2)"
   ]
  },
  {
   "cell_type": "code",
   "execution_count": 17,
   "metadata": {
    "colab": {
     "base_uri": "https://localhost:8080/"
    },
    "id": "O9kgq3gaU-ZS",
    "outputId": "c443d731-af87-412c-82ea-a36fe915cc1e"
   },
   "outputs": [
    {
     "data": {
      "text/plain": [
       "array([[0.98022616]], dtype=float32)"
      ]
     },
     "execution_count": 17,
     "metadata": {},
     "output_type": "execute_result"
    }
   ],
   "source": [
    "from sklearn.metrics.pairwise import cosine_similarity\n",
    "cosine_similarity([v1], [v2])"
   ]
  }
 ],
 "metadata": {
  "colab": {
   "provenance": []
  },
  "kernelspec": {
   "display_name": "Python 3 (ipykernel)",
   "language": "python",
   "name": "python3"
  },
  "language_info": {
   "codemirror_mode": {
    "name": "ipython",
    "version": 3
   },
   "file_extension": ".py",
   "mimetype": "text/x-python",
   "name": "python",
   "nbconvert_exporter": "python",
   "pygments_lexer": "ipython3",
   "version": "3.10.13"
  }
 },
 "nbformat": 4,
 "nbformat_minor": 1
}
