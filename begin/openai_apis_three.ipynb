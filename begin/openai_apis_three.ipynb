{
 "cells": [
  {
   "cell_type": "code",
   "execution_count": null,
   "metadata": {
    "colab": {
     "base_uri": "https://localhost:8080/"
    },
    "id": "P5gSZH1ZT5UH",
    "outputId": "91455e68-b2a5-49a0-8343-e167be045f25"
   },
   "outputs": [],
   "source": [
    "!pip install openai"
   ]
  },
  {
   "cell_type": "code",
   "execution_count": 1,
   "metadata": {
    "id": "_pNUoargUKve"
   },
   "outputs": [],
   "source": [
    "import openai"
   ]
  },
  {
   "cell_type": "code",
   "execution_count": 2,
   "metadata": {
    "id": "MCVJlzq8azca"
   },
   "outputs": [],
   "source": [
    "openai.api_key = ''"
   ]
  },
  {
   "cell_type": "markdown",
   "metadata": {
    "id": "jx5YYt4MUb37"
   },
   "source": [
    "#1. Use the prompt \"Write a story for a kid\", with temperature value 0.1,0.5,0,9."
   ]
  },
  {
   "cell_type": "code",
   "execution_count": 4,
   "metadata": {
    "colab": {
     "base_uri": "https://localhost:8080/"
    },
    "id": "lA7n5tzzWof3",
    "outputId": "aae4db92-ee3c-43bc-e871-5ee5941a2c2e"
   },
   "outputs": [
    {
     "name": "stdout",
     "output_type": "stream",
     "text": [
      "\n",
      "\n",
      "Once upon a time, there was a little girl named Sarah. She was a very curious and adventurous girl who loved to explore the world around her.\n",
      "\n",
      "One day, Sarah decided to go on an adventure and explore the woods near her home. She packed a bag with some snacks and a few supplies, and set off.\n",
      "\n",
      "As she walked through the woods, she noticed a small path that she had never seen before. She decided to follow it and see where it led.\n",
      "\n",
      "The path took her to a beautiful meadow filled with wildflowers and butterflies. She was so amazed by the beauty of the meadow that she decided to take a break and have a snack.\n",
      "\n",
      "Suddenly, she heard a noise coming from the bushes. She cautiously approached the bushes and found a small, furry creature. It was a baby fox!\n",
      "\n",
      "Sarah was so excited to find the fox that she decided to take it home with her. She named the fox Lucky and they became the best of friends.\n",
      "\n",
      "Every day, Sarah and Lucky would go on new adventures together. They explored the woods, played in the meadow, and even went on a few camping trips.\n",
      "\n",
      "Sarah and Lucky were inseparable\n"
     ]
    }
   ],
   "source": [
    "import openai\n",
    "\n",
    "response = openai.Completion.create(\n",
    "engine=\"text-davinci-003\",\n",
    "prompt=\"Write a story for a kid\",\n",
    "max_tokens=250,\n",
    "temperature = 0.1,\n",
    "top_p=1\n",
    ")\n",
    "print(response['choices'][0]['text'])"
   ]
  },
  {
   "cell_type": "markdown",
   "metadata": {
    "id": "cgYTIK7BUe7q"
   },
   "source": [
    "#2. Use the prompt \"Write a Article on Yoga\", by varing max_taken and Temperature parameters.\n"
   ]
  },
  {
   "cell_type": "code",
   "execution_count": 5,
   "metadata": {
    "id": "uv5tFhNjYc-Q"
   },
   "outputs": [
    {
     "name": "stdout",
     "output_type": "stream",
     "text": [
      "\n",
      "\n",
      "Yoga is an ancient practice that has been around for centuries. It is a form of physical, mental, and spiritual exercise that has been used to promote health and well-being. It is a system of postures, breathing techniques, and meditation that can help to reduce stress, improve flexibility, and increase strength and balance.\n",
      "\n",
      "Yoga is a great way to improve your overall health and well-being. It can help to reduce stress, improve flexibility, and increase strength and balance. It can also help to improve your posture, reduce fatigue, and improve your overall quality of life. Yoga can be practiced by anyone, regardless of age, gender, or physical ability.\n",
      "\n",
      "Yoga can be practiced in many different ways. There are many different styles of yoga, including Hatha, Vinyasa, Ashtanga, and Iyengar. Each style has its own set of postures and breathing techniques that can help to promote health and well-being.\n",
      "\n",
      "Yoga can be practiced in a variety of settings, such as at home, in a studio, or outdoors. It can also be practiced alone or in a group setting. It is important to find a style of yoga that works for you and to practice regularly.\n",
      "\n",
      "Yoga can be an excellent way to improve your overall health and well-being. It can help to reduce stress, improve flexibility, and increase strength and balance. It can also help to improve your posture, reduce fatigue, and improve your overall quality of life. If you are looking for a way to improve your overall health and well-being, then yoga may be the perfect choice for you.\n"
     ]
    }
   ],
   "source": [
    "response = openai.Completion.create(\n",
    "engine=\"text-davinci-003\",\n",
    "prompt=\"Write a Article on Yoga\",\n",
    "max_tokens=500,\n",
    "temperature = 0.3,\n",
    "top_p=1\n",
    ")\n",
    "print(response['choices'][0]['text'])"
   ]
  },
  {
   "cell_type": "markdown",
   "metadata": {
    "id": "95p3FJ1-W_DG"
   },
   "source": [
    "#3.Use the Prompt \"Tell me something about the current technologies \" frequency penalty and presence penalty set to 0.1,0.5,0.9"
   ]
  },
  {
   "cell_type": "code",
   "execution_count": null,
   "metadata": {
    "id": "OAkCYk5tUaV3"
   },
   "outputs": [],
   "source": [
    "response = openai.Completion.create(\n",
    "engine=\"text-davinci-003\",\n",
    "prompt=\"Tell me something about the current technologies\",\n",
    "max_tokens=500,\n",
    "temperature = 0,\n",
    "top_p=1,\n",
    "frequency_penalty =0.1,\n",
    "presence_penalty = 0.1\n",
    ")\n",
    "print(response['choices'][0]['text'])"
   ]
  },
  {
   "cell_type": "code",
   "execution_count": null,
   "metadata": {
    "id": "nFC3YiZnZLoo"
   },
   "outputs": [],
   "source": [
    "response = openai.Completion.create(\n",
    "engine=\"text-davinci-003\",\n",
    "prompt=\"Tell me something about the current technologies\",\n",
    "max_tokens=500,\n",
    "temperature = 0,\n",
    "top_p=1,\n",
    "frequency_penalty =0.9,\n",
    "presence_penalty = 0.9\n",
    ")\n",
    "print(response['choices'][0]['text'])"
   ]
  },
  {
   "cell_type": "code",
   "execution_count": null,
   "metadata": {
    "id": "DbNR5DDaZDnp"
   },
   "outputs": [],
   "source": [
    "response = openai.Completion.create(\n",
    "engine=\"text-davinci-003\",\n",
    "prompt=\"Tell me something about the current technologies\",\n",
    "max_tokens=500,\n",
    "temperature = 0,\n",
    "top_p=1,\n",
    "frequency_penalty =-1,\n",
    "presence_penalty = -1\n",
    ")\n",
    "print(response['choices'][0]['text'])"
   ]
  },
  {
   "cell_type": "code",
   "execution_count": null,
   "metadata": {
    "id": "WrKk_DCRc5Am"
   },
   "outputs": [],
   "source": [
    "response = openai.Completion.create(\n",
    "engine=\"text-davinci-003\",\n",
    "prompt=\"Tell me something about the current technologies\",\n",
    "max_tokens=500,\n",
    "temperature = 0,\n",
    "top_p=1,\n",
    "frequency_penalty =2,\n",
    "presence_penalty = 2\n",
    ")\n",
    "print(response['choices'][0]['text'])"
   ]
  },
  {
   "cell_type": "code",
   "execution_count": null,
   "metadata": {
    "colab": {
     "base_uri": "https://localhost:8080/"
    },
    "id": "i8EZaiGmcnn9",
    "outputId": "4105265f-6a5b-4bbd-dfb6-63d54b1773e8"
   },
   "outputs": [],
   "source": [
    "import openai\n",
    "\n",
    "response=openai.Completion.create(\n",
    "    engine=\"text-davinci-003\",\n",
    "    prompt=\"what are the different parameters of openai.Completion.create\",\n",
    "    max_tokens=1024,\n",
    "    temperature=1,\n",
    "    top_p=1,\n",
    "    frequency_penalty= 1,\n",
    "    presence_penalty=1\n",
    ")\n",
    "print(response['choices'][0]['text'])"
   ]
  },
  {
   "cell_type": "code",
   "execution_count": 6,
   "metadata": {
    "colab": {
     "base_uri": "https://localhost:8080/"
    },
    "id": "9sALhVoXg_kf",
    "outputId": "48439893-e463-4263-bae1-a6e75be37095"
   },
   "outputs": [
    {
     "name": "stdout",
     "output_type": "stream",
     "text": [
      "positive sentiment\n"
     ]
    }
   ],
   "source": [
    "import openai\n",
    "\n",
    "prompt1 = \"Classify the following text as positive or negative sentiment:'This movie is highly entertaining.'\"\n",
    "messages = [{\"role\": \"user\", \"content\": prompt1}]\n",
    "response = openai.ChatCompletion.create(\n",
    "  model=\"gpt-3.5-turbo\",\n",
    "  messages=messages,\n",
    "  temperature=1)\n",
    "\n",
    "print(response['choices'][0].message[\"content\"])"
   ]
  },
  {
   "cell_type": "code",
   "execution_count": null,
   "metadata": {
    "colab": {
     "base_uri": "https://localhost:8080/"
    },
    "id": "RhRHu44qV6xT",
    "outputId": "8587f54f-7a8d-4399-d5f5-5cb84fbb8a73"
   },
   "outputs": [],
   "source": [
    "import openai\n",
    "\n",
    "prompt1 = '''Summarize the main idea in the following text.\n",
    "Text: The rapid growth of technology has led to significant advancements in various industries.\n",
    "From communication and transportation to healthcare and education, technology has played a crucial role in improving our lives.\n",
    "However, we must also be cautious of the potential negative effects, such as job loss due to automation and privacy concerns.\n",
    "\n",
    "Output:'''\n",
    "messages = [{\"role\": \"user\", \"content\": prompt1}]\n",
    "response = openai.ChatCompletion.create(\n",
    "  model=\"gpt-3.5-turbo\",\n",
    "  messages=messages,\n",
    "  temperature=1)\n",
    "\n",
    "print(response['choices'][0].message[\"content\"])"
   ]
  },
  {
   "cell_type": "code",
   "execution_count": 11,
   "metadata": {
    "colab": {
     "base_uri": "https://localhost:8080/"
    },
    "id": "4585aCdOWs1k",
    "outputId": "54a5dea5-6d03-472d-fe23-61bc5fd4f0a2"
   },
   "outputs": [
    {
     "name": "stdout",
     "output_type": "stream",
     "text": [
      "হ্যালো বন্ধুরা, আশা করি এই পাইথন সেশনটি আকর্ষণীয়? (Hello bondhura, asha kori ei python sessionti akarshoniyo?)\n"
     ]
    }
   ],
   "source": [
    "import openai\n",
    "\n",
    "prompt1 = '''Translate the following sentence from English to Bengali:\n",
    "\n",
    "'Hello friends, I hope this python session is interesting?'''\n",
    "messages = [{\"role\": \"user\", \"content\": prompt1}]\n",
    "response = openai.ChatCompletion.create(\n",
    "  model=\"gpt-3.5-turbo\",\n",
    "  messages=messages,\n",
    "  temperature=0.1)\n",
    "\n",
    "print(response['choices'][0].message[\"content\"])"
   ]
  },
  {
   "cell_type": "code",
   "execution_count": null,
   "metadata": {
    "colab": {
     "base_uri": "https://localhost:8080/"
    },
    "id": "uCxTvjjPWxey",
    "outputId": "faddca39-3eab-4053-d3f6-4004e9648618"
   },
   "outputs": [],
   "source": [
    "import openai\n",
    "\n",
    "prompt1 = '''Identify all the named entities related to sports in the following text:\n",
    "\n",
    "'Roger Federer won the tennis championship.'''\n",
    "messages = [{\"role\": \"user\", \"content\": prompt1}]\n",
    "response = openai.ChatCompletion.create(\n",
    "  model=\"gpt-3.5-turbo\",\n",
    "  messages=messages,\n",
    "  temperature=1)\n",
    "\n",
    "print(response['choices'][0].message[\"content\"])"
   ]
  },
  {
   "cell_type": "code",
   "execution_count": null,
   "metadata": {
    "colab": {
     "base_uri": "https://localhost:8080/"
    },
    "id": "hoqucSBSW-lT",
    "outputId": "0af04071-f5e0-469e-d44e-5e81cfa69982"
   },
   "outputs": [],
   "source": [
    "import openai\n",
    "\n",
    "prompt1 = '''Answer the following question: 'What is the capital of India?'''\n",
    "messages = [{\"role\": \"user\", \"content\": prompt1}]\n",
    "response = openai.ChatCompletion.create(\n",
    "  model=\"gpt-3.5-turbo\",\n",
    "  messages=messages,\n",
    "  temperature=1)\n",
    "\n",
    "print(response['choices'][0].message[\"content\"])"
   ]
  },
  {
   "cell_type": "code",
   "execution_count": null,
   "metadata": {
    "colab": {
     "base_uri": "https://localhost:8080/"
    },
    "id": "RC2loB8yXawH",
    "outputId": "600686b1-8778-4d0a-cc10-2d5b9b1e3fd0"
   },
   "outputs": [],
   "source": [
    "import openai\n",
    "\n",
    "prompt1 = '''\n",
    "Please answer the question from the passage provided and if its out of passage say its out of my scope\n",
    "Passage: Globalization is the process by which economies, cultures, and populations around the world become more integrated and interdependent. It is driven by advances in technology, transportation and communication, which have facilitated the flow of people, goods and ideas across national borders. Globalization has both positive and negative aspects. On the positive side, it has led to economic growth, the spread of new ideas and technologies, and increased cultural exchange. In many parts of the world, it has also helped reduce poverty and raise living standards. But globalization has also had negative consequences. This has led to job losses in some sectors, as companies move production to countries with lower labour costs. It has also contributed to income inequality and environmental degradation, as companies prioritize profits over sustainability.\n",
    "Question: What is globalization and what are the driving forces behind it?\n",
    "Answer : Globalization refers to the increasing interconnectedness and interdependence of the world’s economies, cultures, and populations. It is driven by advances in technology, transportation and communication.\n",
    "Question1 : What are some positive aspects of globalization?\n",
    "Answer:\n",
    "Question2: Who is Prime minister of India?\n",
    "Answer:'''\n",
    "messages = [{\"role\": \"user\", \"content\": prompt1}]\n",
    "response = openai.ChatCompletion.create(\n",
    "  model=\"gpt-3.5-turbo\",\n",
    "  messages=messages,\n",
    "  temperature=1)\n",
    "\n",
    "print(response['choices'][0].message[\"content\"])"
   ]
  },
  {
   "cell_type": "code",
   "execution_count": null,
   "metadata": {
    "colab": {
     "base_uri": "https://localhost:8080/"
    },
    "id": "PQUdTZa5dAPp",
    "outputId": "66105c25-af64-46cb-cfc9-33de6655e411"
   },
   "outputs": [],
   "source": [
    "import openai\n",
    "\n",
    "prompt1 = '''\n",
    "Which is a faster way to get home?\n",
    "question:\n",
    "Option 1: Take an 10 minutes bus, then an 40 minute bus, and finally a 10 minute train.\n",
    "Option 2: Take a 90 minutes train, then a 45 minute bike ride, and finally a 10 minute bus.\n",
    "solution:\n",
    "Option 1 will take 10+40+10 = 60 minutes.\n",
    "Option 2 will take 90+45+10=145 minutes.\n",
    "Since Option 1 takes 60 minutes and Option 2 takes 145 minutes, Option 1 is faster.\n",
    "question :\n",
    "Which is a faster way to get to work?\n",
    "Option 1: Take a 1000 minute bus, then a half hour train, and finally a 10 minute bike ride.\n",
    "Option 2: Take an 800 minute bus, then an hour train, and finally a 30 minute bike ride.'''\n",
    "messages = [{\"role\": \"user\", \"content\": prompt1}]\n",
    "response = openai.ChatCompletion.create(\n",
    "  model=\"gpt-3.5-turbo\",\n",
    "  messages=messages,\n",
    "  temperature=1)\n",
    "\n",
    "print(response['choices'][0].message[\"content\"])"
   ]
  },
  {
   "cell_type": "code",
   "execution_count": null,
   "metadata": {
    "colab": {
     "base_uri": "https://localhost:8080/"
    },
    "id": "G1LeD1OVfduX",
    "outputId": "41f9ae36-cde5-445c-fefc-1e3e260a2428"
   },
   "outputs": [],
   "source": [
    "import openai\n",
    "\n",
    "prompt1 = '''\n",
    "Perform a series of arithmetic calculations: 2 + 3, subtract 5 from 12, multiply 8 by 6, and divide 50 by 10. Show the step-by-step solution.\n",
    "lets think step by step.'''\n",
    "messages = [{\"role\": \"user\", \"content\": prompt1}]\n",
    "response = openai.ChatCompletion.create(\n",
    "  model=\"gpt-3.5-turbo\",\n",
    "  messages=messages,\n",
    "  temperature=1)\n",
    "\n",
    "print(response['choices'][0].message[\"content\"])"
   ]
  },
  {
   "cell_type": "code",
   "execution_count": null,
   "metadata": {
    "colab": {
     "base_uri": "https://localhost:8080/"
    },
    "id": "E1WdQl1WhYh5",
    "outputId": "fb6ec581-7c11-425c-d701-b89b8e4d0bcf"
   },
   "outputs": [],
   "source": [
    "import openai\n",
    "openai.api_key = ''\n",
    "prompt1 = '''\n",
    "Start with the word 'apple' and apply the rule of 'last letter.' Generate a \n",
    "series of words where each word starts with the last letter of the previous word. \n",
    "Show the chain of thought.lets think step by step.'''\n",
    "messages = [{\"role\": \"user\", \"content\": prompt1}]\n",
    "response = openai.ChatCompletion.create(\n",
    "  model=\"gpt-3.5-turbo\",\n",
    "  messages=messages,\n",
    "  temperature=1)\n",
    "\n",
    "print(response['choices'][0].message[\"content\"])"
   ]
  },
  {
   "cell_type": "code",
   "execution_count": null,
   "metadata": {
    "colab": {
     "base_uri": "https://localhost:8080/"
    },
    "id": "ATfbOb6ohg-T",
    "outputId": "154869cf-5b2b-4e5e-8d32-c4d2dcb84a4b"
   },
   "outputs": [],
   "source": [
    "import openai\n",
    "openai.api_key = ''\n",
    "prompt1 = '''\n",
    "Summarize the model and Avoid mentioning any specific countries, state, geographical location or regions.\n",
    "In the brutal heatwave beating down on Uttar Pradesh and Bihar, one district in U.P., Ballia, reported the most deaths. The medical superintendent at the local government hospital was reportedly transferred after ascribing the deaths to the heat, followed by a visit by a State-appointed team to assess the local conditions. A member later told journalists that the team had expressed its doubts about the heat being a factor since the toll due to the same heatwave was lower in districts nearby. The member’s statement is a timely reminder that a heatwave is only half heat, the other being bad public infrastructure and social security. Ballia’s toll could be high because of, as the team suspects, contaminated water, or because the local people could not cool themselves. Heat’s deadliness depends on an individual’s general well-being, acclimatisation, physical exertion, comorbidities, location, relative humidity, and extent of heat exposure. But for all the complexity the interplay of these factors augurs, the fight against this mode of the climate crisis, which India is expected to suffer more often, can benefit considerably from some literacy and access to resources. Literacy needs to be rooted in a simple fact: heat is deadly when our bodies are unable to shed it as quickly as it accumulates. This can happen due to poor living conditions, adherence to caste- and gender-based strictures, or even in overcrowded hospitals. Amenities that can help include access to drinking water, indoor ventilation, health care, regular work breaks, and protections against wage loss. If a person dies in a heatwave, it is only fair to ask whether he/she was able to access these amenities.\n",
    "If U.P. and Bihar are to forge a better way forward vis-à-vis their heat response, they need to register all heat-related deaths, assign the cause, ensure the medical certificates of the cause of death (MCCDs) follow the proper codes of the most recent revision of the International Statistical Classification of Diseases and Related Health Problems, and issue them. Next, the Office of the Registrar General should compile and release MCCD data every year to facilitate independent research and policy input and to prevent time-wasting disputes over official versus actual figures. However, the office has not released the corresponding reports for 2021 and 2022. In the 2020 report, which was uploaded only last year, Bihar assigned causes to just 3.4% of registered deaths — the worst among States. Not everyone who dies during a heatwave has died due to the heat, but only if good living conditions have been the norm. If they have not, the state is as much to blame as the heat'''\n",
    "messages = [{\"role\": \"user\", \"content\": prompt1}]\n",
    "response = openai.ChatCompletion.create(\n",
    "  model=\"gpt-3.5-turbo\",\n",
    "  messages=messages,\n",
    "  temperature=1)\n",
    "\n",
    "print(response['choices'][0].message[\"content\"])"
   ]
  },
  {
   "cell_type": "code",
   "execution_count": null,
   "metadata": {
    "colab": {
     "base_uri": "https://localhost:8080/"
    },
    "id": "sfuuBHX7112H",
    "outputId": "b83f9476-e686-4413-fe3c-01fcb4b0f700"
   },
   "outputs": [],
   "source": [
    "import openai\n",
    "openai.api_key = ''\n",
    "\n",
    "prompt1 = '''\n",
    "describe the qualities of a competent software engineer'''\n",
    "messages = [{\"role\": \"user\", \"content\": prompt1}]\n",
    "response = openai.ChatCompletion.create(\n",
    "  model=\"gpt-3.5-turbo\",\n",
    "  messages=messages,\n",
    "  temperature=1)\n",
    "\n",
    "print(response['choices'][0].message[\"content\"])"
   ]
  },
  {
   "cell_type": "code",
   "execution_count": null,
   "metadata": {
    "id": "pV3tSQaW2DG1"
   },
   "outputs": [],
   "source": []
  }
 ],
 "metadata": {
  "colab": {
   "provenance": []
  },
  "kernelspec": {
   "display_name": "Python 3 (ipykernel)",
   "language": "python",
   "name": "python3"
  },
  "language_info": {
   "codemirror_mode": {
    "name": "ipython",
    "version": 3
   },
   "file_extension": ".py",
   "mimetype": "text/x-python",
   "name": "python",
   "nbconvert_exporter": "python",
   "pygments_lexer": "ipython3",
   "version": "3.10.13"
  }
 },
 "nbformat": 4,
 "nbformat_minor": 1
}
