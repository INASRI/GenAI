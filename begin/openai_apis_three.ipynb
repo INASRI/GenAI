{
  "cells": [
    {
      "cell_type": "code",
      "execution_count": 1,
      "metadata": {
        "colab": {
          "base_uri": "https://localhost:8080/"
        },
        "id": "P5gSZH1ZT5UH",
        "outputId": "6455b2d6-8fc7-4474-84a2-94b1f799ef46"
      },
      "outputs": [
        {
          "output_type": "stream",
          "name": "stdout",
          "text": [
            "Requirement already satisfied: openai in /usr/local/lib/python3.11/dist-packages (1.59.9)\n",
            "Requirement already satisfied: anyio<5,>=3.5.0 in /usr/local/lib/python3.11/dist-packages (from openai) (3.7.1)\n",
            "Requirement already satisfied: distro<2,>=1.7.0 in /usr/local/lib/python3.11/dist-packages (from openai) (1.9.0)\n",
            "Requirement already satisfied: httpx<1,>=0.23.0 in /usr/local/lib/python3.11/dist-packages (from openai) (0.28.1)\n",
            "Requirement already satisfied: jiter<1,>=0.4.0 in /usr/local/lib/python3.11/dist-packages (from openai) (0.8.2)\n",
            "Requirement already satisfied: pydantic<3,>=1.9.0 in /usr/local/lib/python3.11/dist-packages (from openai) (2.10.5)\n",
            "Requirement already satisfied: sniffio in /usr/local/lib/python3.11/dist-packages (from openai) (1.3.1)\n",
            "Requirement already satisfied: tqdm>4 in /usr/local/lib/python3.11/dist-packages (from openai) (4.67.1)\n",
            "Requirement already satisfied: typing-extensions<5,>=4.11 in /usr/local/lib/python3.11/dist-packages (from openai) (4.12.2)\n",
            "Requirement already satisfied: idna>=2.8 in /usr/local/lib/python3.11/dist-packages (from anyio<5,>=3.5.0->openai) (3.10)\n",
            "Requirement already satisfied: certifi in /usr/local/lib/python3.11/dist-packages (from httpx<1,>=0.23.0->openai) (2024.12.14)\n",
            "Requirement already satisfied: httpcore==1.* in /usr/local/lib/python3.11/dist-packages (from httpx<1,>=0.23.0->openai) (1.0.7)\n",
            "Requirement already satisfied: h11<0.15,>=0.13 in /usr/local/lib/python3.11/dist-packages (from httpcore==1.*->httpx<1,>=0.23.0->openai) (0.14.0)\n",
            "Requirement already satisfied: annotated-types>=0.6.0 in /usr/local/lib/python3.11/dist-packages (from pydantic<3,>=1.9.0->openai) (0.7.0)\n",
            "Requirement already satisfied: pydantic-core==2.27.2 in /usr/local/lib/python3.11/dist-packages (from pydantic<3,>=1.9.0->openai) (2.27.2)\n"
          ]
        }
      ],
      "source": [
        "!pip install openai"
      ]
    },
    {
      "cell_type": "code",
      "execution_count": 2,
      "metadata": {
        "colab": {
          "base_uri": "https://localhost:8080/"
        },
        "id": "lA7n5tzzWof3",
        "outputId": "d3812a95-af7c-433f-b798-56039110d5be"
      },
      "outputs": [
        {
          "output_type": "stream",
          "name": "stdout",
          "text": [
            "Once upon a time, in a magical land far far away, there lived a little girl named Lily. Lily was a curious and adventurous child who loved to explore the world around her.\n",
            "\n",
            "One day, while playing in the forest near her house, Lily stumbled upon a hidden cave. Intrigued, she decided to venture inside. To her surprise, she found a sparkling crystal lying in the center of the cave. As soon as she touched it, the crystal began to glow brightly and a gentle voice spoke to her.\n",
            "\n",
            "\"I am the Crystal of Wishes,\" the voice said. \"I have the power to grant you three wishes. Use them wisely.\"\n",
            "\n",
            "Lily couldn't believe her luck. She quickly closed her eyes and wished for a beautiful garden filled with colorful flowers. In an instant, the cave transformed into a magical garden, with flowers of every hue blooming all around her.\n",
            "\n",
            "For her second wish, Lily wished for a pet unicorn to accompany her on all her adventures. And just like that, a majestic unicorn appeared before her, nuzzling her with its soft, white mane.\n",
            "\n",
            "For her final wish, Lily thought long and hard. She decided to wish for peace and happiness for all the creatures in the world. The Crystal of Wishes glowed even brighter, and a warm, comforting energy spread throughout the land.\n",
            "\n",
            "From that day on, Lily and her unicorn traveled the world, spreading joy and happiness wherever they went. And though she never needed to use the Crystal of Wishes again, Lily knew that its magic would always be with her, guiding her on her journey through life.\n",
            "\n",
            "And so, with her faithful unicorn by her side, Lily lived happily ever after, knowing that true magic comes from kindness and love.\n"
          ]
        }
      ],
      "source": [
        "import openai\n",
        "openai.api_key = ''\n",
        "\n",
        "prompt1=\"Write a story for a kid\"\n",
        "messages = [{\"role\": \"user\", \"content\": prompt1}]\n",
        "# Use the new API structure for chat completions\n",
        "response = openai.chat.completions.create(\n",
        "    model=\"gpt-3.5-turbo\",\n",
        "    messages=messages,\n",
        "    temperature=1\n",
        ")\n",
        "\n",
        "#print(response)\n",
        "print(response.choices[0].message.content)"
      ]
    },
    {
      "cell_type": "code",
      "source": [
        "import openai\n",
        "openai.api_key = ''\n",
        "\n",
        "prompt1=\"Write a Article on Yoga\"\n",
        "messages = [{\"role\": \"user\", \"content\": prompt1}]\n",
        "# Use the new API structure for chat completions\n",
        "response = openai.chat.completions.create(\n",
        "    model=\"gpt-3.5-turbo\",\n",
        "    messages=messages,\n",
        "    temperature=1\n",
        ")\n",
        "\n",
        "#print(response)\n",
        "print(response.choices[0].message.content)"
      ],
      "metadata": {
        "colab": {
          "base_uri": "https://localhost:8080/"
        },
        "id": "jA-mJdiHJdRn",
        "outputId": "fa70e5f3-bccf-4bc2-f771-bd9bbca1e8e7"
      },
      "execution_count": 3,
      "outputs": [
        {
          "output_type": "stream",
          "name": "stdout",
          "text": [
            "Yoga is an ancient practice that originated in India over 5,000 years ago. It is a holistic approach to health and well-being that combines physical postures, breathing techniques, meditation, and mindfulness to help individuals achieve balance, flexibility, strength, and inner peace.\n",
            "\n",
            "One of the key aspects of yoga is the practice of asanas, or physical postures. These postures are designed to stretch and strengthen the body, improve flexibility, and increase circulation. Some common yoga poses include downward dog, tree pose, and child's pose. By practicing these postures regularly, individuals can improve their overall physical health and reduce the risk of injury.\n",
            "\n",
            "In addition to the physical benefits, yoga also has numerous mental and emotional benefits. The practice of yoga encourages individuals to focus on the present moment, letting go of stress and anxiety. By incorporating breathing techniques and meditation into their practice, individuals can calm their minds, improve their mental clarity, and reduce feelings of depression and anxiety.\n",
            "\n",
            "Furthermore, yoga can also have a positive impact on overall well-being. By practicing mindfulness and self-awareness, individuals can develop a deeper connection with themselves and others. This can lead to improved relationships, increased empathy, and a greater sense of purpose and fulfillment in life.\n",
            "\n",
            "Yoga is accessible to people of all ages and fitness levels. Whether you are a beginner or an experienced practitioner, there is a style of yoga that can suit your needs and preferences. From gentle, restorative yoga to more vigorous, fast-paced practices, there is a wide range of options to choose from.\n",
            "\n",
            "In conclusion, yoga is a powerful practice that offers a wide range of physical, mental, and emotional benefits. By incorporating yoga into your daily routine, you can improve your overall health and well-being, reduce stress and anxiety, and cultivate a greater sense of peace and balance in your life. So, roll out your mat, take a deep breath, and start your journey to a healthier and happier you with yoga.\n"
          ]
        }
      ]
    },
    {
      "cell_type": "markdown",
      "metadata": {
        "id": "95p3FJ1-W_DG"
      },
      "source": [
        "#3.Use the Prompt \"Tell me something about the current technologies \" frequency penalty and presence penalty set to 0.1,0.5,0.9"
      ]
    },
    {
      "cell_type": "code",
      "source": [
        "import openai\n",
        "openai.api_key = ''\n",
        "\n",
        "prompt1=\"what are the different parameters of openai.chat.completions.create\"\n",
        "messages = [{\"role\": \"user\", \"content\": prompt1}]\n",
        "# Use the new API structure for chat completions\n",
        "response = openai.chat.completions.create(\n",
        "    model=\"gpt-3.5-turbo\", #text-davinci-003 gpt-3.5-turbo\n",
        "    messages=messages,\n",
        "    temperature=1\n",
        ")\n",
        "\n",
        "#print(response)\n",
        "print(response.choices[0].message.content)"
      ],
      "metadata": {
        "colab": {
          "base_uri": "https://localhost:8080/"
        },
        "id": "EPXtwqRLJydG",
        "outputId": "94ff1610-9921-4bb3-f51b-0a2048d4a16c"
      },
      "execution_count": 6,
      "outputs": [
        {
          "output_type": "stream",
          "name": "stdout",
          "text": [
            "The parameters of the OpenAI API endpoint openai.Chat.Completions.create are as follows:\n",
            "\n",
            "1. model (string): This parameter specifies the AI model that should be used for generating the completions. It can be set to either \"davinci\" or \"curie\" depending on the specific AI model you want to use.\n",
            "\n",
            "2. max_tokens (int): This parameter specifies the maximum number of tokens (words) that should be generated in the completions. \n",
            "\n",
            "3. prompt (string): This parameter specifies the input text that the AI model should use for generating the completions. \n",
            "\n",
            "4. temperature (float): This parameter controls the randomness of the responses generated by the AI model. A lower temperature value will result in more predictable responses, while a higher temperature value will result in more diverse and creative responses.\n",
            "\n",
            "5. top_p (float): This parameter controls the diversity of the responses generated by the AI model. The model will choose from the top p probability token choices for each token, where p is a value between 0 and 1. \n",
            "\n",
            "6. frequency_penalty (float): This parameter penalizes tokens that have already been used in the completion. A higher value will result in the AI model preferring to use new tokens instead of repeating previously used ones.\n",
            "\n",
            "7. presence_penalty (float): This parameter penalizes tokens that are not present in the prompt text. A higher value will result in the AI model trying to generate completions that are more consistent with the input prompt.\n",
            "\n",
            "8. stop (array of strings): This parameter specifies a list of token sequences that should be treated as stopping points for the completions. If the AI model generates a completion that contains any of the stop sequences, it will stop generating tokens at that point.\n"
          ]
        }
      ]
    },
    {
      "cell_type": "code",
      "source": [
        "import openai\n",
        "openai.api_key = ''\n",
        "\n",
        "prompt1=\"Tell me something about the current technologies\"\n",
        "messages = [{\"role\": \"user\", \"content\": prompt1}]\n",
        "# Use the new API structure for chat completions\n",
        "response = openai.chat.completions.create(\n",
        "    model=\"gpt-3.5-turbo\", #text-davinci-003 gpt-3.5-turbo\n",
        "    messages=messages,\n",
        "    temperature=1\n",
        ")\n",
        "\n",
        "#print(response)\n",
        "print(response.choices[0].message.content)"
      ],
      "metadata": {
        "colab": {
          "base_uri": "https://localhost:8080/"
        },
        "id": "lscMz72ILA7H",
        "outputId": "d4136a0e-82ee-4382-f71f-9619195612bb"
      },
      "execution_count": 7,
      "outputs": [
        {
          "output_type": "stream",
          "name": "stdout",
          "text": [
            "Sure! Current technologies are rapidly evolving and encompass a wide range of advancements across various industries. Some notable trends in technology include artificial intelligence, machine learning, internet of things, virtual and augmented reality, blockchain, 5G connectivity, and quantum computing. These technologies are transforming how businesses operate, how people communicate, and how data is processed and analyzed. Additionally, cybersecurity and data privacy have become increasingly important considerations as technology continues to advance. Overall, the rapid pace of technological innovation is shaping the way we live, work, and interact with the world around us.\n"
          ]
        }
      ]
    },
    {
      "cell_type": "code",
      "source": [
        "import openai\n",
        "openai.api_key = ''\n",
        "\n",
        "prompt1 = \"Classify the following text as positive or negative sentiment:'This movie is highly entertaining.'\"\n",
        "messages = [{\"role\": \"user\", \"content\": prompt1}]\n",
        "# Use the new API structure for chat completions\n",
        "response = openai.chat.completions.create(\n",
        "    model=\"gpt-3.5-turbo\", #text-davinci-003 gpt-3.5-turbo\n",
        "    messages=messages,\n",
        "    temperature=1\n",
        ")\n",
        "\n",
        "#print(response)\n",
        "print(response.choices[0].message.content)"
      ],
      "metadata": {
        "colab": {
          "base_uri": "https://localhost:8080/"
        },
        "id": "nnOcUv1HLzig",
        "outputId": "7d1f38bf-89a6-43b9-cee8-1158c8e2c65b"
      },
      "execution_count": 1,
      "outputs": [
        {
          "output_type": "stream",
          "name": "stdout",
          "text": [
            "Positive sentiment\n"
          ]
        }
      ]
    },
    {
      "cell_type": "code",
      "source": [
        "import openai\n",
        "openai.api_key = ''\n",
        "\n",
        "\n",
        "prompt1 = '''Translate the following sentence from English to Bengali:\n",
        "\n",
        "'Hello friends, I hope this python session is interesting?'''\n",
        "messages = [{\"role\": \"user\", \"content\": prompt1}]\n",
        "# Use the new API structure for chat completions\n",
        "response = openai.chat.completions.create(\n",
        "    model=\"gpt-3.5-turbo\", #text-davinci-003 gpt-3.5-turbo\n",
        "    messages=messages,\n",
        "    temperature=1\n",
        ")\n",
        "\n",
        "#print(response)\n",
        "print(response.choices[0].message.content)"
      ],
      "metadata": {
        "colab": {
          "base_uri": "https://localhost:8080/"
        },
        "id": "-3RLaCSnL8iG",
        "outputId": "065aa10d-71e8-42a3-b400-a2d6f0d28f42"
      },
      "execution_count": 2,
      "outputs": [
        {
          "output_type": "stream",
          "name": "stdout",
          "text": [
            "'হ্যালো বন্ধুরা, আশা করি এই পাইথন সেশনটা মজাদার।'\n"
          ]
        }
      ]
    },
    {
      "cell_type": "code",
      "source": [
        "import openai\n",
        "openai.api_key = ''\n",
        "\n",
        "prompt1 = '''Identify all the named entities related to sports in the following text:\n",
        "\n",
        "'Roger Federer won the tennis championship.'''\n",
        "messages = [{\"role\": \"user\", \"content\": prompt1}]\n",
        "# Use the new API structure for chat completions\n",
        "response = openai.chat.completions.create(\n",
        "    model=\"gpt-3.5-turbo\", #text-davinci-003 gpt-3.5-turbo\n",
        "    messages=messages,\n",
        "    temperature=1\n",
        ")\n",
        "\n",
        "#print(response)\n",
        "print(response.choices[0].message.content)"
      ],
      "metadata": {
        "colab": {
          "base_uri": "https://localhost:8080/"
        },
        "id": "kJBEh6WQNANO",
        "outputId": "1b00bd54-4dae-44a7-ea8f-83118a6b08d6"
      },
      "execution_count": 3,
      "outputs": [
        {
          "output_type": "stream",
          "name": "stdout",
          "text": [
            "- Roger Federer\n"
          ]
        }
      ]
    },
    {
      "cell_type": "code",
      "source": [
        "import openai\n",
        "openai.api_key = ''\n",
        "\n",
        "prompt1 = '''\n",
        "Start with the word 'apple' and apply the rule of 'last letter.' Generate a\n",
        "series of words where each word starts with the last letter of the previous word.\n",
        "Show the chain of thought.lets think step by step.'''\n",
        "messages = [{\"role\": \"user\", \"content\": prompt1}]\n",
        "# Use the new API structure for chat completions\n",
        "response = openai.chat.completions.create(\n",
        "    model=\"gpt-3.5-turbo\", #text-davinci-003 gpt-3.5-turbo\n",
        "    messages=messages,\n",
        "    temperature=1\n",
        ")\n",
        "\n",
        "#print(response)\n",
        "print(response.choices[0].message.content)"
      ],
      "metadata": {
        "colab": {
          "base_uri": "https://localhost:8080/"
        },
        "id": "UEC0tCvXNOVN",
        "outputId": "a5475d77-e68a-4faa-94ec-349bfff698fe"
      },
      "execution_count": 4,
      "outputs": [
        {
          "output_type": "stream",
          "name": "stdout",
          "text": [
            "apple -> elephant -> tiger -> rabbit -> tiger -> raccoon -> narwhal -> lion -> newt.\n"
          ]
        }
      ]
    },
    {
      "cell_type": "code",
      "execution_count": null,
      "metadata": {
        "id": "pV3tSQaW2DG1"
      },
      "outputs": [],
      "source": []
    }
  ],
  "metadata": {
    "colab": {
      "provenance": []
    },
    "kernelspec": {
      "display_name": "Python 3 (ipykernel)",
      "language": "python",
      "name": "python3"
    },
    "language_info": {
      "codemirror_mode": {
        "name": "ipython",
        "version": 3
      },
      "file_extension": ".py",
      "mimetype": "text/x-python",
      "name": "python",
      "nbconvert_exporter": "python",
      "pygments_lexer": "ipython3",
      "version": "3.10.13"
    }
  },
  "nbformat": 4,
  "nbformat_minor": 0
}