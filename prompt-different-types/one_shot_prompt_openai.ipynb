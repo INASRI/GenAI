{
  "nbformat": 4,
  "nbformat_minor": 0,
  "metadata": {
    "colab": {
      "provenance": []
    },
    "kernelspec": {
      "name": "python3",
      "display_name": "Python 3"
    },
    "language_info": {
      "name": "python"
    }
  },
  "cells": [
    {
      "cell_type": "code",
      "source": [
        "import openai\n",
        "import os"
      ],
      "metadata": {
        "id": "7YjmnkEepXFb"
      },
      "execution_count": 1,
      "outputs": []
    },
    {
      "cell_type": "code",
      "source": [
        "# Initialize the OpenAI client with your API key\n",
        "client = openai.OpenAI(api_key=\"\") # add openai api key here\n",
        "\n",
        "# Define the messages for the chat\n",
        "messages = [\n",
        "    {\"role\": \"user\", \"content\":\n",
        "     \"\"\"\n",
        "     Classify the sentiment of the given sentences as positive, negative, or neutral.\n",
        "     Example:\n",
        "     Sentence: \"I absolutely love this product. It's fantastic!\"\n",
        "     Sentiment: Positive\n",
        "\n",
        "     Now classify this sentence:\n",
        "     Sentence: \"The product arrived late and was damaged.\"\n",
        "     Sentiment:\n",
        "     \"\"\"\n",
        "    }\n",
        "]\n"
      ],
      "metadata": {
        "id": "XP3SQOW8pcJD"
      },
      "execution_count": 2,
      "outputs": []
    },
    {
      "cell_type": "code",
      "source": [
        "# Create a chat completion\n",
        "response = client.chat.completions.create(\n",
        "    model=\"gpt-4\",  # Specify the model, e.g., \"gpt-4\" or \"gpt-3.5-turbo\"\n",
        "    messages=messages,\n",
        "    max_tokens=50,\n",
        "    temperature=0.7\n",
        ")"
      ],
      "metadata": {
        "id": "wp3RbG7fpKV6"
      },
      "execution_count": 3,
      "outputs": []
    },
    {
      "cell_type": "code",
      "source": [
        "# Extract and print the assistant's reply\n",
        "assistant_reply = response.choices[0].message.content\n",
        "print(assistant_reply)"
      ],
      "metadata": {
        "colab": {
          "base_uri": "https://localhost:8080/"
        },
        "id": "NJkVdyN_pgAm",
        "outputId": "5c743efb-4d9d-4523-884b-fdeb19eb6466"
      },
      "execution_count": 4,
      "outputs": [
        {
          "output_type": "stream",
          "name": "stdout",
          "text": [
            "Negative\n"
          ]
        }
      ]
    },
    {
      "cell_type": "code",
      "source": [],
      "metadata": {
        "id": "U5ezQAP0pfu6"
      },
      "execution_count": null,
      "outputs": []
    }
  ]
}