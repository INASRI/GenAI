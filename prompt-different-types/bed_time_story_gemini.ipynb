{
  "nbformat": 4,
  "nbformat_minor": 0,
  "metadata": {
    "colab": {
      "provenance": []
    },
    "kernelspec": {
      "name": "python3",
      "display_name": "Python 3"
    },
    "language_info": {
      "name": "python"
    }
  },
  "cells": [
    {
      "cell_type": "code",
      "execution_count": null,
      "metadata": {
        "colab": {
          "base_uri": "https://localhost:8080/",
          "height": 384
        },
        "id": "Pv8YdE1ioU5q",
        "outputId": "39477d58-d5de-4d2f-a521-d1153ca7179d"
      },
      "outputs": [
        {
          "output_type": "stream",
          "name": "stdout",
          "text": [
            "Once upon a time, in a cozy little town nestled between rolling hills, lived a little girl named Lily. Lily loved to paint, and her room was filled with colorful pictures of rainbows, butterflies, and happy little animals. \n",
            "\n",
            "One day, Lily was painting a picture of a giant, fluffy cloud with a playful rainbow peeking out from behind it. As she painted, the cloud in her picture started to shimmer and glow! To Lily's surprise, the cloud in her painting began to float out of the canvas and into her room! \n",
            "\n",
            "The cloud was soft and fluffy, and it smelled like fresh rain and sunshine. It had a playful twinkle in its eye and a smile that stretched across its whole round face. \n",
            "\n",
            "\"Hello, Lily!\" the cloud boomed, its voice like gentle thunder. \"I'm Cloudy, and I'm here to take you on an adventure!\"\n",
            "\n",
            "Lily gasped in amazement. This was the most amazing thing that had ever happened to her! She jumped onto the cloud, holding onto a fluffy rainbow that was trailing behind it. \n",
            "\n",
            "Cloudy soared through the sky, taking Lily on a breathtaking journey. They flew past fields of sunflowers, over shimmering lakes, and even through a magical forest where talking trees whispered stories in the breeze. \n",
            "\n",
            "They met a mischievous wind who spun Lily around like a top, and a friendly raindrop who gave her a refreshing shower. Lily even learned to paint the sky with her own hands, creating beautiful rainbows and fluffy clouds. \n",
            "\n",
            "After a day full of wonder and adventure, Cloudy gently lowered Lily back to her room. The little girl was filled with joy and excitement, her heart overflowing with the magic of her adventure. \n",
            "\n",
            "As she climbed into bed, Lily held onto a small cloud she had painted, a reminder of her amazing journey with Cloudy. She smiled, knowing that even though Cloudy had gone back to his world, the magic of her adventure would always stay with her.\n",
            "\n",
            "Lily closed her eyes, and as she drifted off to sleep, she could still hear the gentle whisper of the wind and see the colorful glow of her own painted rainbows. \n",
            "\n"
          ]
        }
      ],
      "source": [
        "\"\"\"\n",
        "Install the Google AI Python SDK\n",
        "\n",
        "$ pip install google-generativeai\n",
        "\n",
        "See the getting started guide for more information:\n",
        "https://ai.google.dev/gemini-api/docs/get-started/python\n",
        "\"\"\"\n",
        "\n",
        "import os\n",
        "\n",
        "import google.generativeai as genai\n",
        "\n",
        "genai.configure(api_key=\"\")\n",
        "\n",
        "# Create the model\n",
        "generation_config = {\n",
        "  \"temperature\": 1,\n",
        "  \"top_p\": 0.95,\n",
        "  \"top_k\": 64,\n",
        "  \"max_output_tokens\": 8192,\n",
        "  \"response_mime_type\": \"text/plain\",\n",
        "}\n",
        "\n",
        "model = genai.GenerativeModel(\n",
        "  model_name=\"gemini-1.5-flash\",\n",
        "  generation_config=generation_config,\n",
        "  # safety_settings = Adjust safety settings\n",
        "  # See https://ai.google.dev/gemini-api/docs/safety-settings\n",
        ")\n",
        "\n",
        "response = chat_session.send_message(\"Give me another bed time story\")\n",
        "\n",
        "print(response.text)"
      ]
    }
  ]
}